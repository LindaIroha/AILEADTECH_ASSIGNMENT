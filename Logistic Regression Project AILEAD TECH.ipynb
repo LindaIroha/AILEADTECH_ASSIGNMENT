{
 "cells": [
  {
   "cell_type": "code",
   "execution_count": 556,
   "id": "870558ae",
   "metadata": {},
   "outputs": [],
   "source": [
    "#import necessary libraries\n",
    "import pandas as pd\n",
    "import matplotlib.pyplot as plt\n",
    "import seaborn as sns\n",
    "import numpy as np"
   ]
  },
  {
   "cell_type": "code",
   "execution_count": 557,
   "id": "e8ea2460",
   "metadata": {},
   "outputs": [],
   "source": [
    "import warnings\n",
    "\n",
    "# Suppress all warnings\n",
    "warnings.filterwarnings(\"ignore\")\n",
    "\n",
    "# Reset warnings to default behavior\n",
    "warnings.resetwarnings()"
   ]
  },
  {
   "cell_type": "code",
   "execution_count": 558,
   "id": "b3e6fd06",
   "metadata": {},
   "outputs": [],
   "source": [
    "#read the file\n",
    "df = pd.read_csv('who_data.csv')"
   ]
  },
  {
   "cell_type": "code",
   "execution_count": 559,
   "id": "156aab3c",
   "metadata": {},
   "outputs": [
    {
     "data": {
      "text/html": [
       "<div>\n",
       "<style scoped>\n",
       "    .dataframe tbody tr th:only-of-type {\n",
       "        vertical-align: middle;\n",
       "    }\n",
       "\n",
       "    .dataframe tbody tr th {\n",
       "        vertical-align: top;\n",
       "    }\n",
       "\n",
       "    .dataframe thead th {\n",
       "        text-align: right;\n",
       "    }\n",
       "</style>\n",
       "<table border=\"1\" class=\"dataframe\">\n",
       "  <thead>\n",
       "    <tr style=\"text-align: right;\">\n",
       "      <th></th>\n",
       "      <th>age</th>\n",
       "      <th>workclass</th>\n",
       "      <th>fnlwgt</th>\n",
       "      <th>education</th>\n",
       "      <th>education_no_of_years</th>\n",
       "      <th>marital_status</th>\n",
       "      <th>occupation</th>\n",
       "      <th>relationship</th>\n",
       "      <th>race</th>\n",
       "      <th>sex</th>\n",
       "      <th>capital_gain</th>\n",
       "      <th>capital_loss</th>\n",
       "      <th>working_hours_per_week</th>\n",
       "      <th>native_country</th>\n",
       "      <th>salary</th>\n",
       "    </tr>\n",
       "  </thead>\n",
       "  <tbody>\n",
       "    <tr>\n",
       "      <th>0</th>\n",
       "      <td>39</td>\n",
       "      <td>State-gov</td>\n",
       "      <td>77516</td>\n",
       "      <td>Bachelors</td>\n",
       "      <td>13</td>\n",
       "      <td>Never-married</td>\n",
       "      <td>Adm-clerical</td>\n",
       "      <td>Not-in-family</td>\n",
       "      <td>White</td>\n",
       "      <td>Male</td>\n",
       "      <td>2174</td>\n",
       "      <td>0</td>\n",
       "      <td>40</td>\n",
       "      <td>United-States</td>\n",
       "      <td>&lt;=50K</td>\n",
       "    </tr>\n",
       "    <tr>\n",
       "      <th>1</th>\n",
       "      <td>50</td>\n",
       "      <td>Self-emp-not-inc</td>\n",
       "      <td>83311</td>\n",
       "      <td>Bachelors</td>\n",
       "      <td>13</td>\n",
       "      <td>Married-civ-spouse</td>\n",
       "      <td>Exec-managerial</td>\n",
       "      <td>Husband</td>\n",
       "      <td>White</td>\n",
       "      <td>Male</td>\n",
       "      <td>0</td>\n",
       "      <td>0</td>\n",
       "      <td>13</td>\n",
       "      <td>United-States</td>\n",
       "      <td>&lt;=50K</td>\n",
       "    </tr>\n",
       "    <tr>\n",
       "      <th>2</th>\n",
       "      <td>38</td>\n",
       "      <td>Private</td>\n",
       "      <td>215646</td>\n",
       "      <td>HS-grad</td>\n",
       "      <td>9</td>\n",
       "      <td>Divorced</td>\n",
       "      <td>Handlers-cleaners</td>\n",
       "      <td>Not-in-family</td>\n",
       "      <td>White</td>\n",
       "      <td>Male</td>\n",
       "      <td>0</td>\n",
       "      <td>0</td>\n",
       "      <td>40</td>\n",
       "      <td>United-States</td>\n",
       "      <td>&lt;=50K</td>\n",
       "    </tr>\n",
       "    <tr>\n",
       "      <th>3</th>\n",
       "      <td>53</td>\n",
       "      <td>Private</td>\n",
       "      <td>234721</td>\n",
       "      <td>11th</td>\n",
       "      <td>7</td>\n",
       "      <td>Married-civ-spouse</td>\n",
       "      <td>Handlers-cleaners</td>\n",
       "      <td>Husband</td>\n",
       "      <td>Black</td>\n",
       "      <td>Male</td>\n",
       "      <td>0</td>\n",
       "      <td>0</td>\n",
       "      <td>40</td>\n",
       "      <td>United-States</td>\n",
       "      <td>&lt;=50K</td>\n",
       "    </tr>\n",
       "    <tr>\n",
       "      <th>4</th>\n",
       "      <td>28</td>\n",
       "      <td>Private</td>\n",
       "      <td>338409</td>\n",
       "      <td>Bachelors</td>\n",
       "      <td>13</td>\n",
       "      <td>Married-civ-spouse</td>\n",
       "      <td>Prof-specialty</td>\n",
       "      <td>Wife</td>\n",
       "      <td>Black</td>\n",
       "      <td>Female</td>\n",
       "      <td>0</td>\n",
       "      <td>0</td>\n",
       "      <td>40</td>\n",
       "      <td>Cuba</td>\n",
       "      <td>&lt;=50K</td>\n",
       "    </tr>\n",
       "    <tr>\n",
       "      <th>...</th>\n",
       "      <td>...</td>\n",
       "      <td>...</td>\n",
       "      <td>...</td>\n",
       "      <td>...</td>\n",
       "      <td>...</td>\n",
       "      <td>...</td>\n",
       "      <td>...</td>\n",
       "      <td>...</td>\n",
       "      <td>...</td>\n",
       "      <td>...</td>\n",
       "      <td>...</td>\n",
       "      <td>...</td>\n",
       "      <td>...</td>\n",
       "      <td>...</td>\n",
       "      <td>...</td>\n",
       "    </tr>\n",
       "    <tr>\n",
       "      <th>32556</th>\n",
       "      <td>27</td>\n",
       "      <td>Private</td>\n",
       "      <td>257302</td>\n",
       "      <td>Assoc-acdm</td>\n",
       "      <td>12</td>\n",
       "      <td>Married-civ-spouse</td>\n",
       "      <td>Tech-support</td>\n",
       "      <td>Wife</td>\n",
       "      <td>White</td>\n",
       "      <td>Female</td>\n",
       "      <td>0</td>\n",
       "      <td>0</td>\n",
       "      <td>38</td>\n",
       "      <td>United-States</td>\n",
       "      <td>&lt;=50K</td>\n",
       "    </tr>\n",
       "    <tr>\n",
       "      <th>32557</th>\n",
       "      <td>40</td>\n",
       "      <td>Private</td>\n",
       "      <td>154374</td>\n",
       "      <td>HS-grad</td>\n",
       "      <td>9</td>\n",
       "      <td>Married-civ-spouse</td>\n",
       "      <td>Machine-op-inspct</td>\n",
       "      <td>Husband</td>\n",
       "      <td>White</td>\n",
       "      <td>Male</td>\n",
       "      <td>0</td>\n",
       "      <td>0</td>\n",
       "      <td>40</td>\n",
       "      <td>United-States</td>\n",
       "      <td>&gt;50K</td>\n",
       "    </tr>\n",
       "    <tr>\n",
       "      <th>32558</th>\n",
       "      <td>58</td>\n",
       "      <td>Private</td>\n",
       "      <td>151910</td>\n",
       "      <td>HS-grad</td>\n",
       "      <td>9</td>\n",
       "      <td>Widowed</td>\n",
       "      <td>Adm-clerical</td>\n",
       "      <td>Unmarried</td>\n",
       "      <td>White</td>\n",
       "      <td>Female</td>\n",
       "      <td>0</td>\n",
       "      <td>0</td>\n",
       "      <td>40</td>\n",
       "      <td>United-States</td>\n",
       "      <td>&lt;=50K</td>\n",
       "    </tr>\n",
       "    <tr>\n",
       "      <th>32559</th>\n",
       "      <td>22</td>\n",
       "      <td>Private</td>\n",
       "      <td>201490</td>\n",
       "      <td>HS-grad</td>\n",
       "      <td>9</td>\n",
       "      <td>Never-married</td>\n",
       "      <td>Adm-clerical</td>\n",
       "      <td>Own-child</td>\n",
       "      <td>White</td>\n",
       "      <td>Male</td>\n",
       "      <td>0</td>\n",
       "      <td>0</td>\n",
       "      <td>20</td>\n",
       "      <td>United-States</td>\n",
       "      <td>&lt;=50K</td>\n",
       "    </tr>\n",
       "    <tr>\n",
       "      <th>32560</th>\n",
       "      <td>52</td>\n",
       "      <td>Self-emp-inc</td>\n",
       "      <td>287927</td>\n",
       "      <td>HS-grad</td>\n",
       "      <td>9</td>\n",
       "      <td>Married-civ-spouse</td>\n",
       "      <td>Exec-managerial</td>\n",
       "      <td>Wife</td>\n",
       "      <td>White</td>\n",
       "      <td>Female</td>\n",
       "      <td>15024</td>\n",
       "      <td>0</td>\n",
       "      <td>40</td>\n",
       "      <td>United-States</td>\n",
       "      <td>&gt;50K</td>\n",
       "    </tr>\n",
       "  </tbody>\n",
       "</table>\n",
       "<p>32561 rows × 15 columns</p>\n",
       "</div>"
      ],
      "text/plain": [
       "       age          workclass  fnlwgt    education  education_no_of_years  \\\n",
       "0       39          State-gov   77516    Bachelors                     13   \n",
       "1       50   Self-emp-not-inc   83311    Bachelors                     13   \n",
       "2       38            Private  215646      HS-grad                      9   \n",
       "3       53            Private  234721         11th                      7   \n",
       "4       28            Private  338409    Bachelors                     13   \n",
       "...    ...                ...     ...          ...                    ...   \n",
       "32556   27            Private  257302   Assoc-acdm                     12   \n",
       "32557   40            Private  154374      HS-grad                      9   \n",
       "32558   58            Private  151910      HS-grad                      9   \n",
       "32559   22            Private  201490      HS-grad                      9   \n",
       "32560   52       Self-emp-inc  287927      HS-grad                      9   \n",
       "\n",
       "            marital_status          occupation    relationship    race  \\\n",
       "0            Never-married        Adm-clerical   Not-in-family   White   \n",
       "1       Married-civ-spouse     Exec-managerial         Husband   White   \n",
       "2                 Divorced   Handlers-cleaners   Not-in-family   White   \n",
       "3       Married-civ-spouse   Handlers-cleaners         Husband   Black   \n",
       "4       Married-civ-spouse      Prof-specialty            Wife   Black   \n",
       "...                    ...                 ...             ...     ...   \n",
       "32556   Married-civ-spouse        Tech-support            Wife   White   \n",
       "32557   Married-civ-spouse   Machine-op-inspct         Husband   White   \n",
       "32558              Widowed        Adm-clerical       Unmarried   White   \n",
       "32559        Never-married        Adm-clerical       Own-child   White   \n",
       "32560   Married-civ-spouse     Exec-managerial            Wife   White   \n",
       "\n",
       "           sex  capital_gain  capital_loss  working_hours_per_week  \\\n",
       "0         Male          2174             0                      40   \n",
       "1         Male             0             0                      13   \n",
       "2         Male             0             0                      40   \n",
       "3         Male             0             0                      40   \n",
       "4       Female             0             0                      40   \n",
       "...        ...           ...           ...                     ...   \n",
       "32556   Female             0             0                      38   \n",
       "32557     Male             0             0                      40   \n",
       "32558   Female             0             0                      40   \n",
       "32559     Male             0             0                      20   \n",
       "32560   Female         15024             0                      40   \n",
       "\n",
       "       native_country  salary  \n",
       "0       United-States   <=50K  \n",
       "1       United-States   <=50K  \n",
       "2       United-States   <=50K  \n",
       "3       United-States   <=50K  \n",
       "4                Cuba   <=50K  \n",
       "...               ...     ...  \n",
       "32556   United-States   <=50K  \n",
       "32557   United-States    >50K  \n",
       "32558   United-States   <=50K  \n",
       "32559   United-States   <=50K  \n",
       "32560   United-States    >50K  \n",
       "\n",
       "[32561 rows x 15 columns]"
      ]
     },
     "execution_count": 559,
     "metadata": {},
     "output_type": "execute_result"
    }
   ],
   "source": [
    "#examine the dataframe\n",
    "df"
   ]
  },
  {
   "cell_type": "markdown",
   "id": "6c12c7e6",
   "metadata": {},
   "source": [
    "## Exploratory Data Analysis"
   ]
  },
  {
   "cell_type": "code",
   "execution_count": 560,
   "id": "3a1517f4",
   "metadata": {},
   "outputs": [
    {
     "data": {
      "text/plain": [
       "24"
      ]
     },
     "execution_count": 560,
     "metadata": {},
     "output_type": "execute_result"
    }
   ],
   "source": [
    "#check for duplicate rows\n",
    "df.duplicated().sum()"
   ]
  },
  {
   "cell_type": "code",
   "execution_count": 561,
   "id": "91e3c164",
   "metadata": {},
   "outputs": [
    {
     "data": {
      "text/plain": [
       "age                       0\n",
       "workclass                 0\n",
       "fnlwgt                    0\n",
       "education                 0\n",
       "education_no_of_years     0\n",
       "marital_status            0\n",
       "occupation                0\n",
       "relationship              0\n",
       "race                      0\n",
       "sex                       0\n",
       "capital_gain              0\n",
       "capital_loss              0\n",
       "working_hours_per_week    0\n",
       "native_country            0\n",
       "salary                    0\n",
       "dtype: int64"
      ]
     },
     "execution_count": 561,
     "metadata": {},
     "output_type": "execute_result"
    }
   ],
   "source": [
    "#check for null values\n",
    "df.isnull().sum()"
   ]
  },
  {
   "cell_type": "code",
   "execution_count": 562,
   "id": "a3365218",
   "metadata": {},
   "outputs": [],
   "source": [
    "#function that will itrate through the coulmns and print the value_counts\n",
    "def value_count(column):\n",
    "    for col in column:\n",
    "        print(df[col].value_counts())\n",
    "        print(\"----------------------\")"
   ]
  },
  {
   "cell_type": "code",
   "execution_count": 563,
   "id": "875ae44a",
   "metadata": {},
   "outputs": [
    {
     "name": "stdout",
     "output_type": "stream",
     "text": [
      "36    898\n",
      "31    888\n",
      "34    886\n",
      "23    877\n",
      "35    876\n",
      "     ... \n",
      "83      6\n",
      "88      3\n",
      "85      3\n",
      "86      1\n",
      "87      1\n",
      "Name: age, Length: 73, dtype: int64\n",
      "----------------------\n",
      " Private             22696\n",
      " Self-emp-not-inc     2541\n",
      " Local-gov            2093\n",
      " ?                    1836\n",
      " State-gov            1298\n",
      " Self-emp-inc         1116\n",
      " Federal-gov           960\n",
      " Without-pay            14\n",
      " Never-worked            7\n",
      "Name: workclass, dtype: int64\n",
      "----------------------\n",
      "164190    13\n",
      "203488    13\n",
      "123011    13\n",
      "148995    12\n",
      "121124    12\n",
      "          ..\n",
      "232784     1\n",
      "325573     1\n",
      "140176     1\n",
      "318264     1\n",
      "257302     1\n",
      "Name: fnlwgt, Length: 21648, dtype: int64\n",
      "----------------------\n",
      " HS-grad         10501\n",
      " Some-college     7291\n",
      " Bachelors        5355\n",
      " Masters          1723\n",
      " Assoc-voc        1382\n",
      " 11th             1175\n",
      " Assoc-acdm       1067\n",
      " 10th              933\n",
      " 7th-8th           646\n",
      " Prof-school       576\n",
      " 9th               514\n",
      " 12th              433\n",
      " Doctorate         413\n",
      " 5th-6th           333\n",
      " 1st-4th           168\n",
      " Preschool          51\n",
      "Name: education, dtype: int64\n",
      "----------------------\n",
      "9     10501\n",
      "10     7291\n",
      "13     5355\n",
      "14     1723\n",
      "11     1382\n",
      "7      1175\n",
      "12     1067\n",
      "6       933\n",
      "4       646\n",
      "15      576\n",
      "5       514\n",
      "8       433\n",
      "16      413\n",
      "3       333\n",
      "2       168\n",
      "1        51\n",
      "Name: education_no_of_years, dtype: int64\n",
      "----------------------\n",
      " Married-civ-spouse       14976\n",
      " Never-married            10683\n",
      " Divorced                  4443\n",
      " Separated                 1025\n",
      " Widowed                    993\n",
      " Married-spouse-absent      418\n",
      " Married-AF-spouse           23\n",
      "Name: marital_status, dtype: int64\n",
      "----------------------\n",
      " Prof-specialty       4140\n",
      " Craft-repair         4099\n",
      " Exec-managerial      4066\n",
      " Adm-clerical         3770\n",
      " Sales                3650\n",
      " Other-service        3295\n",
      " Machine-op-inspct    2002\n",
      " ?                    1843\n",
      " Transport-moving     1597\n",
      " Handlers-cleaners    1370\n",
      " Farming-fishing       994\n",
      " Tech-support          928\n",
      " Protective-serv       649\n",
      " Priv-house-serv       149\n",
      " Armed-Forces            9\n",
      "Name: occupation, dtype: int64\n",
      "----------------------\n",
      " Husband           13193\n",
      " Not-in-family      8305\n",
      " Own-child          5068\n",
      " Unmarried          3446\n",
      " Wife               1568\n",
      " Other-relative      981\n",
      "Name: relationship, dtype: int64\n",
      "----------------------\n",
      " White                 27816\n",
      " Black                  3124\n",
      " Asian-Pac-Islander     1039\n",
      " Amer-Indian-Eskimo      311\n",
      " Other                   271\n",
      "Name: race, dtype: int64\n",
      "----------------------\n",
      " Male      21790\n",
      " Female    10771\n",
      "Name: sex, dtype: int64\n",
      "----------------------\n",
      "0        29849\n",
      "15024      347\n",
      "7688       284\n",
      "7298       246\n",
      "99999      159\n",
      "         ...  \n",
      "1111         1\n",
      "2538         1\n",
      "22040        1\n",
      "4931         1\n",
      "5060         1\n",
      "Name: capital_gain, Length: 119, dtype: int64\n",
      "----------------------\n",
      "0       31042\n",
      "1902      202\n",
      "1977      168\n",
      "1887      159\n",
      "1848       51\n",
      "        ...  \n",
      "2080        1\n",
      "1539        1\n",
      "1844        1\n",
      "2489        1\n",
      "1411        1\n",
      "Name: capital_loss, Length: 92, dtype: int64\n",
      "----------------------\n",
      "40    15217\n",
      "50     2819\n",
      "45     1824\n",
      "60     1475\n",
      "35     1297\n",
      "      ...  \n",
      "82        1\n",
      "92        1\n",
      "87        1\n",
      "74        1\n",
      "94        1\n",
      "Name: working_hours_per_week, Length: 94, dtype: int64\n",
      "----------------------\n",
      " United-States                 29170\n",
      " Mexico                          643\n",
      " ?                               583\n",
      " Philippines                     198\n",
      " Germany                         137\n",
      " Canada                          121\n",
      " Puerto-Rico                     114\n",
      " El-Salvador                     106\n",
      " India                           100\n",
      " Cuba                             95\n",
      " England                          90\n",
      " Jamaica                          81\n",
      " South                            80\n",
      " China                            75\n",
      " Italy                            73\n",
      " Dominican-Republic               70\n",
      " Vietnam                          67\n",
      " Guatemala                        64\n",
      " Japan                            62\n",
      " Poland                           60\n",
      " Columbia                         59\n",
      " Taiwan                           51\n",
      " Haiti                            44\n",
      " Iran                             43\n",
      " Portugal                         37\n",
      " Nicaragua                        34\n",
      " Peru                             31\n",
      " France                           29\n",
      " Greece                           29\n",
      " Ecuador                          28\n",
      " Ireland                          24\n",
      " Hong                             20\n",
      " Cambodia                         19\n",
      " Trinadad&Tobago                  19\n",
      " Laos                             18\n",
      " Thailand                         18\n",
      " Yugoslavia                       16\n",
      " Outlying-US(Guam-USVI-etc)       14\n",
      " Honduras                         13\n",
      " Hungary                          13\n",
      " Scotland                         12\n",
      " Holand-Netherlands                1\n",
      "Name: native_country, dtype: int64\n",
      "----------------------\n",
      " <=50K    24720\n",
      " >50K      7841\n",
      "Name: salary, dtype: int64\n",
      "----------------------\n"
     ]
    }
   ],
   "source": [
    "#call the function\n",
    "value_count(['age', 'workclass', 'fnlwgt', 'education', 'education_no_of_years', 'marital_status', 'occupation', 'relationship', 'race', 'sex', 'capital_gain', 'capital_loss','working_hours_per_week', 'native_country', 'salary'])"
   ]
  },
  {
   "cell_type": "code",
   "execution_count": 565,
   "id": "0619c954",
   "metadata": {},
   "outputs": [
    {
     "name": "stdout",
     "output_type": "stream",
     "text": [
      "<class 'pandas.core.frame.DataFrame'>\n",
      "RangeIndex: 32561 entries, 0 to 32560\n",
      "Data columns (total 15 columns):\n",
      " #   Column                  Non-Null Count  Dtype \n",
      "---  ------                  --------------  ----- \n",
      " 0   age                     32561 non-null  int64 \n",
      " 1   workclass               32561 non-null  object\n",
      " 2   fnlwgt                  32561 non-null  int64 \n",
      " 3   education               32561 non-null  object\n",
      " 4   education_no_of_years   32561 non-null  int64 \n",
      " 5   marital_status          32561 non-null  object\n",
      " 6   occupation              32561 non-null  object\n",
      " 7   relationship            32561 non-null  object\n",
      " 8   race                    32561 non-null  object\n",
      " 9   sex                     32561 non-null  object\n",
      " 10  capital_gain            32561 non-null  int64 \n",
      " 11  capital_loss            32561 non-null  int64 \n",
      " 12  working_hours_per_week  32561 non-null  int64 \n",
      " 13  native_country          32561 non-null  object\n",
      " 14  salary                  32561 non-null  object\n",
      "dtypes: int64(6), object(9)\n",
      "memory usage: 3.7+ MB\n"
     ]
    }
   ],
   "source": [
    "#summary of the dataframe\n",
    "df.info()"
   ]
  },
  {
   "cell_type": "code",
   "execution_count": 566,
   "id": "5d0b7df7",
   "metadata": {},
   "outputs": [
    {
     "data": {
      "text/plain": [
       "array([' <=50K', ' >50K'], dtype=object)"
      ]
     },
     "execution_count": 566,
     "metadata": {},
     "output_type": "execute_result"
    }
   ],
   "source": [
    "# checking the unique values of the target variable. this can also give insight into the type of model to build\n",
    "df.salary.unique()"
   ]
  },
  {
   "cell_type": "code",
   "execution_count": 567,
   "id": "03e1dfcf",
   "metadata": {},
   "outputs": [],
   "source": [
    "#function to check the data type of all the variables\n",
    "def dtype(column):\n",
    "    for col in column:\n",
    "        print(col)\n",
    "        print(df[col].dtypes)\n",
    "        print(f'------------------------------')"
   ]
  },
  {
   "cell_type": "code",
   "execution_count": 568,
   "id": "4ddcdea0",
   "metadata": {},
   "outputs": [
    {
     "name": "stdout",
     "output_type": "stream",
     "text": [
      "age\n",
      "int64\n",
      "------------------------------\n",
      "workclass\n",
      "object\n",
      "------------------------------\n",
      "fnlwgt\n",
      "int64\n",
      "------------------------------\n",
      "education\n",
      "object\n",
      "------------------------------\n",
      "education_no_of_years\n",
      "int64\n",
      "------------------------------\n",
      "marital_status\n",
      "object\n",
      "------------------------------\n",
      "occupation\n",
      "object\n",
      "------------------------------\n",
      "relationship\n",
      "object\n",
      "------------------------------\n",
      "race\n",
      "object\n",
      "------------------------------\n",
      "sex\n",
      "object\n",
      "------------------------------\n",
      "capital_gain\n",
      "int64\n",
      "------------------------------\n",
      "capital_loss\n",
      "int64\n",
      "------------------------------\n",
      "working_hours_per_week\n",
      "int64\n",
      "------------------------------\n",
      "native_country\n",
      "object\n",
      "------------------------------\n",
      "salary\n",
      "object\n",
      "------------------------------\n"
     ]
    }
   ],
   "source": [
    "#call the function\n",
    "dtype(['age', 'workclass', 'fnlwgt', 'education', 'education_no_of_years', 'marital_status', 'occupation', 'relationship', 'race', 'sex', 'capital_gain', 'capital_loss','working_hours_per_week', 'native_country', 'salary'])"
   ]
  },
  {
   "cell_type": "code",
   "execution_count": 569,
   "id": "f8df8404",
   "metadata": {},
   "outputs": [
    {
     "data": {
      "text/html": [
       "<div>\n",
       "<style scoped>\n",
       "    .dataframe tbody tr th:only-of-type {\n",
       "        vertical-align: middle;\n",
       "    }\n",
       "\n",
       "    .dataframe tbody tr th {\n",
       "        vertical-align: top;\n",
       "    }\n",
       "\n",
       "    .dataframe thead th {\n",
       "        text-align: right;\n",
       "    }\n",
       "</style>\n",
       "<table border=\"1\" class=\"dataframe\">\n",
       "  <thead>\n",
       "    <tr style=\"text-align: right;\">\n",
       "      <th></th>\n",
       "      <th>age</th>\n",
       "      <th>fnlwgt</th>\n",
       "      <th>education_no_of_years</th>\n",
       "      <th>capital_gain</th>\n",
       "      <th>capital_loss</th>\n",
       "      <th>working_hours_per_week</th>\n",
       "    </tr>\n",
       "  </thead>\n",
       "  <tbody>\n",
       "    <tr>\n",
       "      <th>count</th>\n",
       "      <td>32561.000000</td>\n",
       "      <td>3.256100e+04</td>\n",
       "      <td>32561.000000</td>\n",
       "      <td>32561.000000</td>\n",
       "      <td>32561.000000</td>\n",
       "      <td>32561.000000</td>\n",
       "    </tr>\n",
       "    <tr>\n",
       "      <th>mean</th>\n",
       "      <td>38.581647</td>\n",
       "      <td>1.897784e+05</td>\n",
       "      <td>10.080679</td>\n",
       "      <td>1077.648844</td>\n",
       "      <td>87.303830</td>\n",
       "      <td>40.437456</td>\n",
       "    </tr>\n",
       "    <tr>\n",
       "      <th>std</th>\n",
       "      <td>13.640433</td>\n",
       "      <td>1.055500e+05</td>\n",
       "      <td>2.572720</td>\n",
       "      <td>7385.292085</td>\n",
       "      <td>402.960219</td>\n",
       "      <td>12.347429</td>\n",
       "    </tr>\n",
       "    <tr>\n",
       "      <th>min</th>\n",
       "      <td>17.000000</td>\n",
       "      <td>1.228500e+04</td>\n",
       "      <td>1.000000</td>\n",
       "      <td>0.000000</td>\n",
       "      <td>0.000000</td>\n",
       "      <td>1.000000</td>\n",
       "    </tr>\n",
       "    <tr>\n",
       "      <th>25%</th>\n",
       "      <td>28.000000</td>\n",
       "      <td>1.178270e+05</td>\n",
       "      <td>9.000000</td>\n",
       "      <td>0.000000</td>\n",
       "      <td>0.000000</td>\n",
       "      <td>40.000000</td>\n",
       "    </tr>\n",
       "    <tr>\n",
       "      <th>50%</th>\n",
       "      <td>37.000000</td>\n",
       "      <td>1.783560e+05</td>\n",
       "      <td>10.000000</td>\n",
       "      <td>0.000000</td>\n",
       "      <td>0.000000</td>\n",
       "      <td>40.000000</td>\n",
       "    </tr>\n",
       "    <tr>\n",
       "      <th>75%</th>\n",
       "      <td>48.000000</td>\n",
       "      <td>2.370510e+05</td>\n",
       "      <td>12.000000</td>\n",
       "      <td>0.000000</td>\n",
       "      <td>0.000000</td>\n",
       "      <td>45.000000</td>\n",
       "    </tr>\n",
       "    <tr>\n",
       "      <th>max</th>\n",
       "      <td>90.000000</td>\n",
       "      <td>1.484705e+06</td>\n",
       "      <td>16.000000</td>\n",
       "      <td>99999.000000</td>\n",
       "      <td>4356.000000</td>\n",
       "      <td>99.000000</td>\n",
       "    </tr>\n",
       "  </tbody>\n",
       "</table>\n",
       "</div>"
      ],
      "text/plain": [
       "                age        fnlwgt  education_no_of_years  capital_gain  \\\n",
       "count  32561.000000  3.256100e+04           32561.000000  32561.000000   \n",
       "mean      38.581647  1.897784e+05              10.080679   1077.648844   \n",
       "std       13.640433  1.055500e+05               2.572720   7385.292085   \n",
       "min       17.000000  1.228500e+04               1.000000      0.000000   \n",
       "25%       28.000000  1.178270e+05               9.000000      0.000000   \n",
       "50%       37.000000  1.783560e+05              10.000000      0.000000   \n",
       "75%       48.000000  2.370510e+05              12.000000      0.000000   \n",
       "max       90.000000  1.484705e+06              16.000000  99999.000000   \n",
       "\n",
       "       capital_loss  working_hours_per_week  \n",
       "count  32561.000000            32561.000000  \n",
       "mean      87.303830               40.437456  \n",
       "std      402.960219               12.347429  \n",
       "min        0.000000                1.000000  \n",
       "25%        0.000000               40.000000  \n",
       "50%        0.000000               40.000000  \n",
       "75%        0.000000               45.000000  \n",
       "max     4356.000000               99.000000  "
      ]
     },
     "execution_count": 569,
     "metadata": {},
     "output_type": "execute_result"
    }
   ],
   "source": [
    "df.describe() #simple statistics"
   ]
  },
  {
   "cell_type": "markdown",
   "id": "d9fedf51",
   "metadata": {},
   "source": [
    "### Replace the \" ?\" in the columns with \"Unknown\""
   ]
  },
  {
   "cell_type": "markdown",
   "id": "d10a460f",
   "metadata": {},
   "source": [
    "### occupation"
   ]
  },
  {
   "cell_type": "code",
   "execution_count": 570,
   "id": "f1c9d91a",
   "metadata": {},
   "outputs": [],
   "source": [
    "df['occupation'].replace(' ?', 'np.Nan', inplace = True) # replace ' ?' with nan"
   ]
  },
  {
   "cell_type": "code",
   "execution_count": 571,
   "id": "065c2395",
   "metadata": {},
   "outputs": [],
   "source": [
    "df['occupation'].replace('np.Nan', 'Unknown', inplace = True) # replace 'nan' with Unknown"
   ]
  },
  {
   "cell_type": "code",
   "execution_count": 572,
   "id": "a8c97e4c",
   "metadata": {},
   "outputs": [
    {
     "data": {
      "text/plain": [
       " Prof-specialty       4140\n",
       " Craft-repair         4099\n",
       " Exec-managerial      4066\n",
       " Adm-clerical         3770\n",
       " Sales                3650\n",
       " Other-service        3295\n",
       " Machine-op-inspct    2002\n",
       "Unknown               1843\n",
       " Transport-moving     1597\n",
       " Handlers-cleaners    1370\n",
       " Farming-fishing       994\n",
       " Tech-support          928\n",
       " Protective-serv       649\n",
       " Priv-house-serv       149\n",
       " Armed-Forces            9\n",
       "Name: occupation, dtype: int64"
      ]
     },
     "execution_count": 572,
     "metadata": {},
     "output_type": "execute_result"
    }
   ],
   "source": [
    "df['occupation'].value_counts() #sanity check"
   ]
  },
  {
   "cell_type": "markdown",
   "id": "81e8cd9a",
   "metadata": {},
   "source": [
    "### native_country"
   ]
  },
  {
   "cell_type": "code",
   "execution_count": 573,
   "id": "fe0d3c1f",
   "metadata": {},
   "outputs": [],
   "source": [
    "df['native_country'].replace(' ?', 'np.Nan', inplace = True)  # replace ' ?' with nan"
   ]
  },
  {
   "cell_type": "code",
   "execution_count": 574,
   "id": "9f17dcbc",
   "metadata": {},
   "outputs": [],
   "source": [
    "df['native_country'].replace('np.Nan', 'Unknown', inplace = True)  # replace 'nan' with Unknown"
   ]
  },
  {
   "cell_type": "code",
   "execution_count": 575,
   "id": "8b9f6258",
   "metadata": {},
   "outputs": [
    {
     "data": {
      "text/plain": [
       " United-States                 29170\n",
       " Mexico                          643\n",
       "Unknown                          583\n",
       " Philippines                     198\n",
       " Germany                         137\n",
       " Canada                          121\n",
       " Puerto-Rico                     114\n",
       " El-Salvador                     106\n",
       " India                           100\n",
       " Cuba                             95\n",
       " England                          90\n",
       " Jamaica                          81\n",
       " South                            80\n",
       " China                            75\n",
       " Italy                            73\n",
       " Dominican-Republic               70\n",
       " Vietnam                          67\n",
       " Guatemala                        64\n",
       " Japan                            62\n",
       " Poland                           60\n",
       " Columbia                         59\n",
       " Taiwan                           51\n",
       " Haiti                            44\n",
       " Iran                             43\n",
       " Portugal                         37\n",
       " Nicaragua                        34\n",
       " Peru                             31\n",
       " France                           29\n",
       " Greece                           29\n",
       " Ecuador                          28\n",
       " Ireland                          24\n",
       " Hong                             20\n",
       " Cambodia                         19\n",
       " Trinadad&Tobago                  19\n",
       " Laos                             18\n",
       " Thailand                         18\n",
       " Yugoslavia                       16\n",
       " Outlying-US(Guam-USVI-etc)       14\n",
       " Honduras                         13\n",
       " Hungary                          13\n",
       " Scotland                         12\n",
       " Holand-Netherlands                1\n",
       "Name: native_country, dtype: int64"
      ]
     },
     "execution_count": 575,
     "metadata": {},
     "output_type": "execute_result"
    }
   ],
   "source": [
    "df['native_country'].value_counts() #sanity check"
   ]
  },
  {
   "cell_type": "markdown",
   "id": "ac76453c",
   "metadata": {},
   "source": [
    "### workclass"
   ]
  },
  {
   "cell_type": "code",
   "execution_count": 576,
   "id": "bcebb03f",
   "metadata": {},
   "outputs": [],
   "source": [
    "df['workclass'].replace(' ?', 'np.Nan', inplace = True)  # replace ' ?' with nan"
   ]
  },
  {
   "cell_type": "code",
   "execution_count": 577,
   "id": "0dd15046",
   "metadata": {},
   "outputs": [],
   "source": [
    "df['workclass'].replace('np.Nan', ' Unknown', inplace = True)  # replace ' ?' with'Unknown'"
   ]
  },
  {
   "cell_type": "code",
   "execution_count": 578,
   "id": "1dfce563",
   "metadata": {},
   "outputs": [
    {
     "data": {
      "text/plain": [
       " Private             22696\n",
       " Self-emp-not-inc     2541\n",
       " Local-gov            2093\n",
       " Unknown              1836\n",
       " State-gov            1298\n",
       " Self-emp-inc         1116\n",
       " Federal-gov           960\n",
       " Without-pay            14\n",
       " Never-worked            7\n",
       "Name: workclass, dtype: int64"
      ]
     },
     "execution_count": 578,
     "metadata": {},
     "output_type": "execute_result"
    }
   ],
   "source": [
    "df['workclass'].value_counts() #sanity check"
   ]
  },
  {
   "cell_type": "code",
   "execution_count": 579,
   "id": "dd0748dd",
   "metadata": {},
   "outputs": [],
   "source": [
    "#function to check for empty strings across the columns to ensure we didnt miss it\n",
    "def check_empty_strings(column):\n",
    "    for col in column:\n",
    "        if df[col].astype(str).str.strip().eq('').any():\n",
    "            print(f'Empty strings present in column {col}')\n",
    "        else:\n",
    "            print(f'Empty strings absent in column {col}')\n",
    "        print(f'------------------------------')"
   ]
  },
  {
   "cell_type": "code",
   "execution_count": 580,
   "id": "7fcb52e1",
   "metadata": {},
   "outputs": [
    {
     "name": "stdout",
     "output_type": "stream",
     "text": [
      "Empty strings absent in column age\n",
      "------------------------------\n",
      "Empty strings absent in column workclass\n",
      "------------------------------\n",
      "Empty strings absent in column fnlwgt\n",
      "------------------------------\n",
      "Empty strings absent in column education\n",
      "------------------------------\n",
      "Empty strings absent in column education_no_of_years\n",
      "------------------------------\n",
      "Empty strings absent in column marital_status\n",
      "------------------------------\n",
      "Empty strings absent in column occupation\n",
      "------------------------------\n",
      "Empty strings absent in column relationship\n",
      "------------------------------\n",
      "Empty strings absent in column race\n",
      "------------------------------\n",
      "Empty strings absent in column sex\n",
      "------------------------------\n",
      "Empty strings absent in column capital_gain\n",
      "------------------------------\n",
      "Empty strings absent in column capital_loss\n",
      "------------------------------\n",
      "Empty strings absent in column working_hours_per_week\n",
      "------------------------------\n",
      "Empty strings absent in column native_country\n",
      "------------------------------\n",
      "Empty strings absent in column salary\n",
      "------------------------------\n"
     ]
    }
   ],
   "source": [
    "#call the check empty string function\n",
    "check_empty_strings(['age', 'workclass', 'fnlwgt', 'education', 'education_no_of_years', 'marital_status', 'occupation', 'relationship', 'race', 'sex', 'capital_gain', 'capital_loss','working_hours_per_week', 'native_country', 'salary'])"
   ]
  },
  {
   "cell_type": "code",
   "execution_count": 584,
   "id": "b3eb7ee8",
   "metadata": {},
   "outputs": [],
   "source": [
    "#drop the duplicates to avoid overfitting\n",
    "df.drop_duplicates(inplace=True)"
   ]
  },
  {
   "cell_type": "code",
   "execution_count": 585,
   "id": "b719322d",
   "metadata": {},
   "outputs": [
    {
     "name": "stdout",
     "output_type": "stream",
     "text": [
      "<class 'pandas.core.frame.DataFrame'>\n",
      "Int64Index: 32537 entries, 0 to 32560\n",
      "Data columns (total 15 columns):\n",
      " #   Column                  Non-Null Count  Dtype \n",
      "---  ------                  --------------  ----- \n",
      " 0   age                     32537 non-null  int64 \n",
      " 1   workclass               32537 non-null  object\n",
      " 2   fnlwgt                  32537 non-null  int64 \n",
      " 3   education               32537 non-null  object\n",
      " 4   education_no_of_years   32537 non-null  int64 \n",
      " 5   marital_status          32537 non-null  object\n",
      " 6   occupation              32537 non-null  object\n",
      " 7   relationship            32537 non-null  object\n",
      " 8   race                    32537 non-null  object\n",
      " 9   sex                     32537 non-null  object\n",
      " 10  capital_gain            32537 non-null  int64 \n",
      " 11  capital_loss            32537 non-null  int64 \n",
      " 12  working_hours_per_week  32537 non-null  int64 \n",
      " 13  native_country          32537 non-null  object\n",
      " 14  salary                  32537 non-null  object\n",
      "dtypes: int64(6), object(9)\n",
      "memory usage: 4.0+ MB\n"
     ]
    }
   ],
   "source": [
    "#sanity check\n",
    "df.info()"
   ]
  },
  {
   "cell_type": "code",
   "execution_count": 587,
   "id": "e6db68c1",
   "metadata": {},
   "outputs": [],
   "source": [
    "#create a copy of the dataframe \n",
    "dfc = df.copy()"
   ]
  },
  {
   "cell_type": "markdown",
   "id": "2f20bd17",
   "metadata": {},
   "source": [
    "## Model Building"
   ]
  },
  {
   "cell_type": "code",
   "execution_count": 588,
   "id": "967701f5",
   "metadata": {},
   "outputs": [
    {
     "name": "stdout",
     "output_type": "stream",
     "text": [
      "{' <=50K': 0, ' >50K': 1}\n"
     ]
    }
   ],
   "source": [
    "#import a label encoder for the target variable\n",
    "from sklearn.preprocessing import LabelEncoder\n",
    "\n",
    "le = LabelEncoder()\n",
    "\n",
    "# encode a categorical column\n",
    "dfc['salary_encoded'] = le.fit_transform(dfc['salary'])\n",
    "\n",
    "# print the mapping between original and encoded values\n",
    "print(dict(zip(le.classes_, le.transform(le.classes_))))"
   ]
  },
  {
   "cell_type": "markdown",
   "id": "d9f641f8",
   "metadata": {},
   "source": [
    "Target variable didvided into classes\n",
    "' <=50K': 0, ' >50K': 1"
   ]
  },
  {
   "cell_type": "code",
   "execution_count": 589,
   "id": "e5ff533f",
   "metadata": {},
   "outputs": [
    {
     "data": {
      "image/png": "[encoded data removed]",
      "text/plain": [
       "<Figure size 800x600 with 1 Axes>"
      ]
     },
     "metadata": {},
     "output_type": "display_data"
    }
   ],
   "source": [
    "# select only numerical columns\n",
    "numerical_colsA = ['age', 'fnlwgt', 'education_no_of_years', 'capital_gain', 'capital_loss', 'working_hours_per_week', 'salary_encoded']\n",
    "dfc_numerical = dfc[numerical_colsA]\n",
    "\n",
    "# create boxplots for numerical columns\n",
    "fig, ax = plt.subplots(figsize=(8, 6))\n",
    "ax.boxplot(dfc_numerical.values, vert=False, labels=dfc_numerical.columns)\n",
    "ax.set_title('Boxplots of Numerical Columns')\n",
    "plt.show()"
   ]
  },
  {
   "cell_type": "code",
   "execution_count": 590,
   "id": "45da8faf",
   "metadata": {},
   "outputs": [],
   "source": [
    "#seperating into different variables to enhance data manipulation\n",
    "import matplotlib.pyplot as plt\n",
    "\n",
    "categorical_cols = ['workclass', 'education', 'marital_status', 'occupation', 'relationship', 'race', 'sex', 'native_country', 'salary']\n",
    "numerical_cols = ['age', 'fnlwgt', 'education_no_of_years', 'capital_gain', 'capital_loss', 'working_hours_per_week']\n",
    "outlier_col = ['age', 'fnlwgt', 'education_no_of_years', 'working_hours_per_week']\n",
    "numerical_cols2 =  ['capital_gain', 'capital_loss']"
   ]
  },
  {
   "cell_type": "markdown",
   "id": "77ddc14b",
   "metadata": {},
   "source": [
    "the outliers to be treated excluded capital_gain and caital_loss because the outlier treatment resulted in the complete clipping of those 2 columns to 0"
   ]
  },
  {
   "cell_type": "code",
   "execution_count": 594,
   "id": "e3904908",
   "metadata": {},
   "outputs": [],
   "source": [
    "#treat outliers\n",
    "def treat_outliers(dfc, col):\n",
    "    \"\"\"\n",
    "    treat outliers\n",
    "    col = parameter in the functon that represents the columns\n",
    "    df_clean = dataframe\n",
    "    \n",
    "    \"\"\"\n",
    "    Q1 = dfc[col].quantile(0.25) #25th quantile\n",
    "    Q3 = dfc[col].quantile(0.75) #upper quantile\n",
    "    IQR = Q3 - Q1\n",
    "    lower_whisker = Q1 - (1.5 * IQR)\n",
    "    upper_whisker = Q3 + (1.5 * IQR)\n",
    "    dfc[col] = np.clip(dfc[col], lower_whisker, upper_whisker)\n",
    "    return dfc\n",
    "\n",
    "def treat_all_outliers(dfc, col_list):\n",
    "    for c in col_list:\n",
    "        dfc = treat_outliers(dfc, c)\n",
    "    return dfc"
   ]
  },
  {
   "cell_type": "code",
   "execution_count": 595,
   "id": "8e15c63d",
   "metadata": {},
   "outputs": [],
   "source": [
    "#call the function\n",
    "dfc = treat_all_outliers(dfc, outlier_col)"
   ]
  },
  {
   "cell_type": "code",
   "execution_count": 596,
   "id": "5aa61aa7",
   "metadata": {},
   "outputs": [
    {
     "data": {
      "image/png": "[encoded data removed]",
      "text/plain": [
       "<Figure size 2000x3000 with 7 Axes>"
      ]
     },
     "metadata": {},
     "output_type": "display_data"
    }
   ],
   "source": [
    "#Sanity check\n",
    "plt.figure(figsize = (20,30))\n",
    "numerical_colsB = ['age', 'fnlwgt', 'education_no_of_years', 'capital_gain', 'capital_loss', 'working_hours_per_week', 'salary_encoded']\n",
    "\n",
    "for i, variable in enumerate(numerical_colsB):\n",
    "    plt.subplot(5, 4, i + 1)\n",
    "    plt.boxplot(dfc[variable])\n",
    "    plt.title(variable)"
   ]
  },
  {
   "cell_type": "code",
   "execution_count": 597,
   "id": "5f6b0e5f",
   "metadata": {},
   "outputs": [],
   "source": [
    "#Visulize the different classes of the target variable\n",
    "from utils import labeled_barplots"
   ]
  },
  {
   "cell_type": "code",
   "execution_count": 598,
   "id": "b24be4d6",
   "metadata": {},
   "outputs": [
    {
     "data": {
      "image/png": "[encoded data removed]",
      "text/plain": [
       "<Figure size 300x500 with 1 Axes>"
      ]
     },
     "metadata": {},
     "output_type": "display_data"
    }
   ],
   "source": [
    "#call the function\n",
    "labeled_barplots(data = dfc, feature = 'salary', perc = True)"
   ]
  },
  {
   "cell_type": "markdown",
   "id": "8a940301",
   "metadata": {},
   "source": [
    "### Identify correlation in data"
   ]
  },
  {
   "cell_type": "code",
   "execution_count": 550,
   "id": "cd59e218",
   "metadata": {},
   "outputs": [
    {
     "data": {
      "text/html": [
       "<div>\n",
       "<style scoped>\n",
       "    .dataframe tbody tr th:only-of-type {\n",
       "        vertical-align: middle;\n",
       "    }\n",
       "\n",
       "    .dataframe tbody tr th {\n",
       "        vertical-align: top;\n",
       "    }\n",
       "\n",
       "    .dataframe thead th {\n",
       "        text-align: right;\n",
       "    }\n",
       "</style>\n",
       "<table border=\"1\" class=\"dataframe\">\n",
       "  <thead>\n",
       "    <tr style=\"text-align: right;\">\n",
       "      <th></th>\n",
       "      <th>age</th>\n",
       "      <th>fnlwgt</th>\n",
       "      <th>education_no_of_years</th>\n",
       "      <th>capital_gain</th>\n",
       "      <th>capital_loss</th>\n",
       "      <th>working_hours_per_week</th>\n",
       "    </tr>\n",
       "  </thead>\n",
       "  <tbody>\n",
       "    <tr>\n",
       "      <th>age</th>\n",
       "      <td>1.000000</td>\n",
       "      <td>-0.076447</td>\n",
       "      <td>0.036224</td>\n",
       "      <td>0.077676</td>\n",
       "      <td>0.057745</td>\n",
       "      <td>0.068515</td>\n",
       "    </tr>\n",
       "    <tr>\n",
       "      <th>fnlwgt</th>\n",
       "      <td>-0.076447</td>\n",
       "      <td>1.000000</td>\n",
       "      <td>-0.043388</td>\n",
       "      <td>0.000429</td>\n",
       "      <td>-0.010260</td>\n",
       "      <td>-0.018898</td>\n",
       "    </tr>\n",
       "    <tr>\n",
       "      <th>education_no_of_years</th>\n",
       "      <td>0.036224</td>\n",
       "      <td>-0.043388</td>\n",
       "      <td>1.000000</td>\n",
       "      <td>0.122664</td>\n",
       "      <td>0.079892</td>\n",
       "      <td>0.148422</td>\n",
       "    </tr>\n",
       "    <tr>\n",
       "      <th>capital_gain</th>\n",
       "      <td>0.077676</td>\n",
       "      <td>0.000429</td>\n",
       "      <td>0.122664</td>\n",
       "      <td>1.000000</td>\n",
       "      <td>-0.031639</td>\n",
       "      <td>0.078408</td>\n",
       "    </tr>\n",
       "    <tr>\n",
       "      <th>capital_loss</th>\n",
       "      <td>0.057745</td>\n",
       "      <td>-0.010260</td>\n",
       "      <td>0.079892</td>\n",
       "      <td>-0.031639</td>\n",
       "      <td>1.000000</td>\n",
       "      <td>0.054229</td>\n",
       "    </tr>\n",
       "    <tr>\n",
       "      <th>working_hours_per_week</th>\n",
       "      <td>0.068515</td>\n",
       "      <td>-0.018898</td>\n",
       "      <td>0.148422</td>\n",
       "      <td>0.078408</td>\n",
       "      <td>0.054229</td>\n",
       "      <td>1.000000</td>\n",
       "    </tr>\n",
       "  </tbody>\n",
       "</table>\n",
       "</div>"
      ],
      "text/plain": [
       "                             age    fnlwgt  education_no_of_years  \\\n",
       "age                     1.000000 -0.076447               0.036224   \n",
       "fnlwgt                 -0.076447  1.000000              -0.043388   \n",
       "education_no_of_years   0.036224 -0.043388               1.000000   \n",
       "capital_gain            0.077676  0.000429               0.122664   \n",
       "capital_loss            0.057745 -0.010260               0.079892   \n",
       "working_hours_per_week  0.068515 -0.018898               0.148422   \n",
       "\n",
       "                        capital_gain  capital_loss  working_hours_per_week  \n",
       "age                         0.077676      0.057745                0.068515  \n",
       "fnlwgt                      0.000429     -0.010260               -0.018898  \n",
       "education_no_of_years       0.122664      0.079892                0.148422  \n",
       "capital_gain                1.000000     -0.031639                0.078408  \n",
       "capital_loss               -0.031639      1.000000                0.054229  \n",
       "working_hours_per_week      0.078408      0.054229                1.000000  "
      ]
     },
     "execution_count": 550,
     "metadata": {},
     "output_type": "execute_result"
    }
   ],
   "source": [
    "#check for correlation\n",
    "df.corr(numeric_only = True)"
   ]
  },
  {
   "cell_type": "code",
   "execution_count": 599,
   "id": "31135394",
   "metadata": {},
   "outputs": [
    {
     "data": {
      "text/plain": [
       "<Axes: >"
      ]
     },
     "execution_count": 599,
     "metadata": {},
     "output_type": "execute_result"
    },
    {
     "data": {
      "image/png": "[encoded data removed]",
      "text/plain": [
       "<Figure size 1000x800 with 2 Axes>"
      ]
     },
     "metadata": {},
     "output_type": "display_data"
    }
   ],
   "source": [
    "#visualize the correlation\n",
    "mat_corr = dfc.corr(numeric_only = True)\n",
    "plt.figure(figsize = (10, 8))\n",
    "sns.heatmap(mat_corr, annot = True, vmin = -1, vmax = 1, cmap = 'Spectral')"
   ]
  },
  {
   "cell_type": "code",
   "execution_count": 600,
   "id": "bc068bd9",
   "metadata": {},
   "outputs": [
    {
     "data": {
      "text/plain": [
       "0    0.759074\n",
       "1    0.240926\n",
       "Name: salary_encoded, dtype: float64"
      ]
     },
     "execution_count": 600,
     "metadata": {},
     "output_type": "execute_result"
    }
   ],
   "source": [
    "#value_count\n",
    "dfc['salary_encoded'].value_counts(normalize = True)"
   ]
  },
  {
   "cell_type": "markdown",
   "id": "91e9abba",
   "metadata": {},
   "source": [
    "this shows that the data is inbalanced"
   ]
  },
  {
   "cell_type": "markdown",
   "id": "c000bba6",
   "metadata": {},
   "source": [
    "### Data Preprocessing"
   ]
  },
  {
   "cell_type": "code",
   "execution_count": 601,
   "id": "c3eea479",
   "metadata": {},
   "outputs": [],
   "source": [
    "#data preprocessing and one hot encoding of all the categorical variables\n",
    "\n",
    "from sklearn.model_selection import train_test_split\n",
    "\n",
    "X = dfc.drop('salary_encoded', axis=1)\n",
    "X = pd.get_dummies(X)\n",
    "y = dfc['salary_encoded']"
   ]
  },
  {
   "cell_type": "code",
   "execution_count": 602,
   "id": "680cf2da",
   "metadata": {},
   "outputs": [],
   "source": [
    "#split the data"
   ]
  },
  {
   "cell_type": "code",
   "execution_count": 603,
   "id": "5293817a",
   "metadata": {},
   "outputs": [],
   "source": [
    "X_train, X_test, y_train, y_test = train_test_split(X, y, test_size = 0.2, stratify = y)"
   ]
  },
  {
   "cell_type": "markdown",
   "id": "ea30c6b9",
   "metadata": {},
   "source": [
    "use stratify = y to make sure that the train and test sets have similar class distributions as the original dataset."
   ]
  },
  {
   "cell_type": "code",
   "execution_count": 606,
   "id": "d137f7d3",
   "metadata": {},
   "outputs": [
    {
     "data": {
      "text/plain": [
       "0    0.759076\n",
       "1    0.240924\n",
       "Name: salary_encoded, dtype: float64"
      ]
     },
     "execution_count": 606,
     "metadata": {},
     "output_type": "execute_result"
    }
   ],
   "source": [
    "#check split data\n",
    "y_train.value_counts(normalize= True)"
   ]
  },
  {
   "cell_type": "code",
   "execution_count": 607,
   "id": "7eed233f",
   "metadata": {},
   "outputs": [
    {
     "data": {
      "text/plain": [
       "0    0.759066\n",
       "1    0.240934\n",
       "Name: salary_encoded, dtype: float64"
      ]
     },
     "execution_count": 607,
     "metadata": {},
     "output_type": "execute_result"
    }
   ],
   "source": [
    "y_test.value_counts(normalize= True)"
   ]
  },
  {
   "cell_type": "code",
   "execution_count": 612,
   "id": "69da012c",
   "metadata": {},
   "outputs": [],
   "source": [
    "# Scale the data using MinMaxScaler "
   ]
  },
  {
   "cell_type": "code",
   "execution_count": 613,
   "id": "dfd0b6d6",
   "metadata": {},
   "outputs": [],
   "source": [
    "from sklearn.preprocessing import MinMaxScaler"
   ]
  },
  {
   "cell_type": "code",
   "execution_count": 614,
   "id": "64704be8",
   "metadata": {},
   "outputs": [],
   "source": [
    "scaler = MinMaxScaler()\n",
    "X_train_sd = scaler.fit_transform(X_train)\n",
    "X_test_sd = scaler.transform(X_test)\n"
   ]
  },
  {
   "cell_type": "markdown",
   "id": "6e3b57f2",
   "metadata": {},
   "source": [
    "Scaling brings all features to a similar range"
   ]
  },
  {
   "cell_type": "code",
   "execution_count": null,
   "id": "946d5707",
   "metadata": {},
   "outputs": [],
   "source": [
    "import seaborn as sns\n",
    "import matplotlib.pyplot as plt\n",
    "\n",
    "# Create a correlation matrix from X\n",
    "corr_matrix = X.corr()\n",
    "\n",
    "# Plot the correlation matrix heatmap\n",
    "plt.figure(figsize=(10, 8))\n",
    "sns.heatmap(corr_matrix, annot=True, cmap='coolwarm')\n",
    "plt.title('Correlation Matrix Heatmap')\n",
    "plt.show()"
   ]
  },
  {
   "cell_type": "code",
   "execution_count": 518,
   "id": "cc3702fc",
   "metadata": {},
   "outputs": [],
   "source": [
    "# build the model"
   ]
  },
  {
   "cell_type": "code",
   "execution_count": 615,
   "id": "1d86cd77",
   "metadata": {},
   "outputs": [
    {
     "data": {
      "text/html": [
       "<style>#sk-container-id-4 {color: black;background-color: white;}#sk-container-id-4 pre{padding: 0;}#sk-container-id-4 div.sk-toggleable {background-color: white;}#sk-container-id-4 label.sk-toggleable__label {cursor: pointer;display: block;width: 100%;margin-bottom: 0;padding: 0.3em;box-sizing: border-box;text-align: center;}#sk-container-id-4 label.sk-toggleable__label-arrow:before {content: \"▸\";float: left;margin-right: 0.25em;color: #696969;}#sk-container-id-4 label.sk-toggleable__label-arrow:hover:before {color: black;}#sk-container-id-4 div.sk-estimator:hover label.sk-toggleable__label-arrow:before {color: black;}#sk-container-id-4 div.sk-toggleable__content {max-height: 0;max-width: 0;overflow: hidden;text-align: left;background-color: #f0f8ff;}#sk-container-id-4 div.sk-toggleable__content pre {margin: 0.2em;color: black;border-radius: 0.25em;background-color: #f0f8ff;}#sk-container-id-4 input.sk-toggleable__control:checked~div.sk-toggleable__content {max-height: 200px;max-width: 100%;overflow: auto;}#sk-container-id-4 input.sk-toggleable__control:checked~label.sk-toggleable__label-arrow:before {content: \"▾\";}#sk-container-id-4 div.sk-estimator input.sk-toggleable__control:checked~label.sk-toggleable__label {background-color: #d4ebff;}#sk-container-id-4 div.sk-label input.sk-toggleable__control:checked~label.sk-toggleable__label {background-color: #d4ebff;}#sk-container-id-4 input.sk-hidden--visually {border: 0;clip: rect(1px 1px 1px 1px);clip: rect(1px, 1px, 1px, 1px);height: 1px;margin: -1px;overflow: hidden;padding: 0;position: absolute;width: 1px;}#sk-container-id-4 div.sk-estimator {font-family: monospace;background-color: #f0f8ff;border: 1px dotted black;border-radius: 0.25em;box-sizing: border-box;margin-bottom: 0.5em;}#sk-container-id-4 div.sk-estimator:hover {background-color: #d4ebff;}#sk-container-id-4 div.sk-parallel-item::after {content: \"\";width: 100%;border-bottom: 1px solid gray;flex-grow: 1;}#sk-container-id-4 div.sk-label:hover label.sk-toggleable__label {background-color: #d4ebff;}#sk-container-id-4 div.sk-serial::before {content: \"\";position: absolute;border-left: 1px solid gray;box-sizing: border-box;top: 0;bottom: 0;left: 50%;z-index: 0;}#sk-container-id-4 div.sk-serial {display: flex;flex-direction: column;align-items: center;background-color: white;padding-right: 0.2em;padding-left: 0.2em;position: relative;}#sk-container-id-4 div.sk-item {position: relative;z-index: 1;}#sk-container-id-4 div.sk-parallel {display: flex;align-items: stretch;justify-content: center;background-color: white;position: relative;}#sk-container-id-4 div.sk-item::before, #sk-container-id-4 div.sk-parallel-item::before {content: \"\";position: absolute;border-left: 1px solid gray;box-sizing: border-box;top: 0;bottom: 0;left: 50%;z-index: -1;}#sk-container-id-4 div.sk-parallel-item {display: flex;flex-direction: column;z-index: 1;position: relative;background-color: white;}#sk-container-id-4 div.sk-parallel-item:first-child::after {align-self: flex-end;width: 50%;}#sk-container-id-4 div.sk-parallel-item:last-child::after {align-self: flex-start;width: 50%;}#sk-container-id-4 div.sk-parallel-item:only-child::after {width: 0;}#sk-container-id-4 div.sk-dashed-wrapped {border: 1px dashed gray;margin: 0 0.4em 0.5em 0.4em;box-sizing: border-box;padding-bottom: 0.4em;background-color: white;}#sk-container-id-4 div.sk-label label {font-family: monospace;font-weight: bold;display: inline-block;line-height: 1.2em;}#sk-container-id-4 div.sk-label-container {text-align: center;}#sk-container-id-4 div.sk-container {/* jupyter's `normalize.less` sets `[hidden] { display: none; }` but bootstrap.min.css set `[hidden] { display: none !important; }` so we also need the `!important` here to be able to override the default hidden behavior on the sphinx rendered scikit-learn.org. See: https://github.com/scikit-learn/scikit-learn/issues/21755 */display: inline-block !important;position: relative;}#sk-container-id-4 div.sk-text-repr-fallback {display: none;}</style><div id=\"sk-container-id-4\" class=\"sk-top-container\"><div class=\"sk-text-repr-fallback\"><pre>LogisticRegression(class_weight={0: 0.1, 1: 0.9}, random_state=0)</pre><b>In a Jupyter environment, please rerun this cell to show the HTML representation or trust the notebook. <br />On GitHub, the HTML representation is unable to render, please try loading this page with nbviewer.org.</b></div><div class=\"sk-container\" hidden><div class=\"sk-item\"><div class=\"sk-estimator sk-toggleable\"><input class=\"sk-toggleable__control sk-hidden--visually\" id=\"sk-estimator-id-4\" type=\"checkbox\" checked><label for=\"sk-estimator-id-4\" class=\"sk-toggleable__label sk-toggleable__label-arrow\">LogisticRegression</label><div class=\"sk-toggleable__content\"><pre>LogisticRegression(class_weight={0: 0.1, 1: 0.9}, random_state=0)</pre></div></div></div></div></div>"
      ],
      "text/plain": [
       "LogisticRegression(class_weight={0: 0.1, 1: 0.9}, random_state=0)"
      ]
     },
     "execution_count": 615,
     "metadata": {},
     "output_type": "execute_result"
    }
   ],
   "source": [
    "#import Logistic Regression model\n",
    "from sklearn.linear_model import LogisticRegression\n",
    "\n",
    "log_reg=  LogisticRegression(random_state = 0, class_weight = {1:0.9, 0:0.1})\n",
    "log_reg.fit(X_train_sd, y_train)"
   ]
  },
  {
   "cell_type": "code",
   "execution_count": 616,
   "id": "8623aefc",
   "metadata": {},
   "outputs": [
    {
     "data": {
      "text/plain": [
       "1.0"
      ]
     },
     "execution_count": 616,
     "metadata": {},
     "output_type": "execute_result"
    }
   ],
   "source": [
    "# method is used to evaluate the accuracy of a logistic regression model.\n",
    "log_reg.score(X_train_sd, y_train)"
   ]
  },
  {
   "cell_type": "code",
   "execution_count": 543,
   "id": "7a4383e4",
   "metadata": {},
   "outputs": [
    {
     "data": {
      "text/plain": [
       "array([0, 1, 0, ..., 0, 0, 0])"
      ]
     },
     "execution_count": 543,
     "metadata": {},
     "output_type": "execute_result"
    }
   ],
   "source": [
    "log_reg.predict(X_test_sd)"
   ]
  },
  {
   "cell_type": "code",
   "execution_count": 533,
   "id": "2642c248",
   "metadata": {},
   "outputs": [
    {
     "data": {
      "text/plain": [
       "array([2.62600525e-03, 9.99430179e-01, 9.45129794e-04, ...,\n",
       "       9.77547667e-04, 1.11474209e-03, 1.61801664e-03])"
      ]
     },
     "execution_count": 533,
     "metadata": {},
     "output_type": "execute_result"
    }
   ],
   "source": [
    "log_reg.predict_proba(X_test_sd)[:, 1]"
   ]
  },
  {
   "cell_type": "code",
   "execution_count": 618,
   "id": "ab16d07f",
   "metadata": {},
   "outputs": [],
   "source": [
    "# import model performance evaluators libraries\n",
    "from sklearn.metrics import accuracy_score, recall_score, precision_score, confusion_matrix, f1_score"
   ]
  },
  {
   "cell_type": "code",
   "execution_count": 619,
   "id": "bcc6d962",
   "metadata": {},
   "outputs": [
    {
     "data": {
      "image/png": "[encoded data removed]",
      "text/plain": [
       "<Figure size 500x500 with 2 Axes>"
      ]
     },
     "metadata": {},
     "output_type": "display_data"
    },
    {
     "data": {
      "text/html": [
       "<div>\n",
       "<style scoped>\n",
       "    .dataframe tbody tr th:only-of-type {\n",
       "        vertical-align: middle;\n",
       "    }\n",
       "\n",
       "    .dataframe tbody tr th {\n",
       "        vertical-align: top;\n",
       "    }\n",
       "\n",
       "    .dataframe thead th {\n",
       "        text-align: right;\n",
       "    }\n",
       "</style>\n",
       "<table border=\"1\" class=\"dataframe\">\n",
       "  <thead>\n",
       "    <tr style=\"text-align: right;\">\n",
       "      <th></th>\n",
       "      <th>Accuracy</th>\n",
       "      <th>Recall</th>\n",
       "      <th>Precision</th>\n",
       "      <th>F1-score</th>\n",
       "    </tr>\n",
       "  </thead>\n",
       "  <tbody>\n",
       "    <tr>\n",
       "      <th>0</th>\n",
       "      <td>1.0</td>\n",
       "      <td>1.0</td>\n",
       "      <td>1.0</td>\n",
       "      <td>1.0</td>\n",
       "    </tr>\n",
       "  </tbody>\n",
       "</table>\n",
       "</div>"
      ],
      "text/plain": [
       "   Accuracy  Recall  Precision  F1-score\n",
       "0       1.0     1.0        1.0       1.0"
      ]
     },
     "execution_count": 619,
     "metadata": {},
     "output_type": "execute_result"
    }
   ],
   "source": [
    "#import utils, a pre-built model\n",
    "from utils import model_performance_classification\n",
    "log_reg_train = model_performance_classification(log_reg, X_train_sd, y_train)\n",
    "log_reg_train"
   ]
  },
  {
   "cell_type": "markdown",
   "id": "a84b304e",
   "metadata": {},
   "source": [
    "A score of 1.0 for accuracy, recall, precision, and F1-score indicates perfect performance on the classification task. It means that the model achieved 100% accuracy in predicting the correct class labels, correctly identified all instances of the positive class (recall), made no false positive predictions (precision), and achieved a perfect balance between precision and recall (F1-score)."
   ]
  },
  {
   "cell_type": "code",
   "execution_count": null,
   "id": "e0b1d363",
   "metadata": {},
   "outputs": [],
   "source": [
    "# checking it on the test set"
   ]
  },
  {
   "cell_type": "code",
   "execution_count": 621,
   "id": "2f92c0da",
   "metadata": {
    "scrolled": true
   },
   "outputs": [
    {
     "data": {
      "image/png": "[encoded data removed]",
      "text/plain": [
       "<Figure size 500x500 with 2 Axes>"
      ]
     },
     "metadata": {},
     "output_type": "display_data"
    },
    {
     "data": {
      "text/html": [
       "<div>\n",
       "<style scoped>\n",
       "    .dataframe tbody tr th:only-of-type {\n",
       "        vertical-align: middle;\n",
       "    }\n",
       "\n",
       "    .dataframe tbody tr th {\n",
       "        vertical-align: top;\n",
       "    }\n",
       "\n",
       "    .dataframe thead th {\n",
       "        text-align: right;\n",
       "    }\n",
       "</style>\n",
       "<table border=\"1\" class=\"dataframe\">\n",
       "  <thead>\n",
       "    <tr style=\"text-align: right;\">\n",
       "      <th></th>\n",
       "      <th>Accuracy</th>\n",
       "      <th>Recall</th>\n",
       "      <th>Precision</th>\n",
       "      <th>F1-score</th>\n",
       "    </tr>\n",
       "  </thead>\n",
       "  <tbody>\n",
       "    <tr>\n",
       "      <th>0</th>\n",
       "      <td>1.0</td>\n",
       "      <td>1.0</td>\n",
       "      <td>1.0</td>\n",
       "      <td>1.0</td>\n",
       "    </tr>\n",
       "  </tbody>\n",
       "</table>\n",
       "</div>"
      ],
      "text/plain": [
       "   Accuracy  Recall  Precision  F1-score\n",
       "0       1.0     1.0        1.0       1.0"
      ]
     },
     "execution_count": 621,
     "metadata": {},
     "output_type": "execute_result"
    }
   ],
   "source": [
    "log_reg_test = model_performance_classification(log_reg, X_test_sd, y_test)\n",
    "log_reg_test"
   ]
  },
  {
   "cell_type": "markdown",
   "id": "9d67d984",
   "metadata": {},
   "source": [
    "A score of 1.0 for accuracy, recall, precision, and F1-score on the test set suggests that the model performed exceptionally well and achieved perfect classification performance. It means that the model accurately predicted all instances in the test set, correctly identified all instances of the positive class (recall), made no false positive predictions (precision), and achieved a perfect balance between precision and recall (F1-score)."
   ]
  },
  {
   "cell_type": "code",
   "execution_count": 624,
   "id": "25380baa",
   "metadata": {},
   "outputs": [
    {
     "name": "stdout",
     "output_type": "stream",
     "text": [
      "Cross-validation scores: [1. 1. 1. 1. 1.]\n",
      "Mean accuracy: 1.0\n"
     ]
    }
   ],
   "source": [
    "#import necessary libraries\n",
    "from sklearn.linear_model import LogisticRegression\n",
    "from sklearn.preprocessing import StandardScaler\n",
    "from sklearn.model_selection import cross_val_score\n",
    "\n",
    "# Scale the data\n",
    "scaler = StandardScaler()\n",
    "X_scaled = scaler.fit_transform(X) # here you scale the entire dataset, this ensures that the scaling is consistent across all the folds.\n",
    "\n",
    "# Create a logistic regression model\n",
    "log_reg = LogisticRegression(max_iter=1000) #Increase the number of iterations (max_iter), you provide the solver with more opportunities to find the optimal weights and achieve convergence.\n",
    "\n",
    "# Perform cross-validation with scaled data\n",
    "cv_scores = cross_val_score(log_reg, X_scaled, y, cv=5)\n",
    "\n",
    "# Print the cross-validation scores and mean accuracy\n",
    "print(\"Cross-validation scores:\", cv_scores)\n",
    "print(\"Mean accuracy:\", cv_scores.mean())"
   ]
  },
  {
   "cell_type": "markdown",
   "id": "9dd3b4a9",
   "metadata": {},
   "source": [
    "A cross-validation score of 1.0 (or 100%) indicates that the model achieved perfect accuracy on all folds during cross-validation. This means that the model correctly predicted the target variable for every sample in the dataset."
   ]
  },
  {
   "cell_type": "markdown",
   "id": "42f97702",
   "metadata": {},
   "source": [
    "# Answers"
   ]
  },
  {
   "cell_type": "markdown",
   "id": "75c62a3a",
   "metadata": {},
   "source": [
    "1.) The income of an individual can be influenced by a range of factors including age, workclass, fnlwgt, education, education-num, marital status, occupation, relationship, race, sex, capital gain, capital loss, hours per week, and native country. However, it should be noted that while these factors do contribute to salary differences, their individual impact on income is small.\n",
    "\n",
    "\n",
    "\n",
    "\n"
   ]
  },
  {
   "cell_type": "markdown",
   "id": "8f2e7454",
   "metadata": {},
   "source": [
    "2.) Yes, the Logistic Regression model which has been adjusted by modifying the class weights to mitigate the impact of the imbalanced target variable.\n",
    "\n",
    "\n",
    "\n",
    "\n"
   ]
  },
  {
   "cell_type": "markdown",
   "id": "d88a0be6",
   "metadata": {},
   "source": [
    "3.) The model demonstrated outstanding performance with 100% accuracy on both the training and testing datasets. Additionally, during cross-validation, the model consistently achieved a perfect accuracy score of 100%."
   ]
  },
  {
   "cell_type": "code",
   "execution_count": null,
   "id": "46fb8075",
   "metadata": {},
   "outputs": [],
   "source": []
  }
 ],
 "metadata": {
  "kernelspec": {
   "display_name": "Python 3 (ipykernel)",
   "language": "python",
   "name": "python3"
  },
  "language_info": {
   "codemirror_mode": {
    "name": "ipython",
    "version": 3
   },
   "file_extension": ".py",
   "mimetype": "text/x-python",
   "name": "python",
   "nbconvert_exporter": "python",
   "pygments_lexer": "ipython3",
   "version": "3.10.9"
  }
 },
 "nbformat": 4,
 "nbformat_minor": 5
}
