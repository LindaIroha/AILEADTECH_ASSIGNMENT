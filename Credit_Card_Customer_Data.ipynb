{
  "nbformat": 4,
  "nbformat_minor": 0,
  "metadata": {
    "colab": {
      "provenance": [],
      "authorship_tag": "ABX9TyP1IgQV/o+p3a879dAZoNY5",
      "include_colab_link": true
    },
    "kernelspec": {
      "name": "python3",
      "display_name": "Python 3"
    },
    "language_info": {
      "name": "python"
    }
  },
  "cells": [
    {
      "cell_type": "markdown",
      "metadata": {
        "id": "view-in-github",
        "colab_type": "text"
      },
      "source": [
        "<a href=\"https://colab.research.google.com/github/LindaIroha/AILEADTECH_ASSIGNMENT/blob/main/Credit_Card_Customer_Data.ipynb\" target=\"_parent\"><img src=\"https://colab.research.google.com/assets/colab-badge.svg\" alt=\"Open In Colab\"/></a>"
      ]
    },
    {
      "cell_type": "markdown",
      "source": [
        "\n",
        "#Problem Statement"
      ],
      "metadata": {
        "id": "fm4onbwScod6"
      }
    },
    {
      "cell_type": "markdown",
      "source": [
        "#Context\n",
        "\n",
        "The problem at hand is a customer segmentation problem for AllLife Bank. The objective is to identify different segments among the existing bank customers based on their spending patterns and past interactions with the bank. By applying clustering algorithms to the customer data, the goal is to uncover distinct groups of customers that exhibit similar behaviors and characteristics.\n",
        "\n",
        "#Objective\n",
        "The bank wants to gain insights into its customer base to improve market penetration and customer satisfaction. The marketing team aims to run personalized campaigns targeting new customers and upselling to existing customers. Meanwhile, the operations team aims to upgrade the service delivery model to address customer queries more efficiently.\n",
        "\n",
        "#Data Description\n",
        "The provided dataset includes various financial attributes of the customers, such as average credit limit, total number of credit cards, and interactions with the bank through different channels (visiting the bank, online visits, and calls to customer service). By clustering the customers based on these attributes, the Data Science team can provide recommendations to the bank on how to better market to and service these different customer segments.\n",
        "\n",
        "\n",
        "#Data Dictionary\n",
        "\n",
        "Sl_No: Primary key of the records\n",
        "Customer Key: Customer identification number\n",
        "Average Credit Limit: Average credit limit of each customer for all credit cards\n",
        "Total credit cards: Total number of credit cards possessed by the customer\n",
        "Total visits bank: Total number of visits that customer made (yearly) personally to the bank\n",
        "Total visits online: Total number of visits or online logins made by the customer (yearly)\n",
        "Total calls made: Total number of calls made by the customer to the bank or its customer service department (yearly)"
      ],
      "metadata": {
        "id": "P7qXfuvIcuxY"
      }
    },
    {
      "cell_type": "markdown",
      "source": [
        "#Importing necessary libraries"
      ],
      "metadata": {
        "id": "ZUgYP5GLddew"
      }
    },
    {
      "cell_type": "code",
      "execution_count": 31,
      "metadata": {
        "id": "LmByROXIIEdR"
      },
      "outputs": [],
      "source": [
        "# Libraries to help with reading and manipulating data\n",
        "import numpy as np\n",
        "import pandas as pd\n",
        "\n",
        "# Libraries to help with data visualization\n",
        "import matplotlib.pyplot as plt\n",
        "import seaborn as sns\n",
        "\n",
        "# to scale the data using z-score\n",
        "from sklearn.preprocessing import StandardScaler\n",
        "\n",
        "# to compute distances\n",
        "from scipy.spatial.distance import cdist\n",
        "\n",
        "# to perform k-means clustering and compute silhouette scores\n",
        "from sklearn.cluster import KMeans, DBSCAN\n",
        "from sklearn.metrics import silhouette_score\n",
        "\n",
        "# to visualize the elbow curve and silhouette scores\n",
        "from yellowbrick.cluster import KElbowVisualizer, SilhouetteVisualizer\n",
        "\n",
        "# Silence the FutureWarning\n",
        "import warnings\n",
        "warnings.simplefilter(action='ignore')"
      ]
    },
    {
      "cell_type": "markdown",
      "source": [
        "#Reading the Dataset"
      ],
      "metadata": {
        "id": "HffQmGt6dnOK"
      }
    },
    {
      "cell_type": "code",
      "source": [
        "#upload csv file and read\n",
        "from google.colab import files\n",
        "uploaded = files.upload()\n"
      ],
      "metadata": {
        "colab": {
          "base_uri": "https://localhost:8080/",
          "height": 73
        },
        "id": "gM_g9D3FIGJk",
        "outputId": "ec6b2ece-3f39-4f9b-a9b2-478f9c338d3d"
      },
      "execution_count": 90,
      "outputs": [
        {
          "output_type": "display_data",
          "data": {
            "text/plain": [
              "<IPython.core.display.HTML object>"
            ],
            "text/html": [
              "\n",
              "     <input type=\"file\" id=\"files-9ce1dd4a-1314-45ad-bb0a-5f2e73b83db5\" name=\"files[]\" multiple disabled\n",
              "        style=\"border:none\" />\n",
              "     <output id=\"result-9ce1dd4a-1314-45ad-bb0a-5f2e73b83db5\">\n",
              "      Upload widget is only available when the cell has been executed in the\n",
              "      current browser session. Please rerun this cell to enable.\n",
              "      </output>\n",
              "      <script>// Copyright 2017 Google LLC\n",
              "//\n",
              "// Licensed under the Apache License, Version 2.0 (the \"License\");\n",
              "// you may not use this file except in compliance with the License.\n",
              "// You may obtain a copy of the License at\n",
              "//\n",
              "//      http://www.apache.org/licenses/LICENSE-2.0\n",
              "//\n",
              "// Unless required by applicable law or agreed to in writing, software\n",
              "// distributed under the License is distributed on an \"AS IS\" BASIS,\n",
              "// WITHOUT WARRANTIES OR CONDITIONS OF ANY KIND, either express or implied.\n",
              "// See the License for the specific language governing permissions and\n",
              "// limitations under the License.\n",
              "\n",
              "/**\n",
              " * @fileoverview Helpers for google.colab Python module.\n",
              " */\n",
              "(function(scope) {\n",
              "function span(text, styleAttributes = {}) {\n",
              "  const element = document.createElement('span');\n",
              "  element.textContent = text;\n",
              "  for (const key of Object.keys(styleAttributes)) {\n",
              "    element.style[key] = styleAttributes[key];\n",
              "  }\n",
              "  return element;\n",
              "}\n",
              "\n",
              "// Max number of bytes which will be uploaded at a time.\n",
              "const MAX_PAYLOAD_SIZE = 100 * 1024;\n",
              "\n",
              "function _uploadFiles(inputId, outputId) {\n",
              "  const steps = uploadFilesStep(inputId, outputId);\n",
              "  const outputElement = document.getElementById(outputId);\n",
              "  // Cache steps on the outputElement to make it available for the next call\n",
              "  // to uploadFilesContinue from Python.\n",
              "  outputElement.steps = steps;\n",
              "\n",
              "  return _uploadFilesContinue(outputId);\n",
              "}\n",
              "\n",
              "// This is roughly an async generator (not supported in the browser yet),\n",
              "// where there are multiple asynchronous steps and the Python side is going\n",
              "// to poll for completion of each step.\n",
              "// This uses a Promise to block the python side on completion of each step,\n",
              "// then passes the result of the previous step as the input to the next step.\n",
              "function _uploadFilesContinue(outputId) {\n",
              "  const outputElement = document.getElementById(outputId);\n",
              "  const steps = outputElement.steps;\n",
              "\n",
              "  const next = steps.next(outputElement.lastPromiseValue);\n",
              "  return Promise.resolve(next.value.promise).then((value) => {\n",
              "    // Cache the last promise value to make it available to the next\n",
              "    // step of the generator.\n",
              "    outputElement.lastPromiseValue = value;\n",
              "    return next.value.response;\n",
              "  });\n",
              "}\n",
              "\n",
              "/**\n",
              " * Generator function which is called between each async step of the upload\n",
              " * process.\n",
              " * @param {string} inputId Element ID of the input file picker element.\n",
              " * @param {string} outputId Element ID of the output display.\n",
              " * @return {!Iterable<!Object>} Iterable of next steps.\n",
              " */\n",
              "function* uploadFilesStep(inputId, outputId) {\n",
              "  const inputElement = document.getElementById(inputId);\n",
              "  inputElement.disabled = false;\n",
              "\n",
              "  const outputElement = document.getElementById(outputId);\n",
              "  outputElement.innerHTML = '';\n",
              "\n",
              "  const pickedPromise = new Promise((resolve) => {\n",
              "    inputElement.addEventListener('change', (e) => {\n",
              "      resolve(e.target.files);\n",
              "    });\n",
              "  });\n",
              "\n",
              "  const cancel = document.createElement('button');\n",
              "  inputElement.parentElement.appendChild(cancel);\n",
              "  cancel.textContent = 'Cancel upload';\n",
              "  const cancelPromise = new Promise((resolve) => {\n",
              "    cancel.onclick = () => {\n",
              "      resolve(null);\n",
              "    };\n",
              "  });\n",
              "\n",
              "  // Wait for the user to pick the files.\n",
              "  const files = yield {\n",
              "    promise: Promise.race([pickedPromise, cancelPromise]),\n",
              "    response: {\n",
              "      action: 'starting',\n",
              "    }\n",
              "  };\n",
              "\n",
              "  cancel.remove();\n",
              "\n",
              "  // Disable the input element since further picks are not allowed.\n",
              "  inputElement.disabled = true;\n",
              "\n",
              "  if (!files) {\n",
              "    return {\n",
              "      response: {\n",
              "        action: 'complete',\n",
              "      }\n",
              "    };\n",
              "  }\n",
              "\n",
              "  for (const file of files) {\n",
              "    const li = document.createElement('li');\n",
              "    li.append(span(file.name, {fontWeight: 'bold'}));\n",
              "    li.append(span(\n",
              "        `(${file.type || 'n/a'}) - ${file.size} bytes, ` +\n",
              "        `last modified: ${\n",
              "            file.lastModifiedDate ? file.lastModifiedDate.toLocaleDateString() :\n",
              "                                    'n/a'} - `));\n",
              "    const percent = span('0% done');\n",
              "    li.appendChild(percent);\n",
              "\n",
              "    outputElement.appendChild(li);\n",
              "\n",
              "    const fileDataPromise = new Promise((resolve) => {\n",
              "      const reader = new FileReader();\n",
              "      reader.onload = (e) => {\n",
              "        resolve(e.target.result);\n",
              "      };\n",
              "      reader.readAsArrayBuffer(file);\n",
              "    });\n",
              "    // Wait for the data to be ready.\n",
              "    let fileData = yield {\n",
              "      promise: fileDataPromise,\n",
              "      response: {\n",
              "        action: 'continue',\n",
              "      }\n",
              "    };\n",
              "\n",
              "    // Use a chunked sending to avoid message size limits. See b/62115660.\n",
              "    let position = 0;\n",
              "    do {\n",
              "      const length = Math.min(fileData.byteLength - position, MAX_PAYLOAD_SIZE);\n",
              "      const chunk = new Uint8Array(fileData, position, length);\n",
              "      position += length;\n",
              "\n",
              "      const base64 = btoa(String.fromCharCode.apply(null, chunk));\n",
              "      yield {\n",
              "        response: {\n",
              "          action: 'append',\n",
              "          file: file.name,\n",
              "          data: base64,\n",
              "        },\n",
              "      };\n",
              "\n",
              "      let percentDone = fileData.byteLength === 0 ?\n",
              "          100 :\n",
              "          Math.round((position / fileData.byteLength) * 100);\n",
              "      percent.textContent = `${percentDone}% done`;\n",
              "\n",
              "    } while (position < fileData.byteLength);\n",
              "  }\n",
              "\n",
              "  // All done.\n",
              "  yield {\n",
              "    response: {\n",
              "      action: 'complete',\n",
              "    }\n",
              "  };\n",
              "}\n",
              "\n",
              "scope.google = scope.google || {};\n",
              "scope.google.colab = scope.google.colab || {};\n",
              "scope.google.colab._files = {\n",
              "  _uploadFiles,\n",
              "  _uploadFilesContinue,\n",
              "};\n",
              "})(self);\n",
              "</script> "
            ]
          },
          "metadata": {}
        },
        {
          "output_type": "stream",
          "name": "stdout",
          "text": [
            "Saving Credit_Card_Customer_Data.xlsx to Credit_Card_Customer_Data (1).xlsx\n"
          ]
        }
      ]
    },
    {
      "cell_type": "code",
      "source": [
        "#read the dataframe\n",
        "file = pd.read_excel('Credit_Card_Customer_Data.xlsx')\n",
        "file"
      ],
      "metadata": {
        "colab": {
          "base_uri": "https://localhost:8080/",
          "height": 424
        },
        "id": "AL3NAkO6LcBu",
        "outputId": "81cc08da-71dc-4e14-9186-ff08c2b784ac"
      },
      "execution_count": 91,
      "outputs": [
        {
          "output_type": "execute_result",
          "data": {
            "text/plain": [
              "     Sl_No  Customer Key  Avg_Credit_Limit  Total_Credit_Cards  \\\n",
              "0        1         87073            100000                   2   \n",
              "1        2         38414             50000                   3   \n",
              "2        3         17341             50000                   7   \n",
              "3        4         40496             30000                   5   \n",
              "4        5         47437            100000                   6   \n",
              "..     ...           ...               ...                 ...   \n",
              "655    656         51108             99000                  10   \n",
              "656    657         60732             84000                  10   \n",
              "657    658         53834            145000                   8   \n",
              "658    659         80655            172000                  10   \n",
              "659    660         80150            167000                   9   \n",
              "\n",
              "     Total_visits_bank  Total_visits_online  Total_calls_made  \n",
              "0                    1                    1                 0  \n",
              "1                    0                   10                 9  \n",
              "2                    1                    3                 4  \n",
              "3                    1                    1                 4  \n",
              "4                    0                   12                 3  \n",
              "..                 ...                  ...               ...  \n",
              "655                  1                   10                 0  \n",
              "656                  1                   13                 2  \n",
              "657                  1                    9                 1  \n",
              "658                  1                   15                 0  \n",
              "659                  0                   12                 2  \n",
              "\n",
              "[660 rows x 7 columns]"
            ],
            "text/html": [
              "\n",
              "  <div id=\"df-85a8a83d-e9a6-4f5d-8de6-f052f3ce4d8c\">\n",
              "    <div class=\"colab-df-container\">\n",
              "      <div>\n",
              "<style scoped>\n",
              "    .dataframe tbody tr th:only-of-type {\n",
              "        vertical-align: middle;\n",
              "    }\n",
              "\n",
              "    .dataframe tbody tr th {\n",
              "        vertical-align: top;\n",
              "    }\n",
              "\n",
              "    .dataframe thead th {\n",
              "        text-align: right;\n",
              "    }\n",
              "</style>\n",
              "<table border=\"1\" class=\"dataframe\">\n",
              "  <thead>\n",
              "    <tr style=\"text-align: right;\">\n",
              "      <th></th>\n",
              "      <th>Sl_No</th>\n",
              "      <th>Customer Key</th>\n",
              "      <th>Avg_Credit_Limit</th>\n",
              "      <th>Total_Credit_Cards</th>\n",
              "      <th>Total_visits_bank</th>\n",
              "      <th>Total_visits_online</th>\n",
              "      <th>Total_calls_made</th>\n",
              "    </tr>\n",
              "  </thead>\n",
              "  <tbody>\n",
              "    <tr>\n",
              "      <th>0</th>\n",
              "      <td>1</td>\n",
              "      <td>87073</td>\n",
              "      <td>100000</td>\n",
              "      <td>2</td>\n",
              "      <td>1</td>\n",
              "      <td>1</td>\n",
              "      <td>0</td>\n",
              "    </tr>\n",
              "    <tr>\n",
              "      <th>1</th>\n",
              "      <td>2</td>\n",
              "      <td>38414</td>\n",
              "      <td>50000</td>\n",
              "      <td>3</td>\n",
              "      <td>0</td>\n",
              "      <td>10</td>\n",
              "      <td>9</td>\n",
              "    </tr>\n",
              "    <tr>\n",
              "      <th>2</th>\n",
              "      <td>3</td>\n",
              "      <td>17341</td>\n",
              "      <td>50000</td>\n",
              "      <td>7</td>\n",
              "      <td>1</td>\n",
              "      <td>3</td>\n",
              "      <td>4</td>\n",
              "    </tr>\n",
              "    <tr>\n",
              "      <th>3</th>\n",
              "      <td>4</td>\n",
              "      <td>40496</td>\n",
              "      <td>30000</td>\n",
              "      <td>5</td>\n",
              "      <td>1</td>\n",
              "      <td>1</td>\n",
              "      <td>4</td>\n",
              "    </tr>\n",
              "    <tr>\n",
              "      <th>4</th>\n",
              "      <td>5</td>\n",
              "      <td>47437</td>\n",
              "      <td>100000</td>\n",
              "      <td>6</td>\n",
              "      <td>0</td>\n",
              "      <td>12</td>\n",
              "      <td>3</td>\n",
              "    </tr>\n",
              "    <tr>\n",
              "      <th>...</th>\n",
              "      <td>...</td>\n",
              "      <td>...</td>\n",
              "      <td>...</td>\n",
              "      <td>...</td>\n",
              "      <td>...</td>\n",
              "      <td>...</td>\n",
              "      <td>...</td>\n",
              "    </tr>\n",
              "    <tr>\n",
              "      <th>655</th>\n",
              "      <td>656</td>\n",
              "      <td>51108</td>\n",
              "      <td>99000</td>\n",
              "      <td>10</td>\n",
              "      <td>1</td>\n",
              "      <td>10</td>\n",
              "      <td>0</td>\n",
              "    </tr>\n",
              "    <tr>\n",
              "      <th>656</th>\n",
              "      <td>657</td>\n",
              "      <td>60732</td>\n",
              "      <td>84000</td>\n",
              "      <td>10</td>\n",
              "      <td>1</td>\n",
              "      <td>13</td>\n",
              "      <td>2</td>\n",
              "    </tr>\n",
              "    <tr>\n",
              "      <th>657</th>\n",
              "      <td>658</td>\n",
              "      <td>53834</td>\n",
              "      <td>145000</td>\n",
              "      <td>8</td>\n",
              "      <td>1</td>\n",
              "      <td>9</td>\n",
              "      <td>1</td>\n",
              "    </tr>\n",
              "    <tr>\n",
              "      <th>658</th>\n",
              "      <td>659</td>\n",
              "      <td>80655</td>\n",
              "      <td>172000</td>\n",
              "      <td>10</td>\n",
              "      <td>1</td>\n",
              "      <td>15</td>\n",
              "      <td>0</td>\n",
              "    </tr>\n",
              "    <tr>\n",
              "      <th>659</th>\n",
              "      <td>660</td>\n",
              "      <td>80150</td>\n",
              "      <td>167000</td>\n",
              "      <td>9</td>\n",
              "      <td>0</td>\n",
              "      <td>12</td>\n",
              "      <td>2</td>\n",
              "    </tr>\n",
              "  </tbody>\n",
              "</table>\n",
              "<p>660 rows × 7 columns</p>\n",
              "</div>\n",
              "      <button class=\"colab-df-convert\" onclick=\"convertToInteractive('df-85a8a83d-e9a6-4f5d-8de6-f052f3ce4d8c')\"\n",
              "              title=\"Convert this dataframe to an interactive table.\"\n",
              "              style=\"display:none;\">\n",
              "        \n",
              "  <svg xmlns=\"http://www.w3.org/2000/svg\" height=\"24px\"viewBox=\"0 0 24 24\"\n",
              "       width=\"24px\">\n",
              "    <path d=\"M0 0h24v24H0V0z\" fill=\"none\"/>\n",
              "    <path d=\"M18.56 5.44l.94 2.06.94-2.06 2.06-.94-2.06-.94-.94-2.06-.94 2.06-2.06.94zm-11 1L8.5 8.5l.94-2.06 2.06-.94-2.06-.94L8.5 2.5l-.94 2.06-2.06.94zm10 10l.94 2.06.94-2.06 2.06-.94-2.06-.94-.94-2.06-.94 2.06-2.06.94z\"/><path d=\"M17.41 7.96l-1.37-1.37c-.4-.4-.92-.59-1.43-.59-.52 0-1.04.2-1.43.59L10.3 9.45l-7.72 7.72c-.78.78-.78 2.05 0 2.83L4 21.41c.39.39.9.59 1.41.59.51 0 1.02-.2 1.41-.59l7.78-7.78 2.81-2.81c.8-.78.8-2.07 0-2.86zM5.41 20L4 18.59l7.72-7.72 1.47 1.35L5.41 20z\"/>\n",
              "  </svg>\n",
              "      </button>\n",
              "      \n",
              "  <style>\n",
              "    .colab-df-container {\n",
              "      display:flex;\n",
              "      flex-wrap:wrap;\n",
              "      gap: 12px;\n",
              "    }\n",
              "\n",
              "    .colab-df-convert {\n",
              "      background-color: #E8F0FE;\n",
              "      border: none;\n",
              "      border-radius: 50%;\n",
              "      cursor: pointer;\n",
              "      display: none;\n",
              "      fill: #1967D2;\n",
              "      height: 32px;\n",
              "      padding: 0 0 0 0;\n",
              "      width: 32px;\n",
              "    }\n",
              "\n",
              "    .colab-df-convert:hover {\n",
              "      background-color: #E2EBFA;\n",
              "      box-shadow: 0px 1px 2px rgba(60, 64, 67, 0.3), 0px 1px 3px 1px rgba(60, 64, 67, 0.15);\n",
              "      fill: #174EA6;\n",
              "    }\n",
              "\n",
              "    [theme=dark] .colab-df-convert {\n",
              "      background-color: #3B4455;\n",
              "      fill: #D2E3FC;\n",
              "    }\n",
              "\n",
              "    [theme=dark] .colab-df-convert:hover {\n",
              "      background-color: #434B5C;\n",
              "      box-shadow: 0px 1px 3px 1px rgba(0, 0, 0, 0.15);\n",
              "      filter: drop-shadow(0px 1px 2px rgba(0, 0, 0, 0.3));\n",
              "      fill: #FFFFFF;\n",
              "    }\n",
              "  </style>\n",
              "\n",
              "      <script>\n",
              "        const buttonEl =\n",
              "          document.querySelector('#df-85a8a83d-e9a6-4f5d-8de6-f052f3ce4d8c button.colab-df-convert');\n",
              "        buttonEl.style.display =\n",
              "          google.colab.kernel.accessAllowed ? 'block' : 'none';\n",
              "\n",
              "        async function convertToInteractive(key) {\n",
              "          const element = document.querySelector('#df-85a8a83d-e9a6-4f5d-8de6-f052f3ce4d8c');\n",
              "          const dataTable =\n",
              "            await google.colab.kernel.invokeFunction('convertToInteractive',\n",
              "                                                     [key], {});\n",
              "          if (!dataTable) return;\n",
              "\n",
              "          const docLinkHtml = 'Like what you see? Visit the ' +\n",
              "            '<a target=\"_blank\" href=https://colab.research.google.com/notebooks/data_table.ipynb>data table notebook</a>'\n",
              "            + ' to learn more about interactive tables.';\n",
              "          element.innerHTML = '';\n",
              "          dataTable['output_type'] = 'display_data';\n",
              "          await google.colab.output.renderOutput(dataTable, element);\n",
              "          const docLink = document.createElement('div');\n",
              "          docLink.innerHTML = docLinkHtml;\n",
              "          element.appendChild(docLink);\n",
              "        }\n",
              "      </script>\n",
              "    </div>\n",
              "  </div>\n",
              "  "
            ]
          },
          "metadata": {},
          "execution_count": 91
        }
      ]
    },
    {
      "cell_type": "markdown",
      "source": [
        "The customer Key is a unique identifier for each customer and does carry meaningful information related to the outcome or target variable, it is relevant for model building and removing the customer Key introduced duplicates\n"
      ],
      "metadata": {
        "id": "NSWUhwGguqgQ"
      }
    },
    {
      "cell_type": "code",
      "source": [
        "#drop seial number column, it provides no information\n",
        "file.drop(['Sl_No'], axis = 1, inplace = True)\n"
      ],
      "metadata": {
        "id": "Fmzl5XL844di"
      },
      "execution_count": 92,
      "outputs": []
    },
    {
      "cell_type": "markdown",
      "source": [
        "The customer Key contains an important informaion in that it makes the entries unique and removal results in the creaton of duplicates"
      ],
      "metadata": {
        "id": "VDpiIgN9cUlu"
      }
    },
    {
      "cell_type": "code",
      "source": [
        "file.head()"
      ],
      "metadata": {
        "colab": {
          "base_uri": "https://localhost:8080/",
          "height": 206
        },
        "id": "nM3GHXUCSgrl",
        "outputId": "10bddf29-d944-4f4f-9b9a-9ec159ad4bd0"
      },
      "execution_count": 93,
      "outputs": [
        {
          "output_type": "execute_result",
          "data": {
            "text/plain": [
              "   Customer Key  Avg_Credit_Limit  Total_Credit_Cards  Total_visits_bank  \\\n",
              "0         87073            100000                   2                  1   \n",
              "1         38414             50000                   3                  0   \n",
              "2         17341             50000                   7                  1   \n",
              "3         40496             30000                   5                  1   \n",
              "4         47437            100000                   6                  0   \n",
              "\n",
              "   Total_visits_online  Total_calls_made  \n",
              "0                    1                 0  \n",
              "1                   10                 9  \n",
              "2                    3                 4  \n",
              "3                    1                 4  \n",
              "4                   12                 3  "
            ],
            "text/html": [
              "\n",
              "  <div id=\"df-9efa696f-fd32-4002-a6bd-3878821d2733\">\n",
              "    <div class=\"colab-df-container\">\n",
              "      <div>\n",
              "<style scoped>\n",
              "    .dataframe tbody tr th:only-of-type {\n",
              "        vertical-align: middle;\n",
              "    }\n",
              "\n",
              "    .dataframe tbody tr th {\n",
              "        vertical-align: top;\n",
              "    }\n",
              "\n",
              "    .dataframe thead th {\n",
              "        text-align: right;\n",
              "    }\n",
              "</style>\n",
              "<table border=\"1\" class=\"dataframe\">\n",
              "  <thead>\n",
              "    <tr style=\"text-align: right;\">\n",
              "      <th></th>\n",
              "      <th>Customer Key</th>\n",
              "      <th>Avg_Credit_Limit</th>\n",
              "      <th>Total_Credit_Cards</th>\n",
              "      <th>Total_visits_bank</th>\n",
              "      <th>Total_visits_online</th>\n",
              "      <th>Total_calls_made</th>\n",
              "    </tr>\n",
              "  </thead>\n",
              "  <tbody>\n",
              "    <tr>\n",
              "      <th>0</th>\n",
              "      <td>87073</td>\n",
              "      <td>100000</td>\n",
              "      <td>2</td>\n",
              "      <td>1</td>\n",
              "      <td>1</td>\n",
              "      <td>0</td>\n",
              "    </tr>\n",
              "    <tr>\n",
              "      <th>1</th>\n",
              "      <td>38414</td>\n",
              "      <td>50000</td>\n",
              "      <td>3</td>\n",
              "      <td>0</td>\n",
              "      <td>10</td>\n",
              "      <td>9</td>\n",
              "    </tr>\n",
              "    <tr>\n",
              "      <th>2</th>\n",
              "      <td>17341</td>\n",
              "      <td>50000</td>\n",
              "      <td>7</td>\n",
              "      <td>1</td>\n",
              "      <td>3</td>\n",
              "      <td>4</td>\n",
              "    </tr>\n",
              "    <tr>\n",
              "      <th>3</th>\n",
              "      <td>40496</td>\n",
              "      <td>30000</td>\n",
              "      <td>5</td>\n",
              "      <td>1</td>\n",
              "      <td>1</td>\n",
              "      <td>4</td>\n",
              "    </tr>\n",
              "    <tr>\n",
              "      <th>4</th>\n",
              "      <td>47437</td>\n",
              "      <td>100000</td>\n",
              "      <td>6</td>\n",
              "      <td>0</td>\n",
              "      <td>12</td>\n",
              "      <td>3</td>\n",
              "    </tr>\n",
              "  </tbody>\n",
              "</table>\n",
              "</div>\n",
              "      <button class=\"colab-df-convert\" onclick=\"convertToInteractive('df-9efa696f-fd32-4002-a6bd-3878821d2733')\"\n",
              "              title=\"Convert this dataframe to an interactive table.\"\n",
              "              style=\"display:none;\">\n",
              "        \n",
              "  <svg xmlns=\"http://www.w3.org/2000/svg\" height=\"24px\"viewBox=\"0 0 24 24\"\n",
              "       width=\"24px\">\n",
              "    <path d=\"M0 0h24v24H0V0z\" fill=\"none\"/>\n",
              "    <path d=\"M18.56 5.44l.94 2.06.94-2.06 2.06-.94-2.06-.94-.94-2.06-.94 2.06-2.06.94zm-11 1L8.5 8.5l.94-2.06 2.06-.94-2.06-.94L8.5 2.5l-.94 2.06-2.06.94zm10 10l.94 2.06.94-2.06 2.06-.94-2.06-.94-.94-2.06-.94 2.06-2.06.94z\"/><path d=\"M17.41 7.96l-1.37-1.37c-.4-.4-.92-.59-1.43-.59-.52 0-1.04.2-1.43.59L10.3 9.45l-7.72 7.72c-.78.78-.78 2.05 0 2.83L4 21.41c.39.39.9.59 1.41.59.51 0 1.02-.2 1.41-.59l7.78-7.78 2.81-2.81c.8-.78.8-2.07 0-2.86zM5.41 20L4 18.59l7.72-7.72 1.47 1.35L5.41 20z\"/>\n",
              "  </svg>\n",
              "      </button>\n",
              "      \n",
              "  <style>\n",
              "    .colab-df-container {\n",
              "      display:flex;\n",
              "      flex-wrap:wrap;\n",
              "      gap: 12px;\n",
              "    }\n",
              "\n",
              "    .colab-df-convert {\n",
              "      background-color: #E8F0FE;\n",
              "      border: none;\n",
              "      border-radius: 50%;\n",
              "      cursor: pointer;\n",
              "      display: none;\n",
              "      fill: #1967D2;\n",
              "      height: 32px;\n",
              "      padding: 0 0 0 0;\n",
              "      width: 32px;\n",
              "    }\n",
              "\n",
              "    .colab-df-convert:hover {\n",
              "      background-color: #E2EBFA;\n",
              "      box-shadow: 0px 1px 2px rgba(60, 64, 67, 0.3), 0px 1px 3px 1px rgba(60, 64, 67, 0.15);\n",
              "      fill: #174EA6;\n",
              "    }\n",
              "\n",
              "    [theme=dark] .colab-df-convert {\n",
              "      background-color: #3B4455;\n",
              "      fill: #D2E3FC;\n",
              "    }\n",
              "\n",
              "    [theme=dark] .colab-df-convert:hover {\n",
              "      background-color: #434B5C;\n",
              "      box-shadow: 0px 1px 3px 1px rgba(0, 0, 0, 0.15);\n",
              "      filter: drop-shadow(0px 1px 2px rgba(0, 0, 0, 0.3));\n",
              "      fill: #FFFFFF;\n",
              "    }\n",
              "  </style>\n",
              "\n",
              "      <script>\n",
              "        const buttonEl =\n",
              "          document.querySelector('#df-9efa696f-fd32-4002-a6bd-3878821d2733 button.colab-df-convert');\n",
              "        buttonEl.style.display =\n",
              "          google.colab.kernel.accessAllowed ? 'block' : 'none';\n",
              "\n",
              "        async function convertToInteractive(key) {\n",
              "          const element = document.querySelector('#df-9efa696f-fd32-4002-a6bd-3878821d2733');\n",
              "          const dataTable =\n",
              "            await google.colab.kernel.invokeFunction('convertToInteractive',\n",
              "                                                     [key], {});\n",
              "          if (!dataTable) return;\n",
              "\n",
              "          const docLinkHtml = 'Like what you see? Visit the ' +\n",
              "            '<a target=\"_blank\" href=https://colab.research.google.com/notebooks/data_table.ipynb>data table notebook</a>'\n",
              "            + ' to learn more about interactive tables.';\n",
              "          element.innerHTML = '';\n",
              "          dataTable['output_type'] = 'display_data';\n",
              "          await google.colab.output.renderOutput(dataTable, element);\n",
              "          const docLink = document.createElement('div');\n",
              "          docLink.innerHTML = docLinkHtml;\n",
              "          element.appendChild(docLink);\n",
              "        }\n",
              "      </script>\n",
              "    </div>\n",
              "  </div>\n",
              "  "
            ]
          },
          "metadata": {},
          "execution_count": 93
        }
      ]
    },
    {
      "cell_type": "code",
      "source": [
        "file.duplicated().sum()"
      ],
      "metadata": {
        "colab": {
          "base_uri": "https://localhost:8080/"
        },
        "id": "2pK05Ce7uPfK",
        "outputId": "e56a6320-e63e-4fb5-89cd-98a3291f9106"
      },
      "execution_count": 94,
      "outputs": [
        {
          "output_type": "execute_result",
          "data": {
            "text/plain": [
              "0"
            ]
          },
          "metadata": {},
          "execution_count": 94
        }
      ]
    },
    {
      "cell_type": "code",
      "source": [
        "file.info()"
      ],
      "metadata": {
        "colab": {
          "base_uri": "https://localhost:8080/"
        },
        "id": "T8QbobZALcFf",
        "outputId": "9a1dc668-adce-45c0-c625-886a9ac2eb6d"
      },
      "execution_count": 95,
      "outputs": [
        {
          "output_type": "stream",
          "name": "stdout",
          "text": [
            "<class 'pandas.core.frame.DataFrame'>\n",
            "RangeIndex: 660 entries, 0 to 659\n",
            "Data columns (total 6 columns):\n",
            " #   Column               Non-Null Count  Dtype\n",
            "---  ------               --------------  -----\n",
            " 0   Customer Key         660 non-null    int64\n",
            " 1   Avg_Credit_Limit     660 non-null    int64\n",
            " 2   Total_Credit_Cards   660 non-null    int64\n",
            " 3   Total_visits_bank    660 non-null    int64\n",
            " 4   Total_visits_online  660 non-null    int64\n",
            " 5   Total_calls_made     660 non-null    int64\n",
            "dtypes: int64(6)\n",
            "memory usage: 31.1 KB\n"
          ]
        }
      ]
    },
    {
      "cell_type": "markdown",
      "source": [
        "All the variables are of type Integer"
      ],
      "metadata": {
        "id": "VL5H-3qe6T4d"
      }
    },
    {
      "cell_type": "code",
      "source": [
        "#check for missing values\n",
        "file.isnull().sum()"
      ],
      "metadata": {
        "colab": {
          "base_uri": "https://localhost:8080/"
        },
        "id": "AgCObG4aLcIn",
        "outputId": "b0bee635-12c2-41ab-882a-eb03307abc69"
      },
      "execution_count": 96,
      "outputs": [
        {
          "output_type": "execute_result",
          "data": {
            "text/plain": [
              "Customer Key           0\n",
              "Avg_Credit_Limit       0\n",
              "Total_Credit_Cards     0\n",
              "Total_visits_bank      0\n",
              "Total_visits_online    0\n",
              "Total_calls_made       0\n",
              "dtype: int64"
            ]
          },
          "metadata": {},
          "execution_count": 96
        }
      ]
    },
    {
      "cell_type": "markdown",
      "source": [
        "#Statistical Summary of the dataset"
      ],
      "metadata": {
        "id": "E2XBImIXeO7a"
      }
    },
    {
      "cell_type": "code",
      "source": [
        "#simple statistics\n",
        "file.describe().T"
      ],
      "metadata": {
        "colab": {
          "base_uri": "https://localhost:8080/",
          "height": 238
        },
        "id": "BKIrZ066LcLs",
        "outputId": "555e8249-ff35-4312-b2c4-aeead88209eb"
      },
      "execution_count": 97,
      "outputs": [
        {
          "output_type": "execute_result",
          "data": {
            "text/plain": [
              "                     count          mean           std      min       25%  \\\n",
              "Customer Key         660.0  55141.443939  25627.772200  11265.0  33825.25   \n",
              "Avg_Credit_Limit     660.0  34574.242424  37625.487804   3000.0  10000.00   \n",
              "Total_Credit_Cards   660.0      4.706061      2.167835      1.0      3.00   \n",
              "Total_visits_bank    660.0      2.403030      1.631813      0.0      1.00   \n",
              "Total_visits_online  660.0      2.606061      2.935724      0.0      1.00   \n",
              "Total_calls_made     660.0      3.583333      2.865317      0.0      1.00   \n",
              "\n",
              "                         50%      75%       max  \n",
              "Customer Key         53874.5  77202.5   99843.0  \n",
              "Avg_Credit_Limit     18000.0  48000.0  200000.0  \n",
              "Total_Credit_Cards       5.0      6.0      10.0  \n",
              "Total_visits_bank        2.0      4.0       5.0  \n",
              "Total_visits_online      2.0      4.0      15.0  \n",
              "Total_calls_made         3.0      5.0      10.0  "
            ],
            "text/html": [
              "\n",
              "  <div id=\"df-94ed5953-b173-45db-8460-4036f2570e5a\">\n",
              "    <div class=\"colab-df-container\">\n",
              "      <div>\n",
              "<style scoped>\n",
              "    .dataframe tbody tr th:only-of-type {\n",
              "        vertical-align: middle;\n",
              "    }\n",
              "\n",
              "    .dataframe tbody tr th {\n",
              "        vertical-align: top;\n",
              "    }\n",
              "\n",
              "    .dataframe thead th {\n",
              "        text-align: right;\n",
              "    }\n",
              "</style>\n",
              "<table border=\"1\" class=\"dataframe\">\n",
              "  <thead>\n",
              "    <tr style=\"text-align: right;\">\n",
              "      <th></th>\n",
              "      <th>count</th>\n",
              "      <th>mean</th>\n",
              "      <th>std</th>\n",
              "      <th>min</th>\n",
              "      <th>25%</th>\n",
              "      <th>50%</th>\n",
              "      <th>75%</th>\n",
              "      <th>max</th>\n",
              "    </tr>\n",
              "  </thead>\n",
              "  <tbody>\n",
              "    <tr>\n",
              "      <th>Customer Key</th>\n",
              "      <td>660.0</td>\n",
              "      <td>55141.443939</td>\n",
              "      <td>25627.772200</td>\n",
              "      <td>11265.0</td>\n",
              "      <td>33825.25</td>\n",
              "      <td>53874.5</td>\n",
              "      <td>77202.5</td>\n",
              "      <td>99843.0</td>\n",
              "    </tr>\n",
              "    <tr>\n",
              "      <th>Avg_Credit_Limit</th>\n",
              "      <td>660.0</td>\n",
              "      <td>34574.242424</td>\n",
              "      <td>37625.487804</td>\n",
              "      <td>3000.0</td>\n",
              "      <td>10000.00</td>\n",
              "      <td>18000.0</td>\n",
              "      <td>48000.0</td>\n",
              "      <td>200000.0</td>\n",
              "    </tr>\n",
              "    <tr>\n",
              "      <th>Total_Credit_Cards</th>\n",
              "      <td>660.0</td>\n",
              "      <td>4.706061</td>\n",
              "      <td>2.167835</td>\n",
              "      <td>1.0</td>\n",
              "      <td>3.00</td>\n",
              "      <td>5.0</td>\n",
              "      <td>6.0</td>\n",
              "      <td>10.0</td>\n",
              "    </tr>\n",
              "    <tr>\n",
              "      <th>Total_visits_bank</th>\n",
              "      <td>660.0</td>\n",
              "      <td>2.403030</td>\n",
              "      <td>1.631813</td>\n",
              "      <td>0.0</td>\n",
              "      <td>1.00</td>\n",
              "      <td>2.0</td>\n",
              "      <td>4.0</td>\n",
              "      <td>5.0</td>\n",
              "    </tr>\n",
              "    <tr>\n",
              "      <th>Total_visits_online</th>\n",
              "      <td>660.0</td>\n",
              "      <td>2.606061</td>\n",
              "      <td>2.935724</td>\n",
              "      <td>0.0</td>\n",
              "      <td>1.00</td>\n",
              "      <td>2.0</td>\n",
              "      <td>4.0</td>\n",
              "      <td>15.0</td>\n",
              "    </tr>\n",
              "    <tr>\n",
              "      <th>Total_calls_made</th>\n",
              "      <td>660.0</td>\n",
              "      <td>3.583333</td>\n",
              "      <td>2.865317</td>\n",
              "      <td>0.0</td>\n",
              "      <td>1.00</td>\n",
              "      <td>3.0</td>\n",
              "      <td>5.0</td>\n",
              "      <td>10.0</td>\n",
              "    </tr>\n",
              "  </tbody>\n",
              "</table>\n",
              "</div>\n",
              "      <button class=\"colab-df-convert\" onclick=\"convertToInteractive('df-94ed5953-b173-45db-8460-4036f2570e5a')\"\n",
              "              title=\"Convert this dataframe to an interactive table.\"\n",
              "              style=\"display:none;\">\n",
              "        \n",
              "  <svg xmlns=\"http://www.w3.org/2000/svg\" height=\"24px\"viewBox=\"0 0 24 24\"\n",
              "       width=\"24px\">\n",
              "    <path d=\"M0 0h24v24H0V0z\" fill=\"none\"/>\n",
              "    <path d=\"M18.56 5.44l.94 2.06.94-2.06 2.06-.94-2.06-.94-.94-2.06-.94 2.06-2.06.94zm-11 1L8.5 8.5l.94-2.06 2.06-.94-2.06-.94L8.5 2.5l-.94 2.06-2.06.94zm10 10l.94 2.06.94-2.06 2.06-.94-2.06-.94-.94-2.06-.94 2.06-2.06.94z\"/><path d=\"M17.41 7.96l-1.37-1.37c-.4-.4-.92-.59-1.43-.59-.52 0-1.04.2-1.43.59L10.3 9.45l-7.72 7.72c-.78.78-.78 2.05 0 2.83L4 21.41c.39.39.9.59 1.41.59.51 0 1.02-.2 1.41-.59l7.78-7.78 2.81-2.81c.8-.78.8-2.07 0-2.86zM5.41 20L4 18.59l7.72-7.72 1.47 1.35L5.41 20z\"/>\n",
              "  </svg>\n",
              "      </button>\n",
              "      \n",
              "  <style>\n",
              "    .colab-df-container {\n",
              "      display:flex;\n",
              "      flex-wrap:wrap;\n",
              "      gap: 12px;\n",
              "    }\n",
              "\n",
              "    .colab-df-convert {\n",
              "      background-color: #E8F0FE;\n",
              "      border: none;\n",
              "      border-radius: 50%;\n",
              "      cursor: pointer;\n",
              "      display: none;\n",
              "      fill: #1967D2;\n",
              "      height: 32px;\n",
              "      padding: 0 0 0 0;\n",
              "      width: 32px;\n",
              "    }\n",
              "\n",
              "    .colab-df-convert:hover {\n",
              "      background-color: #E2EBFA;\n",
              "      box-shadow: 0px 1px 2px rgba(60, 64, 67, 0.3), 0px 1px 3px 1px rgba(60, 64, 67, 0.15);\n",
              "      fill: #174EA6;\n",
              "    }\n",
              "\n",
              "    [theme=dark] .colab-df-convert {\n",
              "      background-color: #3B4455;\n",
              "      fill: #D2E3FC;\n",
              "    }\n",
              "\n",
              "    [theme=dark] .colab-df-convert:hover {\n",
              "      background-color: #434B5C;\n",
              "      box-shadow: 0px 1px 3px 1px rgba(0, 0, 0, 0.15);\n",
              "      filter: drop-shadow(0px 1px 2px rgba(0, 0, 0, 0.3));\n",
              "      fill: #FFFFFF;\n",
              "    }\n",
              "  </style>\n",
              "\n",
              "      <script>\n",
              "        const buttonEl =\n",
              "          document.querySelector('#df-94ed5953-b173-45db-8460-4036f2570e5a button.colab-df-convert');\n",
              "        buttonEl.style.display =\n",
              "          google.colab.kernel.accessAllowed ? 'block' : 'none';\n",
              "\n",
              "        async function convertToInteractive(key) {\n",
              "          const element = document.querySelector('#df-94ed5953-b173-45db-8460-4036f2570e5a');\n",
              "          const dataTable =\n",
              "            await google.colab.kernel.invokeFunction('convertToInteractive',\n",
              "                                                     [key], {});\n",
              "          if (!dataTable) return;\n",
              "\n",
              "          const docLinkHtml = 'Like what you see? Visit the ' +\n",
              "            '<a target=\"_blank\" href=https://colab.research.google.com/notebooks/data_table.ipynb>data table notebook</a>'\n",
              "            + ' to learn more about interactive tables.';\n",
              "          element.innerHTML = '';\n",
              "          dataTable['output_type'] = 'display_data';\n",
              "          await google.colab.output.renderOutput(dataTable, element);\n",
              "          const docLink = document.createElement('div');\n",
              "          docLink.innerHTML = docLinkHtml;\n",
              "          element.appendChild(docLink);\n",
              "        }\n",
              "      </script>\n",
              "    </div>\n",
              "  </div>\n",
              "  "
            ]
          },
          "metadata": {},
          "execution_count": 97
        }
      ]
    },
    {
      "cell_type": "markdown",
      "source": [
        "#Checking the shape of the dataset"
      ],
      "metadata": {
        "id": "MbvhMaNfd74b"
      }
    },
    {
      "cell_type": "code",
      "source": [
        "file.shape"
      ],
      "metadata": {
        "colab": {
          "base_uri": "https://localhost:8080/"
        },
        "id": "JViODXDCSr2O",
        "outputId": "b0146dd8-edb6-4a12-cd82-11568e763723"
      },
      "execution_count": 98,
      "outputs": [
        {
          "output_type": "execute_result",
          "data": {
            "text/plain": [
              "(660, 6)"
            ]
          },
          "metadata": {},
          "execution_count": 98
        }
      ]
    },
    {
      "cell_type": "markdown",
      "source": [
        "the data has 660 rows and 7 columns"
      ],
      "metadata": {
        "id": "JaDqGEC7SylA"
      }
    },
    {
      "cell_type": "markdown",
      "source": [
        "#Exploratory Data Analysis"
      ],
      "metadata": {
        "id": "Q-_gbSQ3enVo"
      }
    },
    {
      "cell_type": "markdown",
      "source": [
        "###Graphical Representation of dataset using Boxplot"
      ],
      "metadata": {
        "id": "8XDFhT4pfX5y"
      }
    },
    {
      "cell_type": "code",
      "source": [
        "\n",
        "# Specify the figure size and create subplots\n",
        "fig, axes = plt.subplots(1, 1, figsize=(8, 6))\n",
        "\n",
        "# Create the boxplot\n",
        "sns.boxplot(ax=axes, data=file)\n",
        "\n",
        "#set the xticks\n",
        "plt.xticks(rotation = 90)\n",
        "\n",
        "# Set the title and labels\n",
        "axes.set_title(\"Boxplot of Numerical Variables\")\n",
        "axes.set_xlabel(\"Features\")\n",
        "axes.set_ylabel(\"Values\")\n",
        "\n",
        "# Show the plot\n",
        "plt.show()"
      ],
      "metadata": {
        "colab": {
          "base_uri": "https://localhost:8080/",
          "height": 667
        },
        "id": "0HegJY38LcUA",
        "outputId": "12f66a80-d24f-4f8c-cad8-6c9a39e73ba1"
      },
      "execution_count": 99,
      "outputs": [
        {
          "output_type": "display_data",
          "data": {
            "text/plain": [
              "<Figure size 800x600 with 1 Axes>"
            ],
            "image/png": "[encoded data removed]"
          },
          "metadata": {}
        }
      ]
    },
    {
      "cell_type": "markdown",
      "source": [
        "The boxplot shows the distribution of the dataset.\n",
        "There was little variation in the Total_Credit_Card, Total_visits_bank and Total_calls_made columns. \n",
        "Outliers were present in Total_visits_online and Average_Credit_Limit columns"
      ],
      "metadata": {
        "id": "4v1Z0L_c0VTz"
      }
    },
    {
      "cell_type": "markdown",
      "source": [
        "\n",
        "#Univariate Analysis"
      ],
      "metadata": {
        "id": "_g0ncal5IMxR"
      }
    },
    {
      "cell_type": "code",
      "source": [
        "for col in file.columns:\n",
        "    plt.figure(figsize=(4, 4))  # Set the figure size\n",
        "    sns.histplot(file[col])\n",
        "    plt.show() \n"
      ],
      "metadata": {
        "id": "VbNL2SJlLcdn",
        "colab": {
          "base_uri": "https://localhost:8080/",
          "height": 1000
        },
        "outputId": "2025f46c-906a-442f-fee0-c3cf9f45b04a"
      },
      "execution_count": 100,
      "outputs": [
        {
          "output_type": "display_data",
          "data": {
            "text/plain": [
              "<Figure size 400x400 with 1 Axes>"
            ],
            "image/png": "[encoded data removed]"
          },
          "metadata": {}
        },
        {
          "output_type": "display_data",
          "data": {
            "text/plain": [
              "<Figure size 400x400 with 1 Axes>"
            ],
            "image/png": "[encoded data removed]"
          },
          "metadata": {}
        },
        {
          "output_type": "display_data",
          "data": {
            "text/plain": [
              "<Figure size 400x400 with 1 Axes>"
            ],
            "image/png": "[encoded data removed]"
          },
          "metadata": {}
        },
        {
          "output_type": "display_data",
          "data": {
            "text/plain": [
              "<Figure size 400x400 with 1 Axes>"
            ],
            "image/png": "[encoded data removed]"
          },
          "metadata": {}
        },
        {
          "output_type": "display_data",
          "data": {
            "text/plain": [
              "<Figure size 400x400 with 1 Axes>"
            ],
            "image/png": "[encoded data removed]"
          },
          "metadata": {}
        },
        {
          "output_type": "display_data",
          "data": {
            "text/plain": [
              "<Figure size 400x400 with 1 Axes>"
            ],
            "image/png": "[encoded data removed]"
          },
          "metadata": {}
        }
      ]
    },
    {
      "cell_type": "markdown",
      "source": [
        "#Bivariate Analysis"
      ],
      "metadata": {
        "id": "hJ0HWnBxICza"
      }
    },
    {
      "cell_type": "code",
      "source": [
        "#Correlation\n",
        "from pandas import core\n",
        "cor=file.corr()\n",
        "sns.heatmap(cor, annot = True)"
      ],
      "metadata": {
        "colab": {
          "base_uri": "https://localhost:8080/",
          "height": 612
        },
        "id": "FR45tCKvH-As",
        "outputId": "d57c1777-ef43-456f-9dfe-21795e9ab362"
      },
      "execution_count": 101,
      "outputs": [
        {
          "output_type": "execute_result",
          "data": {
            "text/plain": [
              "<Axes: >"
            ]
          },
          "metadata": {},
          "execution_count": 101
        },
        {
          "output_type": "display_data",
          "data": {
            "text/plain": [
              "<Figure size 800x550 with 2 Axes>"
            ],
            "image/png": "[encoded data removed]"
          },
          "metadata": {}
        }
      ]
    },
    {
      "cell_type": "markdown",
      "source": [
        "total calls made is the highest in correlation"
      ],
      "metadata": {
        "id": "05LdNHPIIatY"
      }
    },
    {
      "cell_type": "code",
      "source": [
        "#Save a copy of the file\n",
        "df=file.copy()"
      ],
      "metadata": {
        "id": "l82bppnuUG00"
      },
      "execution_count": 102,
      "outputs": []
    },
    {
      "cell_type": "markdown",
      "source": [
        "### Feature Scaling"
      ],
      "metadata": {
        "id": "P7ibRMbIxFLw"
      }
    },
    {
      "cell_type": "markdown",
      "source": [
        " #### Scales the features of our data so that they all have a similar range."
      ],
      "metadata": {
        "id": "GyyV3K-MgTU6"
      }
    },
    {
      "cell_type": "code",
      "source": [
        "# Store the feature names\n",
        "feature_names = df.columns.tolist()\n",
        "\n",
        "# Scale the data\n",
        "scaler = StandardScaler()\n",
        "df_sd = scaler.fit_transform(df)\n"
      ],
      "metadata": {
        "id": "6ymsgOolH99N"
      },
      "execution_count": 103,
      "outputs": []
    },
    {
      "cell_type": "markdown",
      "source": [
        "#KMeans Clustering"
      ],
      "metadata": {
        "id": "yEy3xvqagfiN"
      }
    },
    {
      "cell_type": "code",
      "source": [
        "# Initialize K-means on the scaled data\n",
        "kmeans = KMeans( random_state=0)\n",
        "kmeans.fit(df_sd)"
      ],
      "metadata": {
        "colab": {
          "base_uri": "https://localhost:8080/",
          "height": 75
        },
        "id": "QvHpv74MgeMn",
        "outputId": "37f6c95a-262e-4f4e-e6e4-cefc92cf46b0"
      },
      "execution_count": 104,
      "outputs": [
        {
          "output_type": "execute_result",
          "data": {
            "text/plain": [
              "KMeans(random_state=0)"
            ],
            "text/html": [
              "<style>#sk-container-id-3 {color: black;background-color: white;}#sk-container-id-3 pre{padding: 0;}#sk-container-id-3 div.sk-toggleable {background-color: white;}#sk-container-id-3 label.sk-toggleable__label {cursor: pointer;display: block;width: 100%;margin-bottom: 0;padding: 0.3em;box-sizing: border-box;text-align: center;}#sk-container-id-3 label.sk-toggleable__label-arrow:before {content: \"▸\";float: left;margin-right: 0.25em;color: #696969;}#sk-container-id-3 label.sk-toggleable__label-arrow:hover:before {color: black;}#sk-container-id-3 div.sk-estimator:hover label.sk-toggleable__label-arrow:before {color: black;}#sk-container-id-3 div.sk-toggleable__content {max-height: 0;max-width: 0;overflow: hidden;text-align: left;background-color: #f0f8ff;}#sk-container-id-3 div.sk-toggleable__content pre {margin: 0.2em;color: black;border-radius: 0.25em;background-color: #f0f8ff;}#sk-container-id-3 input.sk-toggleable__control:checked~div.sk-toggleable__content {max-height: 200px;max-width: 100%;overflow: auto;}#sk-container-id-3 input.sk-toggleable__control:checked~label.sk-toggleable__label-arrow:before {content: \"▾\";}#sk-container-id-3 div.sk-estimator input.sk-toggleable__control:checked~label.sk-toggleable__label {background-color: #d4ebff;}#sk-container-id-3 div.sk-label input.sk-toggleable__control:checked~label.sk-toggleable__label {background-color: #d4ebff;}#sk-container-id-3 input.sk-hidden--visually {border: 0;clip: rect(1px 1px 1px 1px);clip: rect(1px, 1px, 1px, 1px);height: 1px;margin: -1px;overflow: hidden;padding: 0;position: absolute;width: 1px;}#sk-container-id-3 div.sk-estimator {font-family: monospace;background-color: #f0f8ff;border: 1px dotted black;border-radius: 0.25em;box-sizing: border-box;margin-bottom: 0.5em;}#sk-container-id-3 div.sk-estimator:hover {background-color: #d4ebff;}#sk-container-id-3 div.sk-parallel-item::after {content: \"\";width: 100%;border-bottom: 1px solid gray;flex-grow: 1;}#sk-container-id-3 div.sk-label:hover label.sk-toggleable__label {background-color: #d4ebff;}#sk-container-id-3 div.sk-serial::before {content: \"\";position: absolute;border-left: 1px solid gray;box-sizing: border-box;top: 0;bottom: 0;left: 50%;z-index: 0;}#sk-container-id-3 div.sk-serial {display: flex;flex-direction: column;align-items: center;background-color: white;padding-right: 0.2em;padding-left: 0.2em;position: relative;}#sk-container-id-3 div.sk-item {position: relative;z-index: 1;}#sk-container-id-3 div.sk-parallel {display: flex;align-items: stretch;justify-content: center;background-color: white;position: relative;}#sk-container-id-3 div.sk-item::before, #sk-container-id-3 div.sk-parallel-item::before {content: \"\";position: absolute;border-left: 1px solid gray;box-sizing: border-box;top: 0;bottom: 0;left: 50%;z-index: -1;}#sk-container-id-3 div.sk-parallel-item {display: flex;flex-direction: column;z-index: 1;position: relative;background-color: white;}#sk-container-id-3 div.sk-parallel-item:first-child::after {align-self: flex-end;width: 50%;}#sk-container-id-3 div.sk-parallel-item:last-child::after {align-self: flex-start;width: 50%;}#sk-container-id-3 div.sk-parallel-item:only-child::after {width: 0;}#sk-container-id-3 div.sk-dashed-wrapped {border: 1px dashed gray;margin: 0 0.4em 0.5em 0.4em;box-sizing: border-box;padding-bottom: 0.4em;background-color: white;}#sk-container-id-3 div.sk-label label {font-family: monospace;font-weight: bold;display: inline-block;line-height: 1.2em;}#sk-container-id-3 div.sk-label-container {text-align: center;}#sk-container-id-3 div.sk-container {/* jupyter's `normalize.less` sets `[hidden] { display: none; }` but bootstrap.min.css set `[hidden] { display: none !important; }` so we also need the `!important` here to be able to override the default hidden behavior on the sphinx rendered scikit-learn.org. See: https://github.com/scikit-learn/scikit-learn/issues/21755 */display: inline-block !important;position: relative;}#sk-container-id-3 div.sk-text-repr-fallback {display: none;}</style><div id=\"sk-container-id-3\" class=\"sk-top-container\"><div class=\"sk-text-repr-fallback\"><pre>KMeans(random_state=0)</pre><b>In a Jupyter environment, please rerun this cell to show the HTML representation or trust the notebook. <br />On GitHub, the HTML representation is unable to render, please try loading this page with nbviewer.org.</b></div><div class=\"sk-container\" hidden><div class=\"sk-item\"><div class=\"sk-estimator sk-toggleable\"><input class=\"sk-toggleable__control sk-hidden--visually\" id=\"sk-estimator-id-3\" type=\"checkbox\" checked><label for=\"sk-estimator-id-3\" class=\"sk-toggleable__label sk-toggleable__label-arrow\">KMeans</label><div class=\"sk-toggleable__content\"><pre>KMeans(random_state=0)</pre></div></div></div></div></div>"
            ]
          },
          "metadata": {},
          "execution_count": 104
        }
      ]
    },
    {
      "cell_type": "code",
      "source": [
        "df_sd"
      ],
      "metadata": {
        "colab": {
          "base_uri": "https://localhost:8080/"
        },
        "id": "daCzxImIIYET",
        "outputId": "b3581796-8d83-4004-96f7-38fab77cabdd"
      },
      "execution_count": 105,
      "outputs": [
        {
          "output_type": "execute_result",
          "data": {
            "text/plain": [
              "array([[ 1.24691971,  1.74018685, -1.24922476, -0.86045063, -0.54748969,\n",
              "        -1.25153737],\n",
              "       [-0.65320273,  0.41029254, -0.78758515, -1.47373077,  2.5205186 ,\n",
              "         1.89185881],\n",
              "       [-1.47609839,  0.41029254,  1.05897329, -0.86045063,  0.13428993,\n",
              "         0.1455276 ],\n",
              "       ...,\n",
              "       [-0.05105538,  2.93709172,  1.5206129 , -0.86045063,  2.17962879,\n",
              "        -0.90227113],\n",
              "       [ 0.99629832,  3.65523464,  2.44389211, -0.86045063,  4.22496765,\n",
              "        -1.25153737],\n",
              "       [ 0.97657819,  3.52224521,  1.9822525 , -1.47373077,  3.20229822,\n",
              "        -0.55300488]])"
            ]
          },
          "metadata": {},
          "execution_count": 105
        }
      ]
    },
    {
      "cell_type": "code",
      "source": [
        "y_pred = kmeans.predict(df_sd)"
      ],
      "metadata": {
        "id": "ArvzNTKrCqpe"
      },
      "execution_count": 106,
      "outputs": []
    },
    {
      "cell_type": "code",
      "source": [
        "y_pred"
      ],
      "metadata": {
        "colab": {
          "base_uri": "https://localhost:8080/"
        },
        "id": "zVacdjWdIntV",
        "outputId": "db648aef-7846-40fb-e037-2a24c08af955"
      },
      "execution_count": 107,
      "outputs": [
        {
          "output_type": "execute_result",
          "data": {
            "text/plain": [
              "array([1, 0, 5, 5, 2, 7, 2, 5, 3, 0, 0, 0, 7, 0, 3, 7, 3, 3, 0, 0, 0, 7,\n",
              "       0, 3, 0, 7, 7, 0, 3, 0, 0, 0, 7, 3, 0, 0, 7, 3, 7, 0, 7, 0, 3, 3,\n",
              "       3, 7, 3, 3, 0, 3, 7, 3, 7, 0, 7, 3, 0, 0, 7, 7, 0, 0, 3, 3, 7, 3,\n",
              "       3, 3, 7, 3, 0, 0, 0, 0, 0, 3, 3, 3, 7, 0, 7, 0, 3, 0, 3, 3, 0, 0,\n",
              "       0, 0, 0, 7, 0, 3, 3, 0, 0, 3, 7, 0, 3, 7, 0, 7, 7, 0, 0, 3, 3, 0,\n",
              "       3, 7, 7, 0, 0, 0, 7, 0, 3, 7, 0, 0, 3, 7, 3, 0, 0, 7, 0, 0, 0, 3,\n",
              "       0, 0, 0, 0, 7, 7, 0, 7, 7, 3, 7, 3, 7, 0, 7, 3, 7, 0, 7, 3, 3, 0,\n",
              "       7, 0, 0, 7, 0, 3, 7, 3, 3, 7, 7, 0, 7, 0, 0, 0, 7, 3, 0, 0, 0, 0,\n",
              "       0, 0, 0, 0, 3, 7, 0, 7, 3, 3, 3, 0, 3, 3, 7, 0, 3, 0, 0, 7, 7, 0,\n",
              "       0, 0, 7, 0, 0, 7, 0, 3, 3, 0, 0, 7, 3, 0, 3, 7, 7, 0, 3, 0, 0, 7,\n",
              "       7, 3, 7, 7, 7, 3, 7, 7, 5, 5, 4, 1, 6, 5, 4, 6, 4, 4, 5, 5, 5, 6,\n",
              "       5, 6, 5, 1, 6, 5, 4, 4, 5, 5, 4, 5, 5, 4, 1, 4, 5, 4, 6, 5, 6, 5,\n",
              "       4, 4, 6, 4, 6, 4, 4, 5, 1, 4, 4, 5, 4, 4, 6, 4, 4, 5, 1, 5, 5, 6,\n",
              "       4, 1, 5, 6, 5, 1, 5, 5, 6, 4, 4, 6, 4, 6, 6, 6, 5, 4, 4, 4, 5, 5,\n",
              "       4, 6, 6, 1, 5, 3, 5, 5, 4, 6, 4, 1, 4, 4, 5, 5, 4, 6, 4, 4, 4, 4,\n",
              "       5, 4, 5, 4, 4, 6, 6, 1, 1, 5, 1, 1, 4, 1, 1, 4, 5, 5, 6, 5, 1, 1,\n",
              "       1, 6, 4, 4, 4, 6, 5, 1, 5, 1, 6, 1, 6, 4, 4, 1, 1, 6, 1, 5, 6, 6,\n",
              "       4, 5, 4, 1, 4, 5, 5, 5, 1, 5, 4, 4, 1, 5, 4, 6, 5, 6, 6, 1, 6, 4,\n",
              "       6, 1, 1, 1, 5, 6, 5, 5, 1, 1, 1, 4, 5, 1, 5, 4, 6, 6, 5, 1, 5, 6,\n",
              "       5, 6, 5, 6, 5, 5, 6, 1, 1, 6, 4, 4, 6, 4, 5, 5, 5, 4, 1, 1, 5, 4,\n",
              "       5, 5, 5, 6, 4, 4, 6, 1, 4, 5, 5, 4, 4, 6, 1, 1, 4, 1, 5, 4, 6, 4,\n",
              "       6, 6, 5, 4, 5, 6, 6, 1, 4, 5, 1, 5, 5, 6, 4, 6, 1, 5, 1, 1, 5, 4,\n",
              "       4, 1, 1, 4, 6, 4, 5, 6, 4, 5, 5, 5, 1, 5, 4, 6, 6, 1, 1, 1, 6, 1,\n",
              "       6, 5, 5, 6, 5, 1, 1, 5, 5, 4, 4, 5, 6, 5, 6, 1, 4, 1, 1, 4, 5, 5,\n",
              "       1, 5, 5, 5, 5, 5, 4, 4, 6, 5, 6, 4, 1, 4, 6, 5, 1, 6, 5, 4, 1, 6,\n",
              "       6, 5, 1, 4, 1, 4, 6, 6, 6, 6, 5, 4, 1, 6, 6, 4, 4, 1, 6, 6, 1, 5,\n",
              "       6, 1, 5, 5, 1, 1, 6, 1, 6, 4, 6, 5, 4, 6, 1, 1, 5, 4, 1, 1, 6, 6,\n",
              "       1, 4, 6, 4, 4, 1, 6, 4, 6, 5, 1, 1, 5, 1, 4, 5, 5, 6, 2, 2, 2, 2,\n",
              "       2, 2, 2, 2, 2, 2, 2, 2, 2, 2, 2, 2, 2, 2, 2, 2, 2, 2, 2, 2, 2, 2,\n",
              "       2, 2, 2, 2, 2, 2, 2, 2, 2, 2, 2, 2, 2, 2, 2, 2, 2, 2, 2, 2, 2, 2],\n",
              "      dtype=int32)"
            ]
          },
          "metadata": {},
          "execution_count": 107
        }
      ]
    },
    {
      "cell_type": "code",
      "source": [
        "silhouette_score(df_sd, y_pred)"
      ],
      "metadata": {
        "colab": {
          "base_uri": "https://localhost:8080/"
        },
        "id": "wu6S7UdsZekP",
        "outputId": "c7bf34ca-3746-4840-e2d9-911a13cf59cf"
      },
      "execution_count": 108,
      "outputs": [
        {
          "output_type": "execute_result",
          "data": {
            "text/plain": [
              "0.2285210878787809"
            ]
          },
          "metadata": {},
          "execution_count": 108
        }
      ]
    },
    {
      "cell_type": "code",
      "source": [
        "kmeans.inertia_"
      ],
      "metadata": {
        "colab": {
          "base_uri": "https://localhost:8080/"
        },
        "id": "NcOnGs9qaGm4",
        "outputId": "060997f8-353a-4e3c-8b93-566d2a3f4552"
      },
      "execution_count": 109,
      "outputs": [
        {
          "output_type": "execute_result",
          "data": {
            "text/plain": [
              "933.3231070885404"
            ]
          },
          "metadata": {},
          "execution_count": 109
        }
      ]
    },
    {
      "cell_type": "markdown",
      "source": [
        "The value kmeans.inertia_ = 933 represents the sum of squared distances of all data points to their nearest cluster centroid in the K-means clustering algorithm. It is also known as the \"inertia\" or \"within-cluster sum of squares\" (WCSS). The value of 933 for inertia suggests that the sum of squared distances of all data points to their nearest cluster centroid is relatively low, this depicts poor clustering results. It also indicates that the data points are not tightly grouped within their respective clusters.\n"
      ],
      "metadata": {
        "id": "DsDV4fTeeD86"
      }
    },
    {
      "cell_type": "markdown",
      "source": [
        "###Choosing optimal number of clusters"
      ],
      "metadata": {
        "id": "O6NF9focXdoP"
      }
    },
    {
      "cell_type": "code",
      "source": [
        "clusters = range(1, 9)\n",
        "meanDistortions = [] #create an empty list\n",
        "\n",
        "for k in clusters:\n",
        "  model = KMeans(n_clusters = k) #Initiate KMeans\n",
        "  model.fit(df_sd) #Fit KMeans on the scaled data\n",
        "  prediction = model.predict(df_sd) #Predict the modelon the data\n",
        "  distortion = (\n",
        "      sum(np.min(cdist(df_sd, model.cluster_centers_, 'euclidean'), axis = 1))\n",
        "      / df_sd.shape[0] #Find distortion\n",
        "  )\n",
        "\n",
        "  meanDistortions.append(\n",
        "      distortion\n",
        "  ) #Append distortion values to the empty list created above\n",
        "\n",
        "  print('Number of clusters:', k, '\\tAverage Distortion:', distortion)\n",
        "\n",
        "plt.plot(clusters, meanDistortions, 'bx-')\n",
        "plt.xlabel('k') #Title of X-axis\n",
        "plt.ylabel('\\tAverage Distortion') #Title of y-axis\n",
        "plt.title(\"Selecting k with the Elbow Method\", fontsize = 20) # Title of the plot"
      ],
      "metadata": {
        "id": "gOzWCU3NLcsX",
        "colab": {
          "base_uri": "https://localhost:8080/",
          "height": 688
        },
        "outputId": "c2a29887-a87d-49ff-f23a-94a265362857"
      },
      "execution_count": 111,
      "outputs": [
        {
          "output_type": "stream",
          "name": "stdout",
          "text": [
            "Number of clusters: 1 \tAverage Distortion: 2.256953985735335\n",
            "Number of clusters: 2 \tAverage Distortion: 1.7858322163326603\n",
            "Number of clusters: 3 \tAverage Distortion: 1.5055314856497992\n",
            "Number of clusters: 4 \tAverage Distortion: 1.363222352950455\n",
            "Number of clusters: 5 \tAverage Distortion: 1.2726517868822131\n",
            "Number of clusters: 6 \tAverage Distortion: 1.219426630337813\n",
            "Number of clusters: 7 \tAverage Distortion: 1.179738177097504\n",
            "Number of clusters: 8 \tAverage Distortion: 1.145060564635755\n"
          ]
        },
        {
          "output_type": "execute_result",
          "data": {
            "text/plain": [
              "Text(0.5, 1.0, 'Selecting k with the Elbow Method')"
            ]
          },
          "metadata": {},
          "execution_count": 111
        },
        {
          "output_type": "display_data",
          "data": {
            "text/plain": [
              "<Figure size 800x550 with 1 Axes>"
            ],
            "image/png": "[encoded data removed]"
          },
          "metadata": {}
        }
      ]
    },
    {
      "cell_type": "markdown",
      "source": [
        "In the above plot, the elbow is seen at k=3 with optimal Average distortion seen at k= 8.\n",
        "The output shows the average distortion for different numbers of clusters in a clustering algorithm. The average distortion is a measure of how well the data points within each cluster are grouped together. Lower values of average distortion indicate better clustering results.\n",
        "\n",
        "Based on the output, we can see that as the number of clusters increases, the average distortion decreases. This is expected because with more clusters, the algorithm can better fit the data points and reduce the intra-cluster distances.\n",
        "\n",
        "To interpret the results, let us consider the trade-off between the number of clusters and the average distortion:\n",
        "\n",
        "For low number of clusters (e.g., 1 or 2), the average distortion is relatively high, indicating that the data points are not well-grouped within the clusters. This may suggest that the data does not have clear separations or distinct clusters.\n",
        "\n",
        "As the number of clusters increases (e.g., 3, 4, 5), the average distortion decreases, indicating better grouping of data points. This suggests that the data may have some inherent structure that can be captured by clustering.\n",
        "\n",
        "\n",
        "However, after a certain number of clusters (e.g., 6, 7, 8), the decrease in average distortion becomes less significant. This indicates that adding more clusters does not significantly improve the clustering performance."
      ],
      "metadata": {
        "id": "r8rP8HBZf_Bi"
      }
    },
    {
      "cell_type": "code",
      "source": [
        "sil_score = []  # Create empty list\n",
        "cluster_list = list(range(2, 10))  # Creating a list of range from 2 to 10\n",
        "for n_clusters in cluster_list:\n",
        "    clusterer = KMeans(n_clusters=n_clusters)  # Initializing KMeans algorithm\n",
        "    preds = clusterer.fit_predict((df_sd))  # Predicting on the data\n",
        "    # centers = clusterer.cluster_centers_\n",
        "    score = silhouette_score(df_sd, preds)  # Cacalculating silhouette score\n",
        "    sil_score.append(score)  # Appending silhouette score to empty list created above\n",
        "    print(\"For n_clusters = {}, silhouette score is {}\".format(n_clusters, score))\n",
        "\n",
        "plt.plot(cluster_list, sil_score)"
      ],
      "metadata": {
        "colab": {
          "base_uri": "https://localhost:8080/",
          "height": 640
        },
        "id": "FS8CFaurjAsF",
        "outputId": "3dc5cfbe-7145-4126-d857-abbfa70a27c7"
      },
      "execution_count": 112,
      "outputs": [
        {
          "output_type": "stream",
          "name": "stdout",
          "text": [
            "For n_clusters = 2, silhouette score is 0.33817196365464486\n",
            "For n_clusters = 3, silhouette score is 0.4177434852377372\n",
            "For n_clusters = 4, silhouette score is 0.3228907072652812\n",
            "For n_clusters = 5, silhouette score is 0.2850863954249504\n",
            "For n_clusters = 6, silhouette score is 0.25413205265109257\n",
            "For n_clusters = 7, silhouette score is 0.2376460958735122\n",
            "For n_clusters = 8, silhouette score is 0.22838540159429524\n",
            "For n_clusters = 9, silhouette score is 0.224632646299416\n"
          ]
        },
        {
          "output_type": "execute_result",
          "data": {
            "text/plain": [
              "[<matplotlib.lines.Line2D at 0x7f8ce16487c0>]"
            ]
          },
          "metadata": {},
          "execution_count": 112
        },
        {
          "output_type": "display_data",
          "data": {
            "text/plain": [
              "<Figure size 800x550 with 1 Axes>"
            ],
            "image/png": "[encoded data removed]"
          },
          "metadata": {}
        }
      ]
    },
    {
      "cell_type": "markdown",
      "source": [
        "The silhouette score is a popular evaluation metric used to assess the quality of clustering results. It measures how well each data point fits within its assigned cluster compared to other clusters. The silhouette score ranges from -1 to 1, where:\n",
        "\n",
        "A score close to +1 indicates that the data point is well-matched to its own cluster and poorly-matched to neighboring clusters.\n",
        "A score close to 0 indicates that the data point is on or very close to the decision boundary between two neighboring clusters.\n",
        "A score close to -1 indicates that the data point is potentially assigned to the wrong cluster.\n",
        "\n",
        "In the above plot, the highest silhouette score was observed at 2 ie 0.598, indicating that the clustering with 2 clusters provides a relatively good separation and distinction between the data points within the clusters.\n",
        "\n",
        "A silhouette score of 0.598 indicates a reasonably strong clustering result. It suggests that the data points are well-matched within their assigned clusters and are sufficiently separated from neighboring clusters."
      ],
      "metadata": {
        "id": "NxWWeb5vdFAh"
      }
    },
    {
      "cell_type": "markdown",
      "source": [
        "#Rebuilding the Model using k=3"
      ],
      "metadata": {
        "id": "Ed3AAUXyk7k3"
      }
    },
    {
      "cell_type": "code",
      "source": [
        "kmeans2 = KMeans(n_clusters=3, random_state =0)\n",
        "kmeans2.fit(df_sd)"
      ],
      "metadata": {
        "colab": {
          "base_uri": "https://localhost:8080/",
          "height": 75
        },
        "id": "AxYQsdXBkzrS",
        "outputId": "d2054eea-4680-4b47-da68-7ee32014e7f9"
      },
      "execution_count": 113,
      "outputs": [
        {
          "output_type": "execute_result",
          "data": {
            "text/plain": [
              "KMeans(n_clusters=3, random_state=0)"
            ],
            "text/html": [
              "<style>#sk-container-id-4 {color: black;background-color: white;}#sk-container-id-4 pre{padding: 0;}#sk-container-id-4 div.sk-toggleable {background-color: white;}#sk-container-id-4 label.sk-toggleable__label {cursor: pointer;display: block;width: 100%;margin-bottom: 0;padding: 0.3em;box-sizing: border-box;text-align: center;}#sk-container-id-4 label.sk-toggleable__label-arrow:before {content: \"▸\";float: left;margin-right: 0.25em;color: #696969;}#sk-container-id-4 label.sk-toggleable__label-arrow:hover:before {color: black;}#sk-container-id-4 div.sk-estimator:hover label.sk-toggleable__label-arrow:before {color: black;}#sk-container-id-4 div.sk-toggleable__content {max-height: 0;max-width: 0;overflow: hidden;text-align: left;background-color: #f0f8ff;}#sk-container-id-4 div.sk-toggleable__content pre {margin: 0.2em;color: black;border-radius: 0.25em;background-color: #f0f8ff;}#sk-container-id-4 input.sk-toggleable__control:checked~div.sk-toggleable__content {max-height: 200px;max-width: 100%;overflow: auto;}#sk-container-id-4 input.sk-toggleable__control:checked~label.sk-toggleable__label-arrow:before {content: \"▾\";}#sk-container-id-4 div.sk-estimator input.sk-toggleable__control:checked~label.sk-toggleable__label {background-color: #d4ebff;}#sk-container-id-4 div.sk-label input.sk-toggleable__control:checked~label.sk-toggleable__label {background-color: #d4ebff;}#sk-container-id-4 input.sk-hidden--visually {border: 0;clip: rect(1px 1px 1px 1px);clip: rect(1px, 1px, 1px, 1px);height: 1px;margin: -1px;overflow: hidden;padding: 0;position: absolute;width: 1px;}#sk-container-id-4 div.sk-estimator {font-family: monospace;background-color: #f0f8ff;border: 1px dotted black;border-radius: 0.25em;box-sizing: border-box;margin-bottom: 0.5em;}#sk-container-id-4 div.sk-estimator:hover {background-color: #d4ebff;}#sk-container-id-4 div.sk-parallel-item::after {content: \"\";width: 100%;border-bottom: 1px solid gray;flex-grow: 1;}#sk-container-id-4 div.sk-label:hover label.sk-toggleable__label {background-color: #d4ebff;}#sk-container-id-4 div.sk-serial::before {content: \"\";position: absolute;border-left: 1px solid gray;box-sizing: border-box;top: 0;bottom: 0;left: 50%;z-index: 0;}#sk-container-id-4 div.sk-serial {display: flex;flex-direction: column;align-items: center;background-color: white;padding-right: 0.2em;padding-left: 0.2em;position: relative;}#sk-container-id-4 div.sk-item {position: relative;z-index: 1;}#sk-container-id-4 div.sk-parallel {display: flex;align-items: stretch;justify-content: center;background-color: white;position: relative;}#sk-container-id-4 div.sk-item::before, #sk-container-id-4 div.sk-parallel-item::before {content: \"\";position: absolute;border-left: 1px solid gray;box-sizing: border-box;top: 0;bottom: 0;left: 50%;z-index: -1;}#sk-container-id-4 div.sk-parallel-item {display: flex;flex-direction: column;z-index: 1;position: relative;background-color: white;}#sk-container-id-4 div.sk-parallel-item:first-child::after {align-self: flex-end;width: 50%;}#sk-container-id-4 div.sk-parallel-item:last-child::after {align-self: flex-start;width: 50%;}#sk-container-id-4 div.sk-parallel-item:only-child::after {width: 0;}#sk-container-id-4 div.sk-dashed-wrapped {border: 1px dashed gray;margin: 0 0.4em 0.5em 0.4em;box-sizing: border-box;padding-bottom: 0.4em;background-color: white;}#sk-container-id-4 div.sk-label label {font-family: monospace;font-weight: bold;display: inline-block;line-height: 1.2em;}#sk-container-id-4 div.sk-label-container {text-align: center;}#sk-container-id-4 div.sk-container {/* jupyter's `normalize.less` sets `[hidden] { display: none; }` but bootstrap.min.css set `[hidden] { display: none !important; }` so we also need the `!important` here to be able to override the default hidden behavior on the sphinx rendered scikit-learn.org. See: https://github.com/scikit-learn/scikit-learn/issues/21755 */display: inline-block !important;position: relative;}#sk-container-id-4 div.sk-text-repr-fallback {display: none;}</style><div id=\"sk-container-id-4\" class=\"sk-top-container\"><div class=\"sk-text-repr-fallback\"><pre>KMeans(n_clusters=3, random_state=0)</pre><b>In a Jupyter environment, please rerun this cell to show the HTML representation or trust the notebook. <br />On GitHub, the HTML representation is unable to render, please try loading this page with nbviewer.org.</b></div><div class=\"sk-container\" hidden><div class=\"sk-item\"><div class=\"sk-estimator sk-toggleable\"><input class=\"sk-toggleable__control sk-hidden--visually\" id=\"sk-estimator-id-4\" type=\"checkbox\" checked><label for=\"sk-estimator-id-4\" class=\"sk-toggleable__label sk-toggleable__label-arrow\">KMeans</label><div class=\"sk-toggleable__content\"><pre>KMeans(n_clusters=3, random_state=0)</pre></div></div></div></div></div>"
            ]
          },
          "metadata": {},
          "execution_count": 113
        }
      ]
    },
    {
      "cell_type": "code",
      "source": [
        "kmeans2.labels_"
      ],
      "metadata": {
        "colab": {
          "base_uri": "https://localhost:8080/"
        },
        "id": "RfOCaEzqlao4",
        "outputId": "281eab39-2c05-41ae-bf2f-b7fbb9817a62"
      },
      "execution_count": 114,
      "outputs": [
        {
          "output_type": "execute_result",
          "data": {
            "text/plain": [
              "array([0, 1, 0, 0, 2, 1, 2, 1, 1, 1, 1, 1, 1, 1, 1, 1, 1, 1, 1, 1, 1, 1,\n",
              "       1, 1, 1, 1, 1, 1, 1, 1, 1, 1, 1, 1, 1, 1, 1, 1, 1, 1, 1, 1, 1, 1,\n",
              "       1, 1, 1, 1, 1, 1, 1, 1, 1, 1, 1, 1, 1, 1, 1, 1, 1, 1, 1, 1, 1, 1,\n",
              "       1, 1, 1, 1, 1, 1, 1, 1, 1, 1, 1, 1, 1, 1, 1, 1, 1, 1, 1, 1, 1, 1,\n",
              "       1, 1, 1, 1, 1, 1, 1, 1, 1, 1, 1, 1, 1, 1, 1, 1, 1, 1, 1, 1, 1, 1,\n",
              "       1, 1, 1, 1, 1, 1, 1, 1, 1, 1, 1, 1, 1, 1, 1, 1, 1, 1, 1, 1, 1, 1,\n",
              "       1, 1, 1, 1, 1, 1, 1, 1, 1, 1, 1, 1, 1, 1, 1, 1, 1, 1, 1, 1, 1, 1,\n",
              "       1, 1, 1, 1, 1, 1, 1, 1, 1, 1, 1, 1, 1, 1, 1, 1, 1, 1, 1, 1, 1, 1,\n",
              "       1, 1, 1, 1, 1, 1, 1, 1, 1, 1, 1, 1, 1, 1, 1, 1, 1, 1, 1, 1, 1, 1,\n",
              "       1, 1, 1, 1, 1, 1, 1, 1, 1, 1, 1, 1, 1, 1, 1, 1, 1, 1, 1, 1, 1, 1,\n",
              "       1, 1, 1, 1, 1, 1, 1, 1, 0, 0, 0, 0, 0, 0, 0, 0, 0, 0, 0, 0, 0, 0,\n",
              "       0, 0, 0, 0, 0, 0, 0, 0, 0, 0, 0, 0, 0, 0, 0, 0, 0, 0, 0, 0, 0, 0,\n",
              "       0, 0, 0, 0, 0, 0, 0, 0, 0, 0, 0, 0, 0, 0, 0, 0, 0, 0, 0, 0, 0, 0,\n",
              "       0, 0, 0, 0, 0, 0, 0, 0, 0, 0, 0, 0, 0, 0, 0, 0, 0, 0, 0, 0, 0, 0,\n",
              "       0, 0, 0, 0, 0, 1, 0, 0, 0, 0, 0, 0, 0, 0, 0, 0, 0, 0, 0, 0, 0, 0,\n",
              "       0, 0, 0, 0, 0, 0, 0, 0, 0, 0, 0, 0, 0, 0, 0, 0, 0, 0, 0, 0, 0, 0,\n",
              "       0, 0, 0, 0, 0, 0, 0, 0, 0, 0, 0, 0, 0, 0, 0, 0, 0, 0, 0, 0, 0, 0,\n",
              "       0, 0, 0, 0, 0, 0, 0, 0, 0, 0, 0, 0, 0, 0, 0, 0, 0, 0, 0, 0, 0, 0,\n",
              "       0, 0, 0, 0, 0, 0, 0, 0, 0, 0, 0, 0, 0, 0, 0, 0, 0, 0, 0, 0, 0, 0,\n",
              "       0, 0, 0, 0, 0, 0, 0, 0, 0, 0, 0, 0, 0, 0, 0, 0, 0, 0, 0, 0, 0, 0,\n",
              "       0, 0, 0, 0, 0, 0, 0, 0, 0, 0, 0, 0, 0, 0, 0, 0, 0, 0, 0, 0, 0, 0,\n",
              "       0, 0, 0, 0, 0, 0, 0, 0, 0, 0, 0, 0, 0, 0, 0, 0, 0, 0, 0, 0, 0, 0,\n",
              "       0, 0, 0, 0, 0, 0, 0, 0, 0, 0, 0, 0, 0, 0, 0, 0, 0, 0, 0, 0, 0, 0,\n",
              "       0, 0, 0, 0, 0, 0, 0, 0, 0, 0, 0, 0, 0, 0, 0, 0, 0, 0, 0, 0, 0, 0,\n",
              "       0, 0, 0, 0, 0, 0, 0, 0, 0, 0, 0, 0, 0, 0, 0, 0, 0, 0, 0, 0, 0, 0,\n",
              "       0, 0, 0, 0, 0, 0, 0, 0, 0, 0, 0, 0, 0, 0, 0, 0, 0, 0, 0, 0, 0, 0,\n",
              "       0, 0, 0, 0, 0, 0, 0, 0, 0, 0, 0, 0, 0, 0, 0, 0, 0, 0, 0, 0, 0, 0,\n",
              "       0, 0, 0, 0, 0, 0, 0, 0, 0, 0, 0, 0, 0, 0, 0, 0, 0, 0, 2, 2, 2, 2,\n",
              "       2, 2, 2, 2, 2, 2, 2, 2, 2, 2, 2, 2, 2, 2, 2, 2, 2, 2, 2, 2, 2, 2,\n",
              "       2, 2, 2, 2, 2, 2, 2, 2, 2, 2, 2, 2, 2, 2, 2, 2, 2, 2, 2, 2, 2, 2],\n",
              "      dtype=int32)"
            ]
          },
          "metadata": {},
          "execution_count": 114
        }
      ]
    },
    {
      "cell_type": "code",
      "source": [
        "# Convert the scaled data array to a DataFrame\n",
        "df_sd = pd.DataFrame(df_sd, columns=feature_names)\n",
        "\n",
        "# Add K-means cluster labels to the original dataframe\n",
        "df_sd['Kmeans_clusters'] = kmeans2.labels_"
      ],
      "metadata": {
        "id": "CHrcPDZqLzh-"
      },
      "execution_count": 115,
      "outputs": []
    },
    {
      "cell_type": "code",
      "source": [
        "df_sd"
      ],
      "metadata": {
        "colab": {
          "base_uri": "https://localhost:8080/",
          "height": 424
        },
        "id": "cU1BQNQML9aY",
        "outputId": "7e707238-2657-4977-c5eb-c8c7136a6737"
      },
      "execution_count": 116,
      "outputs": [
        {
          "output_type": "execute_result",
          "data": {
            "text/plain": [
              "     Customer Key  Avg_Credit_Limit  Total_Credit_Cards  Total_visits_bank  \\\n",
              "0        1.246920          1.740187           -1.249225          -0.860451   \n",
              "1       -0.653203          0.410293           -0.787585          -1.473731   \n",
              "2       -1.476098          0.410293            1.058973          -0.860451   \n",
              "3       -0.571901         -0.121665            0.135694          -0.860451   \n",
              "4       -0.300857          1.740187            0.597334          -1.473731   \n",
              "..            ...               ...                 ...                ...   \n",
              "655     -0.157505          1.713589            2.443892          -0.860451   \n",
              "656      0.218310          1.314621            2.443892          -0.860451   \n",
              "657     -0.051055          2.937092            1.520613          -0.860451   \n",
              "658      0.996298          3.655235            2.443892          -0.860451   \n",
              "659      0.976578          3.522245            1.982253          -1.473731   \n",
              "\n",
              "     Total_visits_online  Total_calls_made  Kmeans_clusters  \n",
              "0              -0.547490         -1.251537                0  \n",
              "1               2.520519          1.891859                1  \n",
              "2               0.134290          0.145528                0  \n",
              "3              -0.547490          0.145528                0  \n",
              "4               3.202298         -0.203739                2  \n",
              "..                   ...               ...              ...  \n",
              "655             2.520519         -1.251537                2  \n",
              "656             3.543188         -0.553005                2  \n",
              "657             2.179629         -0.902271                2  \n",
              "658             4.224968         -1.251537                2  \n",
              "659             3.202298         -0.553005                2  \n",
              "\n",
              "[660 rows x 7 columns]"
            ],
            "text/html": [
              "\n",
              "  <div id=\"df-c9b7e141-288a-48c4-8cd0-12a7ec8d2df5\">\n",
              "    <div class=\"colab-df-container\">\n",
              "      <div>\n",
              "<style scoped>\n",
              "    .dataframe tbody tr th:only-of-type {\n",
              "        vertical-align: middle;\n",
              "    }\n",
              "\n",
              "    .dataframe tbody tr th {\n",
              "        vertical-align: top;\n",
              "    }\n",
              "\n",
              "    .dataframe thead th {\n",
              "        text-align: right;\n",
              "    }\n",
              "</style>\n",
              "<table border=\"1\" class=\"dataframe\">\n",
              "  <thead>\n",
              "    <tr style=\"text-align: right;\">\n",
              "      <th></th>\n",
              "      <th>Customer Key</th>\n",
              "      <th>Avg_Credit_Limit</th>\n",
              "      <th>Total_Credit_Cards</th>\n",
              "      <th>Total_visits_bank</th>\n",
              "      <th>Total_visits_online</th>\n",
              "      <th>Total_calls_made</th>\n",
              "      <th>Kmeans_clusters</th>\n",
              "    </tr>\n",
              "  </thead>\n",
              "  <tbody>\n",
              "    <tr>\n",
              "      <th>0</th>\n",
              "      <td>1.246920</td>\n",
              "      <td>1.740187</td>\n",
              "      <td>-1.249225</td>\n",
              "      <td>-0.860451</td>\n",
              "      <td>-0.547490</td>\n",
              "      <td>-1.251537</td>\n",
              "      <td>0</td>\n",
              "    </tr>\n",
              "    <tr>\n",
              "      <th>1</th>\n",
              "      <td>-0.653203</td>\n",
              "      <td>0.410293</td>\n",
              "      <td>-0.787585</td>\n",
              "      <td>-1.473731</td>\n",
              "      <td>2.520519</td>\n",
              "      <td>1.891859</td>\n",
              "      <td>1</td>\n",
              "    </tr>\n",
              "    <tr>\n",
              "      <th>2</th>\n",
              "      <td>-1.476098</td>\n",
              "      <td>0.410293</td>\n",
              "      <td>1.058973</td>\n",
              "      <td>-0.860451</td>\n",
              "      <td>0.134290</td>\n",
              "      <td>0.145528</td>\n",
              "      <td>0</td>\n",
              "    </tr>\n",
              "    <tr>\n",
              "      <th>3</th>\n",
              "      <td>-0.571901</td>\n",
              "      <td>-0.121665</td>\n",
              "      <td>0.135694</td>\n",
              "      <td>-0.860451</td>\n",
              "      <td>-0.547490</td>\n",
              "      <td>0.145528</td>\n",
              "      <td>0</td>\n",
              "    </tr>\n",
              "    <tr>\n",
              "      <th>4</th>\n",
              "      <td>-0.300857</td>\n",
              "      <td>1.740187</td>\n",
              "      <td>0.597334</td>\n",
              "      <td>-1.473731</td>\n",
              "      <td>3.202298</td>\n",
              "      <td>-0.203739</td>\n",
              "      <td>2</td>\n",
              "    </tr>\n",
              "    <tr>\n",
              "      <th>...</th>\n",
              "      <td>...</td>\n",
              "      <td>...</td>\n",
              "      <td>...</td>\n",
              "      <td>...</td>\n",
              "      <td>...</td>\n",
              "      <td>...</td>\n",
              "      <td>...</td>\n",
              "    </tr>\n",
              "    <tr>\n",
              "      <th>655</th>\n",
              "      <td>-0.157505</td>\n",
              "      <td>1.713589</td>\n",
              "      <td>2.443892</td>\n",
              "      <td>-0.860451</td>\n",
              "      <td>2.520519</td>\n",
              "      <td>-1.251537</td>\n",
              "      <td>2</td>\n",
              "    </tr>\n",
              "    <tr>\n",
              "      <th>656</th>\n",
              "      <td>0.218310</td>\n",
              "      <td>1.314621</td>\n",
              "      <td>2.443892</td>\n",
              "      <td>-0.860451</td>\n",
              "      <td>3.543188</td>\n",
              "      <td>-0.553005</td>\n",
              "      <td>2</td>\n",
              "    </tr>\n",
              "    <tr>\n",
              "      <th>657</th>\n",
              "      <td>-0.051055</td>\n",
              "      <td>2.937092</td>\n",
              "      <td>1.520613</td>\n",
              "      <td>-0.860451</td>\n",
              "      <td>2.179629</td>\n",
              "      <td>-0.902271</td>\n",
              "      <td>2</td>\n",
              "    </tr>\n",
              "    <tr>\n",
              "      <th>658</th>\n",
              "      <td>0.996298</td>\n",
              "      <td>3.655235</td>\n",
              "      <td>2.443892</td>\n",
              "      <td>-0.860451</td>\n",
              "      <td>4.224968</td>\n",
              "      <td>-1.251537</td>\n",
              "      <td>2</td>\n",
              "    </tr>\n",
              "    <tr>\n",
              "      <th>659</th>\n",
              "      <td>0.976578</td>\n",
              "      <td>3.522245</td>\n",
              "      <td>1.982253</td>\n",
              "      <td>-1.473731</td>\n",
              "      <td>3.202298</td>\n",
              "      <td>-0.553005</td>\n",
              "      <td>2</td>\n",
              "    </tr>\n",
              "  </tbody>\n",
              "</table>\n",
              "<p>660 rows × 7 columns</p>\n",
              "</div>\n",
              "      <button class=\"colab-df-convert\" onclick=\"convertToInteractive('df-c9b7e141-288a-48c4-8cd0-12a7ec8d2df5')\"\n",
              "              title=\"Convert this dataframe to an interactive table.\"\n",
              "              style=\"display:none;\">\n",
              "        \n",
              "  <svg xmlns=\"http://www.w3.org/2000/svg\" height=\"24px\"viewBox=\"0 0 24 24\"\n",
              "       width=\"24px\">\n",
              "    <path d=\"M0 0h24v24H0V0z\" fill=\"none\"/>\n",
              "    <path d=\"M18.56 5.44l.94 2.06.94-2.06 2.06-.94-2.06-.94-.94-2.06-.94 2.06-2.06.94zm-11 1L8.5 8.5l.94-2.06 2.06-.94-2.06-.94L8.5 2.5l-.94 2.06-2.06.94zm10 10l.94 2.06.94-2.06 2.06-.94-2.06-.94-.94-2.06-.94 2.06-2.06.94z\"/><path d=\"M17.41 7.96l-1.37-1.37c-.4-.4-.92-.59-1.43-.59-.52 0-1.04.2-1.43.59L10.3 9.45l-7.72 7.72c-.78.78-.78 2.05 0 2.83L4 21.41c.39.39.9.59 1.41.59.51 0 1.02-.2 1.41-.59l7.78-7.78 2.81-2.81c.8-.78.8-2.07 0-2.86zM5.41 20L4 18.59l7.72-7.72 1.47 1.35L5.41 20z\"/>\n",
              "  </svg>\n",
              "      </button>\n",
              "      \n",
              "  <style>\n",
              "    .colab-df-container {\n",
              "      display:flex;\n",
              "      flex-wrap:wrap;\n",
              "      gap: 12px;\n",
              "    }\n",
              "\n",
              "    .colab-df-convert {\n",
              "      background-color: #E8F0FE;\n",
              "      border: none;\n",
              "      border-radius: 50%;\n",
              "      cursor: pointer;\n",
              "      display: none;\n",
              "      fill: #1967D2;\n",
              "      height: 32px;\n",
              "      padding: 0 0 0 0;\n",
              "      width: 32px;\n",
              "    }\n",
              "\n",
              "    .colab-df-convert:hover {\n",
              "      background-color: #E2EBFA;\n",
              "      box-shadow: 0px 1px 2px rgba(60, 64, 67, 0.3), 0px 1px 3px 1px rgba(60, 64, 67, 0.15);\n",
              "      fill: #174EA6;\n",
              "    }\n",
              "\n",
              "    [theme=dark] .colab-df-convert {\n",
              "      background-color: #3B4455;\n",
              "      fill: #D2E3FC;\n",
              "    }\n",
              "\n",
              "    [theme=dark] .colab-df-convert:hover {\n",
              "      background-color: #434B5C;\n",
              "      box-shadow: 0px 1px 3px 1px rgba(0, 0, 0, 0.15);\n",
              "      filter: drop-shadow(0px 1px 2px rgba(0, 0, 0, 0.3));\n",
              "      fill: #FFFFFF;\n",
              "    }\n",
              "  </style>\n",
              "\n",
              "      <script>\n",
              "        const buttonEl =\n",
              "          document.querySelector('#df-c9b7e141-288a-48c4-8cd0-12a7ec8d2df5 button.colab-df-convert');\n",
              "        buttonEl.style.display =\n",
              "          google.colab.kernel.accessAllowed ? 'block' : 'none';\n",
              "\n",
              "        async function convertToInteractive(key) {\n",
              "          const element = document.querySelector('#df-c9b7e141-288a-48c4-8cd0-12a7ec8d2df5');\n",
              "          const dataTable =\n",
              "            await google.colab.kernel.invokeFunction('convertToInteractive',\n",
              "                                                     [key], {});\n",
              "          if (!dataTable) return;\n",
              "\n",
              "          const docLinkHtml = 'Like what you see? Visit the ' +\n",
              "            '<a target=\"_blank\" href=https://colab.research.google.com/notebooks/data_table.ipynb>data table notebook</a>'\n",
              "            + ' to learn more about interactive tables.';\n",
              "          element.innerHTML = '';\n",
              "          dataTable['output_type'] = 'display_data';\n",
              "          await google.colab.output.renderOutput(dataTable, element);\n",
              "          const docLink = document.createElement('div');\n",
              "          docLink.innerHTML = docLinkHtml;\n",
              "          element.appendChild(docLink);\n",
              "        }\n",
              "      </script>\n",
              "    </div>\n",
              "  </div>\n",
              "  "
            ]
          },
          "metadata": {},
          "execution_count": 116
        }
      ]
    },
    {
      "cell_type": "code",
      "source": [
        "#select the numeric column\n",
        "num_col = df_sd.select_dtypes(include=np.number).columns.tolist()"
      ],
      "metadata": {
        "id": "oR45a8xKO2Ix"
      },
      "execution_count": 117,
      "outputs": []
    },
    {
      "cell_type": "markdown",
      "source": [
        "#Visualization"
      ],
      "metadata": {
        "id": "nrBQNoGKVOOX"
      }
    },
    {
      "cell_type": "code",
      "source": [
        "fig, axes = plt.subplots(1, 6, figsize=(16, 6))\n",
        "fig.suptitle(\"Boxplot of numerical variables for each cluster\")\n",
        "counter = 0\n",
        "for ii in range(6):\n",
        "    sns.boxplot(ax=axes[ii], y=df_sd[num_col[counter]], x=df_sd[\"Kmeans_clusters\"])\n",
        "    counter = counter + 1\n",
        "\n",
        "fig.tight_layout(pad=2.0)\n"
      ],
      "metadata": {
        "colab": {
          "base_uri": "https://localhost:8080/",
          "height": 477
        },
        "id": "yY_y5jralaku",
        "outputId": "6fa7c377-d331-49b0-f266-ff804356dd54"
      },
      "execution_count": 118,
      "outputs": [
        {
          "output_type": "display_data",
          "data": {
            "text/plain": [
              "<Figure size 1600x600 with 6 Axes>"
            ],
            "image/png": "[encoded data removed]"
          },
          "metadata": {}
        }
      ]
    },
    {
      "cell_type": "markdown",
      "source": [
        "Barplot of the mean values of each numerical variable in the DataFrame df_sd, grouped by the \"Kmeans_clusters\" column."
      ],
      "metadata": {
        "id": "TrpG12DOVtew"
      }
    },
    {
      "cell_type": "markdown",
      "source": [
        "#Interpretation of Plot"
      ],
      "metadata": {
        "id": "fZcZhFLV6SEs"
      }
    },
    {
      "cell_type": "markdown",
      "source": [
        "####Cluster 0\n",
        "The Avg Credit Limit, Total visits online and TotalCalls made are low \n",
        "Totalbank visit is high, followed by the totol credit card\n",
        "####Cluster 1\n",
        "The Total credit card, Total bank visits and Total online visits are low to moderate\n",
        "Avg Credit Limit is very low\n",
        "Total calls made is the highest\n",
        "####Cluster2\n",
        " Avg Credit Limit, Total credit cards, Total online visits are high\n",
        "Total calls made,  Total bank visits are low to moderate\n"
      ],
      "metadata": {
        "id": "8RP6taiS2HSx"
      }
    },
    {
      "cell_type": "markdown",
      "source": [
        "#Bar plot visualing the average values of each feature for each cluster. "
      ],
      "metadata": {
        "id": "wwGNdCwSDoVq"
      }
    },
    {
      "cell_type": "code",
      "source": [
        "df_sd.groupby(\"Kmeans_clusters\").mean().plot.bar(figsize=(15,6))"
      ],
      "metadata": {
        "colab": {
          "base_uri": "https://localhost:8080/",
          "height": 555
        },
        "id": "uHGAmefIlag4",
        "outputId": "2e7b7ecb-d9ae-49fe-8817-21bc62b2241f"
      },
      "execution_count": 120,
      "outputs": [
        {
          "output_type": "execute_result",
          "data": {
            "text/plain": [
              "<Axes: xlabel='Kmeans_clusters'>"
            ]
          },
          "metadata": {},
          "execution_count": 120
        },
        {
          "output_type": "display_data",
          "data": {
            "text/plain": [
              "<Figure size 1500x600 with 1 Axes>"
            ],
            "image/png": "[encoded data removed]"
          },
          "metadata": {}
        }
      ]
    },
    {
      "cell_type": "markdown",
      "source": [
        "#Density-Based Spatial Clustering of Applications with Noise(DBSCAN)"
      ],
      "metadata": {
        "id": "fPEJb3WSShwq"
      }
    },
    {
      "cell_type": "markdown",
      "source": [
        "Import necessary libraries"
      ],
      "metadata": {
        "id": "WMUJdE0P3Yba"
      }
    },
    {
      "cell_type": "code",
      "source": [
        "#Create an instance of the DBSCAN\n",
        "dbscan = DBSCAN()\n",
        "\n",
        "#fit and predict the labels\n",
        "dbscan.fit(df_sd)\n",
        "db_labels = dbscan.labels_\n",
        "\n",
        "#db_labels = dbscan.fit_predict(df_sd)"
      ],
      "metadata": {
        "id": "CcfOj2gsSxNq"
      },
      "execution_count": 121,
      "outputs": []
    },
    {
      "cell_type": "code",
      "source": [
        "#check the labels\n",
        "np.unique(db_labels)"
      ],
      "metadata": {
        "colab": {
          "base_uri": "https://localhost:8080/"
        },
        "id": "5yZXWvGE6IX4",
        "outputId": "74e531d9-fdff-43bf-8b2b-4797a3d6d5aa"
      },
      "execution_count": 123,
      "outputs": [
        {
          "output_type": "execute_result",
          "data": {
            "text/plain": [
              "array([-1,  0])"
            ]
          },
          "metadata": {},
          "execution_count": 123
        }
      ]
    },
    {
      "cell_type": "markdown",
      "source": [
        "# Implementing DBSCAN across the different hyperparameters\n"
      ],
      "metadata": {
        "id": "lzF_x6FQEa4J"
      }
    },
    {
      "cell_type": "markdown",
      "source": [
        "Choosing optimal values of eps and minPts"
      ],
      "metadata": {
        "id": "_bHRwOnI6fxF"
      }
    },
    {
      "cell_type": "code",
      "source": [
        "#import itertools\n",
        "import itertools"
      ],
      "metadata": {
        "id": "yhoLYdKX6dbk"
      },
      "execution_count": 124,
      "outputs": []
    },
    {
      "cell_type": "markdown",
      "source": [],
      "metadata": {
        "id": "135g1mTcBZhA"
      }
    },
    {
      "cell_type": "code",
      "source": [
        "#Trying values of eps between 0.1 and 1; minPts between 2 and 10\n",
        "eps = np.linspace(0.1, 1, 10)\n",
        "minPts = np.arange(2, 10)"
      ],
      "metadata": {
        "id": "GVBDEwiD7J3N"
      },
      "execution_count": 125,
      "outputs": []
    },
    {
      "cell_type": "code",
      "source": [
        "hyper_list = list(itertools.product(eps_values, minPts_values))\n",
        "\n",
        "for (eps, minPts) in hyper_list:\n",
        "    dbscan = DBSCAN(eps=eps, min_samples=minPts)\n",
        "    labels = dbscan.fit_predict(df_sd)\n",
        "\n",
        "    num_labels = len(np.unique(labels))\n",
        "    if num_labels > 1:\n",
        "        score = silhouette_score(df_sd, labels)\n",
        "        print(f'eps: {eps}; minPts: {minPts}; num_labels: {num_labels}; Silhouette score: {score}')\n",
        "       \n",
        "    # else:\n",
        "    #     print(f'eps: {eps}; minPts: {minPts}; num_labels: {num_labels}')\n",
        "    #     print('Only one unique label. Silhouette score cannot be calculated.')\n"
      ],
      "metadata": {
        "colab": {
          "base_uri": "https://localhost:8080/"
        },
        "id": "2fu5BCc37JwP",
        "outputId": "e1b043eb-716d-4ecc-a56b-f05215b15547"
      },
      "execution_count": 126,
      "outputs": [
        {
          "output_type": "stream",
          "name": "stdout",
          "text": [
            "eps: 0.1; minPts: 2; num_labels: 2; Silhouette score: -0.03378263144280089\n",
            "eps: 0.2; minPts: 2; num_labels: 12; Silhouette score: -0.48936104388091206\n",
            "eps: 0.30000000000000004; minPts: 2; num_labels: 23; Silhouette score: -0.5048674249055718\n",
            "eps: 0.30000000000000004; minPts: 3; num_labels: 2; Silhouette score: -0.09725281305009587\n",
            "eps: 0.4; minPts: 2; num_labels: 58; Silhouette score: -0.40669752965884964\n",
            "eps: 0.4; minPts: 3; num_labels: 9; Silhouette score: -0.4388350511474285\n",
            "eps: 0.4; minPts: 4; num_labels: 2; Silhouette score: -0.07558591730284799\n",
            "eps: 0.5; minPts: 2; num_labels: 92; Silhouette score: -0.2618875686927412\n",
            "eps: 0.5; minPts: 3; num_labels: 25; Silhouette score: -0.4190209117157859\n",
            "eps: 0.5; minPts: 4; num_labels: 8; Silhouette score: -0.38517505700990545\n",
            "eps: 0.5; minPts: 5; num_labels: 2; Silhouette score: -0.07825567728623907\n",
            "eps: 0.6; minPts: 2; num_labels: 98; Silhouette score: -0.19179060516072383\n",
            "eps: 0.6; minPts: 3; num_labels: 45; Silhouette score: -0.2772943611567567\n",
            "eps: 0.6; minPts: 4; num_labels: 29; Silhouette score: -0.37002123647186463\n",
            "eps: 0.6; minPts: 5; num_labels: 9; Silhouette score: -0.4189459274213318\n",
            "eps: 0.6; minPts: 6; num_labels: 4; Silhouette score: -0.31895843131530693\n",
            "eps: 0.6; minPts: 7; num_labels: 4; Silhouette score: -0.31895843131530693\n",
            "eps: 0.7000000000000001; minPts: 2; num_labels: 52; Silhouette score: -0.24701624703968605\n",
            "eps: 0.7000000000000001; minPts: 3; num_labels: 25; Silhouette score: -0.24429956144378767\n",
            "eps: 0.7000000000000001; minPts: 4; num_labels: 25; Silhouette score: -0.20669968414894443\n",
            "eps: 0.7000000000000001; minPts: 5; num_labels: 24; Silhouette score: -0.22015381760374092\n",
            "eps: 0.7000000000000001; minPts: 6; num_labels: 17; Silhouette score: -0.3037169582907083\n",
            "eps: 0.7000000000000001; minPts: 7; num_labels: 12; Silhouette score: -0.37252735149292643\n",
            "eps: 0.7000000000000001; minPts: 8; num_labels: 5; Silhouette score: -0.35142261915857775\n",
            "eps: 0.7000000000000001; minPts: 9; num_labels: 4; Silhouette score: -0.30932234923046803\n",
            "eps: 0.8; minPts: 2; num_labels: 19; Silhouette score: -0.18868593936929495\n",
            "eps: 0.8; minPts: 3; num_labels: 5; Silhouette score: 0.11240548988188248\n",
            "eps: 0.8; minPts: 4; num_labels: 6; Silhouette score: -0.030627498397215472\n",
            "eps: 0.8; minPts: 5; num_labels: 7; Silhouette score: -0.06717025795193055\n",
            "eps: 0.8; minPts: 6; num_labels: 9; Silhouette score: -0.0955856467576607\n",
            "eps: 0.8; minPts: 7; num_labels: 9; Silhouette score: -0.12875134980853084\n",
            "eps: 0.8; minPts: 8; num_labels: 10; Silhouette score: -0.1908947718515921\n",
            "eps: 0.8; minPts: 9; num_labels: 9; Silhouette score: -0.15959515450239942\n",
            "eps: 0.9; minPts: 2; num_labels: 16; Silhouette score: 0.09433873081811908\n",
            "eps: 0.9; minPts: 3; num_labels: 5; Silhouette score: 0.36905052362763635\n",
            "eps: 0.9; minPts: 4; num_labels: 4; Silhouette score: 0.3712176567990887\n",
            "eps: 0.9; minPts: 5; num_labels: 3; Silhouette score: 0.4138088103700444\n",
            "eps: 0.9; minPts: 6; num_labels: 3; Silhouette score: 0.4075706774512069\n",
            "eps: 0.9; minPts: 7; num_labels: 4; Silhouette score: 0.19738477811073588\n",
            "eps: 0.9; minPts: 8; num_labels: 3; Silhouette score: 0.3588372469887724\n",
            "eps: 0.9; minPts: 9; num_labels: 3; Silhouette score: 0.3315029603058474\n",
            "eps: 1.0; minPts: 2; num_labels: 14; Silhouette score: 0.3986494529227292\n",
            "eps: 1.0; minPts: 3; num_labels: 8; Silhouette score: 0.39283785789668363\n",
            "eps: 1.0; minPts: 4; num_labels: 5; Silhouette score: 0.3855898580716387\n",
            "eps: 1.0; minPts: 5; num_labels: 4; Silhouette score: 0.3902366452890156\n",
            "eps: 1.0; minPts: 6; num_labels: 4; Silhouette score: 0.3902366452890156\n",
            "eps: 1.0; minPts: 7; num_labels: 3; Silhouette score: 0.43122522325845297\n",
            "eps: 1.0; minPts: 8; num_labels: 3; Silhouette score: 0.4279032625248924\n",
            "eps: 1.0; minPts: 9; num_labels: 3; Silhouette score: 0.4279032625248924\n"
          ]
        }
      ]
    },
    {
      "cell_type": "markdown",
      "source": [
        "#Rebuild DBSCAN"
      ],
      "metadata": {
        "id": "Pq6O1ae3D7lp"
      }
    },
    {
      "cell_type": "code",
      "source": [
        "dbscan2 = DBSCAN(eps = 1.0, min_samples =7)\n",
        "db_labels2 = dbscan2.fit_predict(df_sd)"
      ],
      "metadata": {
        "id": "kYgVswKS7Js4"
      },
      "execution_count": 127,
      "outputs": []
    },
    {
      "cell_type": "code",
      "source": [
        "#check the unique labels\n",
        "np.unique(db_labels2)"
      ],
      "metadata": {
        "colab": {
          "base_uri": "https://localhost:8080/"
        },
        "id": "8gmuJDH07Joe",
        "outputId": "98d9247b-3809-4dff-b758-ff7c06b5666e"
      },
      "execution_count": 128,
      "outputs": [
        {
          "output_type": "execute_result",
          "data": {
            "text/plain": [
              "array([-1,  0,  1])"
            ]
          },
          "metadata": {},
          "execution_count": 128
        }
      ]
    },
    {
      "cell_type": "code",
      "source": [
        "#add the dbscan labels to the dataframe\n",
        "df_sd['db_labels2'] = db_labels2"
      ],
      "metadata": {
        "id": "PfQtrsTO7Jk2"
      },
      "execution_count": 129,
      "outputs": []
    },
    {
      "cell_type": "markdown",
      "source": [
        "#Visualizing groups"
      ],
      "metadata": {
        "id": "obqIs-8AHC_y"
      }
    },
    {
      "cell_type": "code",
      "source": [
        "fig, ax = plt.subplots(1, 6, figsize =(16, 6))\n",
        "fig.suptitle('Boxplots for numeric variables in the scaled data')\n",
        "\n",
        "count = 0\n",
        "for i in range(6):\n",
        "  sns.boxplot(ax = ax[i], x = df_sd['db_labels2'], y= df_sd[num_col[count]])\n",
        "  count +=1\n",
        "fig.tight_layout()"
      ],
      "metadata": {
        "colab": {
          "base_uri": "https://localhost:8080/",
          "height": 627
        },
        "id": "v9QlRFutF94D",
        "outputId": "ad366550-821f-40d9-bf52-75fb2ff2e9ce"
      },
      "execution_count": 130,
      "outputs": [
        {
          "output_type": "display_data",
          "data": {
            "text/plain": [
              "<Figure size 1600x600 with 6 Axes>"
            ],
            "image/png": "[encoded data removed]"
          },
          "metadata": {}
        }
      ]
    },
    {
      "cell_type": "markdown",
      "source": [
        "#Interpretation of Plot"
      ],
      "metadata": {
        "id": "pP1CukT16Z-n"
      }
    },
    {
      "cell_type": "markdown",
      "source": [
        "####Cluster -1\n",
        "Avg Credit, Total Credit Cards, Total Visits online are high while\n",
        "Total bank visit and Total call made are low\n",
        "\n",
        "####Cluster 0\n",
        "\n",
        "Avg Credit, Total bank visit and total credit cards are low  while \n",
        "Total visit online is moderate and\n",
        "Total calls made is high\n",
        "\n",
        "####Cluster 1\n",
        "Total credit cards and total bank visits are high while\n",
        "Avg Credit, Total visit online and total calls made are low"
      ],
      "metadata": {
        "id": "I0AZKF_G6gks"
      }
    },
    {
      "cell_type": "markdown",
      "source": [
        "#Compare clusters obtained from K-means and DBSCAN clustering techniques"
      ],
      "metadata": {
        "id": "H-bM_ZUJCrAM"
      }
    },
    {
      "cell_type": "markdown",
      "source": [
        "\n",
        "Overall, both clustering techniques have identified similar patterns in terms of customer behavior and characteristics. However, there may be slight differences in the composition of the clusters and the emphasis on certain attributes."
      ],
      "metadata": {
        "id": "F0MDOcydCFXM"
      }
    },
    {
      "cell_type": "markdown",
      "source": [
        "#Dataframes showing the different cluster labels"
      ],
      "metadata": {
        "id": "_W8ob7kF8BMn"
      }
    },
    {
      "cell_type": "code",
      "source": [
        "df_sd.query('db_labels2 == 1')"
      ],
      "metadata": {
        "colab": {
          "base_uri": "https://localhost:8080/",
          "height": 424
        },
        "id": "nizPlpOR7Jgz",
        "outputId": "24fa1aa6-6016-46dd-9ce8-0e618b388427"
      },
      "execution_count": 131,
      "outputs": [
        {
          "output_type": "execute_result",
          "data": {
            "text/plain": [
              "     Customer Key  Avg_Credit_Limit  Total_Credit_Cards  Total_visits_bank  \\\n",
              "3       -0.571901         -0.121665            0.135694          -0.860451   \n",
              "228     -0.011849         -0.653623            1.058973          -0.247170   \n",
              "229     -0.776600         -0.706819            1.058973          -0.247170   \n",
              "230     -0.332175         -0.467438           -0.325946           1.592670   \n",
              "231      1.666783         -0.414242            0.597334           0.366110   \n",
              "..            ...               ...                 ...                ...   \n",
              "607      1.368677         -0.015274            0.597334           0.366110   \n",
              "608     -0.226506          0.330499           -0.325946           0.979390   \n",
              "609     -1.701767          0.091118           -0.325946           0.366110   \n",
              "610     -1.518585          0.117716            1.058973          -0.247170   \n",
              "611      0.995049          0.303901            1.058973           0.979390   \n",
              "\n",
              "     Total_visits_online  Total_calls_made  Kmeans_clusters  db_labels2  \n",
              "3               -0.54749          0.145528                0           1  \n",
              "228             -0.88838         -1.251537                0           1  \n",
              "229             -0.54749          0.145528                0           1  \n",
              "230             -0.88838         -0.553005                0           1  \n",
              "231             -0.20660         -0.203739                0           1  \n",
              "..                   ...               ...              ...         ...  \n",
              "607             -0.54749         -1.251537                0           1  \n",
              "608             -0.54749         -1.251537                0           1  \n",
              "609             -0.20660         -1.251537                0           1  \n",
              "610             -0.54749         -1.251537                0           1  \n",
              "611             -0.54749         -0.203739                0           1  \n",
              "\n",
              "[382 rows x 8 columns]"
            ],
            "text/html": [
              "\n",
              "  <div id=\"df-d7094ced-538d-48b7-a081-1177ed8bf5f3\">\n",
              "    <div class=\"colab-df-container\">\n",
              "      <div>\n",
              "<style scoped>\n",
              "    .dataframe tbody tr th:only-of-type {\n",
              "        vertical-align: middle;\n",
              "    }\n",
              "\n",
              "    .dataframe tbody tr th {\n",
              "        vertical-align: top;\n",
              "    }\n",
              "\n",
              "    .dataframe thead th {\n",
              "        text-align: right;\n",
              "    }\n",
              "</style>\n",
              "<table border=\"1\" class=\"dataframe\">\n",
              "  <thead>\n",
              "    <tr style=\"text-align: right;\">\n",
              "      <th></th>\n",
              "      <th>Customer Key</th>\n",
              "      <th>Avg_Credit_Limit</th>\n",
              "      <th>Total_Credit_Cards</th>\n",
              "      <th>Total_visits_bank</th>\n",
              "      <th>Total_visits_online</th>\n",
              "      <th>Total_calls_made</th>\n",
              "      <th>Kmeans_clusters</th>\n",
              "      <th>db_labels2</th>\n",
              "    </tr>\n",
              "  </thead>\n",
              "  <tbody>\n",
              "    <tr>\n",
              "      <th>3</th>\n",
              "      <td>-0.571901</td>\n",
              "      <td>-0.121665</td>\n",
              "      <td>0.135694</td>\n",
              "      <td>-0.860451</td>\n",
              "      <td>-0.54749</td>\n",
              "      <td>0.145528</td>\n",
              "      <td>0</td>\n",
              "      <td>1</td>\n",
              "    </tr>\n",
              "    <tr>\n",
              "      <th>228</th>\n",
              "      <td>-0.011849</td>\n",
              "      <td>-0.653623</td>\n",
              "      <td>1.058973</td>\n",
              "      <td>-0.247170</td>\n",
              "      <td>-0.88838</td>\n",
              "      <td>-1.251537</td>\n",
              "      <td>0</td>\n",
              "      <td>1</td>\n",
              "    </tr>\n",
              "    <tr>\n",
              "      <th>229</th>\n",
              "      <td>-0.776600</td>\n",
              "      <td>-0.706819</td>\n",
              "      <td>1.058973</td>\n",
              "      <td>-0.247170</td>\n",
              "      <td>-0.54749</td>\n",
              "      <td>0.145528</td>\n",
              "      <td>0</td>\n",
              "      <td>1</td>\n",
              "    </tr>\n",
              "    <tr>\n",
              "      <th>230</th>\n",
              "      <td>-0.332175</td>\n",
              "      <td>-0.467438</td>\n",
              "      <td>-0.325946</td>\n",
              "      <td>1.592670</td>\n",
              "      <td>-0.88838</td>\n",
              "      <td>-0.553005</td>\n",
              "      <td>0</td>\n",
              "      <td>1</td>\n",
              "    </tr>\n",
              "    <tr>\n",
              "      <th>231</th>\n",
              "      <td>1.666783</td>\n",
              "      <td>-0.414242</td>\n",
              "      <td>0.597334</td>\n",
              "      <td>0.366110</td>\n",
              "      <td>-0.20660</td>\n",
              "      <td>-0.203739</td>\n",
              "      <td>0</td>\n",
              "      <td>1</td>\n",
              "    </tr>\n",
              "    <tr>\n",
              "      <th>...</th>\n",
              "      <td>...</td>\n",
              "      <td>...</td>\n",
              "      <td>...</td>\n",
              "      <td>...</td>\n",
              "      <td>...</td>\n",
              "      <td>...</td>\n",
              "      <td>...</td>\n",
              "      <td>...</td>\n",
              "    </tr>\n",
              "    <tr>\n",
              "      <th>607</th>\n",
              "      <td>1.368677</td>\n",
              "      <td>-0.015274</td>\n",
              "      <td>0.597334</td>\n",
              "      <td>0.366110</td>\n",
              "      <td>-0.54749</td>\n",
              "      <td>-1.251537</td>\n",
              "      <td>0</td>\n",
              "      <td>1</td>\n",
              "    </tr>\n",
              "    <tr>\n",
              "      <th>608</th>\n",
              "      <td>-0.226506</td>\n",
              "      <td>0.330499</td>\n",
              "      <td>-0.325946</td>\n",
              "      <td>0.979390</td>\n",
              "      <td>-0.54749</td>\n",
              "      <td>-1.251537</td>\n",
              "      <td>0</td>\n",
              "      <td>1</td>\n",
              "    </tr>\n",
              "    <tr>\n",
              "      <th>609</th>\n",
              "      <td>-1.701767</td>\n",
              "      <td>0.091118</td>\n",
              "      <td>-0.325946</td>\n",
              "      <td>0.366110</td>\n",
              "      <td>-0.20660</td>\n",
              "      <td>-1.251537</td>\n",
              "      <td>0</td>\n",
              "      <td>1</td>\n",
              "    </tr>\n",
              "    <tr>\n",
              "      <th>610</th>\n",
              "      <td>-1.518585</td>\n",
              "      <td>0.117716</td>\n",
              "      <td>1.058973</td>\n",
              "      <td>-0.247170</td>\n",
              "      <td>-0.54749</td>\n",
              "      <td>-1.251537</td>\n",
              "      <td>0</td>\n",
              "      <td>1</td>\n",
              "    </tr>\n",
              "    <tr>\n",
              "      <th>611</th>\n",
              "      <td>0.995049</td>\n",
              "      <td>0.303901</td>\n",
              "      <td>1.058973</td>\n",
              "      <td>0.979390</td>\n",
              "      <td>-0.54749</td>\n",
              "      <td>-0.203739</td>\n",
              "      <td>0</td>\n",
              "      <td>1</td>\n",
              "    </tr>\n",
              "  </tbody>\n",
              "</table>\n",
              "<p>382 rows × 8 columns</p>\n",
              "</div>\n",
              "      <button class=\"colab-df-convert\" onclick=\"convertToInteractive('df-d7094ced-538d-48b7-a081-1177ed8bf5f3')\"\n",
              "              title=\"Convert this dataframe to an interactive table.\"\n",
              "              style=\"display:none;\">\n",
              "        \n",
              "  <svg xmlns=\"http://www.w3.org/2000/svg\" height=\"24px\"viewBox=\"0 0 24 24\"\n",
              "       width=\"24px\">\n",
              "    <path d=\"M0 0h24v24H0V0z\" fill=\"none\"/>\n",
              "    <path d=\"M18.56 5.44l.94 2.06.94-2.06 2.06-.94-2.06-.94-.94-2.06-.94 2.06-2.06.94zm-11 1L8.5 8.5l.94-2.06 2.06-.94-2.06-.94L8.5 2.5l-.94 2.06-2.06.94zm10 10l.94 2.06.94-2.06 2.06-.94-2.06-.94-.94-2.06-.94 2.06-2.06.94z\"/><path d=\"M17.41 7.96l-1.37-1.37c-.4-.4-.92-.59-1.43-.59-.52 0-1.04.2-1.43.59L10.3 9.45l-7.72 7.72c-.78.78-.78 2.05 0 2.83L4 21.41c.39.39.9.59 1.41.59.51 0 1.02-.2 1.41-.59l7.78-7.78 2.81-2.81c.8-.78.8-2.07 0-2.86zM5.41 20L4 18.59l7.72-7.72 1.47 1.35L5.41 20z\"/>\n",
              "  </svg>\n",
              "      </button>\n",
              "      \n",
              "  <style>\n",
              "    .colab-df-container {\n",
              "      display:flex;\n",
              "      flex-wrap:wrap;\n",
              "      gap: 12px;\n",
              "    }\n",
              "\n",
              "    .colab-df-convert {\n",
              "      background-color: #E8F0FE;\n",
              "      border: none;\n",
              "      border-radius: 50%;\n",
              "      cursor: pointer;\n",
              "      display: none;\n",
              "      fill: #1967D2;\n",
              "      height: 32px;\n",
              "      padding: 0 0 0 0;\n",
              "      width: 32px;\n",
              "    }\n",
              "\n",
              "    .colab-df-convert:hover {\n",
              "      background-color: #E2EBFA;\n",
              "      box-shadow: 0px 1px 2px rgba(60, 64, 67, 0.3), 0px 1px 3px 1px rgba(60, 64, 67, 0.15);\n",
              "      fill: #174EA6;\n",
              "    }\n",
              "\n",
              "    [theme=dark] .colab-df-convert {\n",
              "      background-color: #3B4455;\n",
              "      fill: #D2E3FC;\n",
              "    }\n",
              "\n",
              "    [theme=dark] .colab-df-convert:hover {\n",
              "      background-color: #434B5C;\n",
              "      box-shadow: 0px 1px 3px 1px rgba(0, 0, 0, 0.15);\n",
              "      filter: drop-shadow(0px 1px 2px rgba(0, 0, 0, 0.3));\n",
              "      fill: #FFFFFF;\n",
              "    }\n",
              "  </style>\n",
              "\n",
              "      <script>\n",
              "        const buttonEl =\n",
              "          document.querySelector('#df-d7094ced-538d-48b7-a081-1177ed8bf5f3 button.colab-df-convert');\n",
              "        buttonEl.style.display =\n",
              "          google.colab.kernel.accessAllowed ? 'block' : 'none';\n",
              "\n",
              "        async function convertToInteractive(key) {\n",
              "          const element = document.querySelector('#df-d7094ced-538d-48b7-a081-1177ed8bf5f3');\n",
              "          const dataTable =\n",
              "            await google.colab.kernel.invokeFunction('convertToInteractive',\n",
              "                                                     [key], {});\n",
              "          if (!dataTable) return;\n",
              "\n",
              "          const docLinkHtml = 'Like what you see? Visit the ' +\n",
              "            '<a target=\"_blank\" href=https://colab.research.google.com/notebooks/data_table.ipynb>data table notebook</a>'\n",
              "            + ' to learn more about interactive tables.';\n",
              "          element.innerHTML = '';\n",
              "          dataTable['output_type'] = 'display_data';\n",
              "          await google.colab.output.renderOutput(dataTable, element);\n",
              "          const docLink = document.createElement('div');\n",
              "          docLink.innerHTML = docLinkHtml;\n",
              "          element.appendChild(docLink);\n",
              "        }\n",
              "      </script>\n",
              "    </div>\n",
              "  </div>\n",
              "  "
            ]
          },
          "metadata": {},
          "execution_count": 131
        }
      ]
    },
    {
      "cell_type": "code",
      "source": [
        "df_sd.query('db_labels2 == 0')"
      ],
      "metadata": {
        "colab": {
          "base_uri": "https://localhost:8080/",
          "height": 424
        },
        "id": "32z7bb8cYVib",
        "outputId": "3ec1bee6-95fb-4655-d680-769461a79967"
      },
      "execution_count": 132,
      "outputs": [
        {
          "output_type": "execute_result",
          "data": {
            "text/plain": [
              "     Customer Key  Avg_Credit_Limit  Total_Credit_Cards  Total_visits_bank  \\\n",
              "5        0.136383         -0.387644           -0.787585          -1.473731   \n",
              "8        1.067955         -0.786612           -1.249225          -1.473731   \n",
              "9       -0.405002         -0.839808           -0.325946          -1.473731   \n",
              "10      -0.093737         -0.653623           -0.325946          -1.473731   \n",
              "11      -0.109942         -0.573829           -0.787585          -1.473731   \n",
              "..            ...               ...                 ...                ...   \n",
              "224      1.601882         -0.600427           -0.325946          -0.860451   \n",
              "225      0.237913         -0.494036           -0.325946          -0.860451   \n",
              "226      0.027630         -0.706819           -1.710864          -0.247170   \n",
              "227      0.039618         -0.706819           -1.249225          -0.247170   \n",
              "313      0.664414         -0.733417           -0.325946          -0.247170   \n",
              "\n",
              "     Total_visits_online  Total_calls_made  Kmeans_clusters  db_labels2  \n",
              "5               -0.54749          1.542593                1           0  \n",
              "8               -0.20660         -0.553005                1           0  \n",
              "9               -0.54749          1.193326                1           0  \n",
              "10               0.81607          0.494794                1           0  \n",
              "11              -0.20660          1.193326                1           0  \n",
              "..                   ...               ...              ...         ...  \n",
              "224              0.81607          1.891859                1           0  \n",
              "225             -0.20660          0.494794                1           0  \n",
              "226              0.47518          1.542593                1           0  \n",
              "227              0.13429          1.542593                1           0  \n",
              "313             -0.20660          0.145528                1           0  \n",
              "\n",
              "[221 rows x 8 columns]"
            ],
            "text/html": [
              "\n",
              "  <div id=\"df-4def325e-f746-44ff-9f9c-7c837470cdab\">\n",
              "    <div class=\"colab-df-container\">\n",
              "      <div>\n",
              "<style scoped>\n",
              "    .dataframe tbody tr th:only-of-type {\n",
              "        vertical-align: middle;\n",
              "    }\n",
              "\n",
              "    .dataframe tbody tr th {\n",
              "        vertical-align: top;\n",
              "    }\n",
              "\n",
              "    .dataframe thead th {\n",
              "        text-align: right;\n",
              "    }\n",
              "</style>\n",
              "<table border=\"1\" class=\"dataframe\">\n",
              "  <thead>\n",
              "    <tr style=\"text-align: right;\">\n",
              "      <th></th>\n",
              "      <th>Customer Key</th>\n",
              "      <th>Avg_Credit_Limit</th>\n",
              "      <th>Total_Credit_Cards</th>\n",
              "      <th>Total_visits_bank</th>\n",
              "      <th>Total_visits_online</th>\n",
              "      <th>Total_calls_made</th>\n",
              "      <th>Kmeans_clusters</th>\n",
              "      <th>db_labels2</th>\n",
              "    </tr>\n",
              "  </thead>\n",
              "  <tbody>\n",
              "    <tr>\n",
              "      <th>5</th>\n",
              "      <td>0.136383</td>\n",
              "      <td>-0.387644</td>\n",
              "      <td>-0.787585</td>\n",
              "      <td>-1.473731</td>\n",
              "      <td>-0.54749</td>\n",
              "      <td>1.542593</td>\n",
              "      <td>1</td>\n",
              "      <td>0</td>\n",
              "    </tr>\n",
              "    <tr>\n",
              "      <th>8</th>\n",
              "      <td>1.067955</td>\n",
              "      <td>-0.786612</td>\n",
              "      <td>-1.249225</td>\n",
              "      <td>-1.473731</td>\n",
              "      <td>-0.20660</td>\n",
              "      <td>-0.553005</td>\n",
              "      <td>1</td>\n",
              "      <td>0</td>\n",
              "    </tr>\n",
              "    <tr>\n",
              "      <th>9</th>\n",
              "      <td>-0.405002</td>\n",
              "      <td>-0.839808</td>\n",
              "      <td>-0.325946</td>\n",
              "      <td>-1.473731</td>\n",
              "      <td>-0.54749</td>\n",
              "      <td>1.193326</td>\n",
              "      <td>1</td>\n",
              "      <td>0</td>\n",
              "    </tr>\n",
              "    <tr>\n",
              "      <th>10</th>\n",
              "      <td>-0.093737</td>\n",
              "      <td>-0.653623</td>\n",
              "      <td>-0.325946</td>\n",
              "      <td>-1.473731</td>\n",
              "      <td>0.81607</td>\n",
              "      <td>0.494794</td>\n",
              "      <td>1</td>\n",
              "      <td>0</td>\n",
              "    </tr>\n",
              "    <tr>\n",
              "      <th>11</th>\n",
              "      <td>-0.109942</td>\n",
              "      <td>-0.573829</td>\n",
              "      <td>-0.787585</td>\n",
              "      <td>-1.473731</td>\n",
              "      <td>-0.20660</td>\n",
              "      <td>1.193326</td>\n",
              "      <td>1</td>\n",
              "      <td>0</td>\n",
              "    </tr>\n",
              "    <tr>\n",
              "      <th>...</th>\n",
              "      <td>...</td>\n",
              "      <td>...</td>\n",
              "      <td>...</td>\n",
              "      <td>...</td>\n",
              "      <td>...</td>\n",
              "      <td>...</td>\n",
              "      <td>...</td>\n",
              "      <td>...</td>\n",
              "    </tr>\n",
              "    <tr>\n",
              "      <th>224</th>\n",
              "      <td>1.601882</td>\n",
              "      <td>-0.600427</td>\n",
              "      <td>-0.325946</td>\n",
              "      <td>-0.860451</td>\n",
              "      <td>0.81607</td>\n",
              "      <td>1.891859</td>\n",
              "      <td>1</td>\n",
              "      <td>0</td>\n",
              "    </tr>\n",
              "    <tr>\n",
              "      <th>225</th>\n",
              "      <td>0.237913</td>\n",
              "      <td>-0.494036</td>\n",
              "      <td>-0.325946</td>\n",
              "      <td>-0.860451</td>\n",
              "      <td>-0.20660</td>\n",
              "      <td>0.494794</td>\n",
              "      <td>1</td>\n",
              "      <td>0</td>\n",
              "    </tr>\n",
              "    <tr>\n",
              "      <th>226</th>\n",
              "      <td>0.027630</td>\n",
              "      <td>-0.706819</td>\n",
              "      <td>-1.710864</td>\n",
              "      <td>-0.247170</td>\n",
              "      <td>0.47518</td>\n",
              "      <td>1.542593</td>\n",
              "      <td>1</td>\n",
              "      <td>0</td>\n",
              "    </tr>\n",
              "    <tr>\n",
              "      <th>227</th>\n",
              "      <td>0.039618</td>\n",
              "      <td>-0.706819</td>\n",
              "      <td>-1.249225</td>\n",
              "      <td>-0.247170</td>\n",
              "      <td>0.13429</td>\n",
              "      <td>1.542593</td>\n",
              "      <td>1</td>\n",
              "      <td>0</td>\n",
              "    </tr>\n",
              "    <tr>\n",
              "      <th>313</th>\n",
              "      <td>0.664414</td>\n",
              "      <td>-0.733417</td>\n",
              "      <td>-0.325946</td>\n",
              "      <td>-0.247170</td>\n",
              "      <td>-0.20660</td>\n",
              "      <td>0.145528</td>\n",
              "      <td>1</td>\n",
              "      <td>0</td>\n",
              "    </tr>\n",
              "  </tbody>\n",
              "</table>\n",
              "<p>221 rows × 8 columns</p>\n",
              "</div>\n",
              "      <button class=\"colab-df-convert\" onclick=\"convertToInteractive('df-4def325e-f746-44ff-9f9c-7c837470cdab')\"\n",
              "              title=\"Convert this dataframe to an interactive table.\"\n",
              "              style=\"display:none;\">\n",
              "        \n",
              "  <svg xmlns=\"http://www.w3.org/2000/svg\" height=\"24px\"viewBox=\"0 0 24 24\"\n",
              "       width=\"24px\">\n",
              "    <path d=\"M0 0h24v24H0V0z\" fill=\"none\"/>\n",
              "    <path d=\"M18.56 5.44l.94 2.06.94-2.06 2.06-.94-2.06-.94-.94-2.06-.94 2.06-2.06.94zm-11 1L8.5 8.5l.94-2.06 2.06-.94-2.06-.94L8.5 2.5l-.94 2.06-2.06.94zm10 10l.94 2.06.94-2.06 2.06-.94-2.06-.94-.94-2.06-.94 2.06-2.06.94z\"/><path d=\"M17.41 7.96l-1.37-1.37c-.4-.4-.92-.59-1.43-.59-.52 0-1.04.2-1.43.59L10.3 9.45l-7.72 7.72c-.78.78-.78 2.05 0 2.83L4 21.41c.39.39.9.59 1.41.59.51 0 1.02-.2 1.41-.59l7.78-7.78 2.81-2.81c.8-.78.8-2.07 0-2.86zM5.41 20L4 18.59l7.72-7.72 1.47 1.35L5.41 20z\"/>\n",
              "  </svg>\n",
              "      </button>\n",
              "      \n",
              "  <style>\n",
              "    .colab-df-container {\n",
              "      display:flex;\n",
              "      flex-wrap:wrap;\n",
              "      gap: 12px;\n",
              "    }\n",
              "\n",
              "    .colab-df-convert {\n",
              "      background-color: #E8F0FE;\n",
              "      border: none;\n",
              "      border-radius: 50%;\n",
              "      cursor: pointer;\n",
              "      display: none;\n",
              "      fill: #1967D2;\n",
              "      height: 32px;\n",
              "      padding: 0 0 0 0;\n",
              "      width: 32px;\n",
              "    }\n",
              "\n",
              "    .colab-df-convert:hover {\n",
              "      background-color: #E2EBFA;\n",
              "      box-shadow: 0px 1px 2px rgba(60, 64, 67, 0.3), 0px 1px 3px 1px rgba(60, 64, 67, 0.15);\n",
              "      fill: #174EA6;\n",
              "    }\n",
              "\n",
              "    [theme=dark] .colab-df-convert {\n",
              "      background-color: #3B4455;\n",
              "      fill: #D2E3FC;\n",
              "    }\n",
              "\n",
              "    [theme=dark] .colab-df-convert:hover {\n",
              "      background-color: #434B5C;\n",
              "      box-shadow: 0px 1px 3px 1px rgba(0, 0, 0, 0.15);\n",
              "      filter: drop-shadow(0px 1px 2px rgba(0, 0, 0, 0.3));\n",
              "      fill: #FFFFFF;\n",
              "    }\n",
              "  </style>\n",
              "\n",
              "      <script>\n",
              "        const buttonEl =\n",
              "          document.querySelector('#df-4def325e-f746-44ff-9f9c-7c837470cdab button.colab-df-convert');\n",
              "        buttonEl.style.display =\n",
              "          google.colab.kernel.accessAllowed ? 'block' : 'none';\n",
              "\n",
              "        async function convertToInteractive(key) {\n",
              "          const element = document.querySelector('#df-4def325e-f746-44ff-9f9c-7c837470cdab');\n",
              "          const dataTable =\n",
              "            await google.colab.kernel.invokeFunction('convertToInteractive',\n",
              "                                                     [key], {});\n",
              "          if (!dataTable) return;\n",
              "\n",
              "          const docLinkHtml = 'Like what you see? Visit the ' +\n",
              "            '<a target=\"_blank\" href=https://colab.research.google.com/notebooks/data_table.ipynb>data table notebook</a>'\n",
              "            + ' to learn more about interactive tables.';\n",
              "          element.innerHTML = '';\n",
              "          dataTable['output_type'] = 'display_data';\n",
              "          await google.colab.output.renderOutput(dataTable, element);\n",
              "          const docLink = document.createElement('div');\n",
              "          docLink.innerHTML = docLinkHtml;\n",
              "          element.appendChild(docLink);\n",
              "        }\n",
              "      </script>\n",
              "    </div>\n",
              "  </div>\n",
              "  "
            ]
          },
          "metadata": {},
          "execution_count": 132
        }
      ]
    },
    {
      "cell_type": "code",
      "source": [
        "df_sd.query('db_labels2 == -1')"
      ],
      "metadata": {
        "colab": {
          "base_uri": "https://localhost:8080/",
          "height": 1000
        },
        "id": "of6b_mH2YbDI",
        "outputId": "b7895f86-b5af-4ee4-839d-e274d1402c88"
      },
      "execution_count": 133,
      "outputs": [
        {
          "output_type": "execute_result",
          "data": {
            "text/plain": [
              "     Customer Key  Avg_Credit_Limit  Total_Credit_Cards  Total_visits_bank  \\\n",
              "0        1.246920          1.740187           -1.249225          -0.860451   \n",
              "1       -0.653203          0.410293           -0.787585          -1.473731   \n",
              "2       -1.476098          0.410293            1.058973          -0.860451   \n",
              "4       -0.300857          1.740187            0.597334          -1.473731   \n",
              "6       -0.264423          1.740187            0.135694          -1.473731   \n",
              "7       -0.693736         -0.520633           -0.787585          -1.473731   \n",
              "27      -1.573215         -0.680221           -1.249225          -0.247170   \n",
              "431     -1.043935          0.995446            0.597334           1.592670   \n",
              "476     -1.666856          0.942250            0.597334           1.592670   \n",
              "612      1.532686          3.256266            1.982253          -0.860451   \n",
              "613     -0.177420          1.580600            1.982253          -0.860451   \n",
              "614     -0.590528          3.415854            1.520613          -0.860451   \n",
              "615      0.889107          2.564721            1.982253          -0.860451   \n",
              "616      1.354658          1.633795            2.443892          -0.860451   \n",
              "617      1.682051          2.697711            1.520613          -1.473731   \n",
              "618     -0.025243          2.298742            1.058973          -1.473731   \n",
              "619     -0.292539          3.282864            1.058973          -1.473731   \n",
              "620     -0.899490          1.952970            2.443892          -1.473731   \n",
              "621      1.134417          3.495647            1.982253          -0.860451   \n",
              "622     -0.047853          3.761626            2.443892          -0.860451   \n",
              "623     -0.880863          3.495647            2.443892          -1.473731   \n",
              "624      1.645696          3.814822            1.058973          -1.473731   \n",
              "625     -1.359105          1.500806            1.520613          -0.860451   \n",
              "626     -1.544670          3.229668            1.982253          -0.860451   \n",
              "627     -1.348054          2.963690            2.443892          -1.473731   \n",
              "628      0.775823          1.314621            1.982253          -0.860451   \n",
              "629      0.822449          3.203071            1.520613          -1.473731   \n",
              "630     -0.831933          4.399975            2.443892          -1.473731   \n",
              "631     -1.570794          4.266986            1.520613          -1.473731   \n",
              "632      1.671078          4.054203            1.058973          -0.860451   \n",
              "633     -1.521435          3.415854            1.058973          -0.860451   \n",
              "634     -0.220570          1.899774            1.520613          -1.473731   \n",
              "635      0.618258          2.112557            2.443892          -0.860451   \n",
              "636     -0.582796          2.431732            2.443892          -0.860451   \n",
              "637      1.300379          3.681833            1.982253          -0.860451   \n",
              "638     -1.468406          3.149875            1.520613          -0.860451   \n",
              "639      1.393981          3.974409            1.058973          -0.860451   \n",
              "640      1.745585          2.351938            1.520613          -0.860451   \n",
              "641     -1.090638          2.910494            2.443892          -1.473731   \n",
              "642      1.422722          1.660393            2.443892          -0.860451   \n",
              "643      0.197145          1.686991            1.982253          -1.473731   \n",
              "644     -1.430098          2.458330            2.443892          -0.860451   \n",
              "645     -0.249116          3.628637            2.443892          -1.473731   \n",
              "646      0.126933          4.027605            1.058973          -1.473731   \n",
              "647      0.968885          3.947811            1.982253          -1.473731   \n",
              "648     -1.633313          2.032764            1.520613          -0.860451   \n",
              "649     -0.959509          2.059361            2.443892          -0.860451   \n",
              "650      0.931515          4.266986            2.443892          -0.860451   \n",
              "651      0.908397          2.591319            1.982253          -0.860451   \n",
              "652     -1.039366          3.229668            1.520613          -0.860451   \n",
              "653     -0.129467          1.607197            2.443892          -1.473731   \n",
              "654      0.414262          3.655235            2.443892          -0.860451   \n",
              "655     -0.157505          1.713589            2.443892          -0.860451   \n",
              "656      0.218310          1.314621            2.443892          -0.860451   \n",
              "657     -0.051055          2.937092            1.520613          -0.860451   \n",
              "658      0.996298          3.655235            2.443892          -0.860451   \n",
              "659      0.976578          3.522245            1.982253          -1.473731   \n",
              "\n",
              "     Total_visits_online  Total_calls_made  Kmeans_clusters  db_labels2  \n",
              "0              -0.547490         -1.251537                0          -1  \n",
              "1               2.520519          1.891859                1          -1  \n",
              "2               0.134290          0.145528                0          -1  \n",
              "4               3.202298         -0.203739                2          -1  \n",
              "6               2.861408         -0.553005                2          -1  \n",
              "7              -0.547490         -0.902271                1          -1  \n",
              "27             -0.206600          2.241125                1          -1  \n",
              "431            -0.206600         -0.203739                0          -1  \n",
              "476            -0.888380          0.145528                0          -1  \n",
              "612             3.884078         -0.902271                2          -1  \n",
              "613             2.861408         -1.251537                2          -1  \n",
              "614             1.497849         -0.902271                2          -1  \n",
              "615             2.520519         -0.902271                2          -1  \n",
              "616             2.861408         -0.553005                2          -1  \n",
              "617             3.543188         -1.251537                2          -1  \n",
              "618             3.543188         -0.553005                2          -1  \n",
              "619             3.543188         -1.251537                2          -1  \n",
              "620             4.224968         -0.902271                2          -1  \n",
              "621             3.202298         -0.553005                2          -1  \n",
              "622             4.224968         -0.553005                2          -1  \n",
              "623             1.497849         -1.251537                2          -1  \n",
              "624             2.861408         -1.251537                2          -1  \n",
              "625             1.156959         -0.902271                2          -1  \n",
              "626             2.520519         -0.553005                2          -1  \n",
              "627             3.202298         -0.902271                2          -1  \n",
              "628             4.224968         -1.251537                2          -1  \n",
              "629             1.497849         -0.553005                2          -1  \n",
              "630             3.543188         -1.251537                2          -1  \n",
              "631             4.224968         -1.251537                2          -1  \n",
              "632             1.497849         -1.251537                2          -1  \n",
              "633             2.520519         -0.902271                2          -1  \n",
              "634             1.838739         -0.902271                2          -1  \n",
              "635             1.497849         -0.553005                2          -1  \n",
              "636             1.838739         -1.251537                2          -1  \n",
              "637             2.861408         -1.251537                2          -1  \n",
              "638             1.497849         -0.902271                2          -1  \n",
              "639             4.224968         -0.553005                2          -1  \n",
              "640             4.224968         -0.553005                2          -1  \n",
              "641             2.520519         -0.553005                2          -1  \n",
              "642             2.179629         -0.553005                2          -1  \n",
              "643             1.838739         -0.553005                2          -1  \n",
              "644             4.224968         -0.902271                2          -1  \n",
              "645             4.224968         -1.251537                2          -1  \n",
              "646             1.838739         -0.902271                2          -1  \n",
              "647             2.179629         -0.553005                2          -1  \n",
              "648             1.497849         -1.251537                2          -1  \n",
              "649             1.838739         -0.902271                2          -1  \n",
              "650             3.202298         -0.553005                2          -1  \n",
              "651             3.202298         -0.553005                2          -1  \n",
              "652             1.838739         -1.251537                2          -1  \n",
              "653             4.224968         -0.902271                2          -1  \n",
              "654             2.179629         -0.902271                2          -1  \n",
              "655             2.520519         -1.251537                2          -1  \n",
              "656             3.543188         -0.553005                2          -1  \n",
              "657             2.179629         -0.902271                2          -1  \n",
              "658             4.224968         -1.251537                2          -1  \n",
              "659             3.202298         -0.553005                2          -1  "
            ],
            "text/html": [
              "\n",
              "  <div id=\"df-ee5be130-12e5-4334-a7d1-8e37cf1e9621\">\n",
              "    <div class=\"colab-df-container\">\n",
              "      <div>\n",
              "<style scoped>\n",
              "    .dataframe tbody tr th:only-of-type {\n",
              "        vertical-align: middle;\n",
              "    }\n",
              "\n",
              "    .dataframe tbody tr th {\n",
              "        vertical-align: top;\n",
              "    }\n",
              "\n",
              "    .dataframe thead th {\n",
              "        text-align: right;\n",
              "    }\n",
              "</style>\n",
              "<table border=\"1\" class=\"dataframe\">\n",
              "  <thead>\n",
              "    <tr style=\"text-align: right;\">\n",
              "      <th></th>\n",
              "      <th>Customer Key</th>\n",
              "      <th>Avg_Credit_Limit</th>\n",
              "      <th>Total_Credit_Cards</th>\n",
              "      <th>Total_visits_bank</th>\n",
              "      <th>Total_visits_online</th>\n",
              "      <th>Total_calls_made</th>\n",
              "      <th>Kmeans_clusters</th>\n",
              "      <th>db_labels2</th>\n",
              "    </tr>\n",
              "  </thead>\n",
              "  <tbody>\n",
              "    <tr>\n",
              "      <th>0</th>\n",
              "      <td>1.246920</td>\n",
              "      <td>1.740187</td>\n",
              "      <td>-1.249225</td>\n",
              "      <td>-0.860451</td>\n",
              "      <td>-0.547490</td>\n",
              "      <td>-1.251537</td>\n",
              "      <td>0</td>\n",
              "      <td>-1</td>\n",
              "    </tr>\n",
              "    <tr>\n",
              "      <th>1</th>\n",
              "      <td>-0.653203</td>\n",
              "      <td>0.410293</td>\n",
              "      <td>-0.787585</td>\n",
              "      <td>-1.473731</td>\n",
              "      <td>2.520519</td>\n",
              "      <td>1.891859</td>\n",
              "      <td>1</td>\n",
              "      <td>-1</td>\n",
              "    </tr>\n",
              "    <tr>\n",
              "      <th>2</th>\n",
              "      <td>-1.476098</td>\n",
              "      <td>0.410293</td>\n",
              "      <td>1.058973</td>\n",
              "      <td>-0.860451</td>\n",
              "      <td>0.134290</td>\n",
              "      <td>0.145528</td>\n",
              "      <td>0</td>\n",
              "      <td>-1</td>\n",
              "    </tr>\n",
              "    <tr>\n",
              "      <th>4</th>\n",
              "      <td>-0.300857</td>\n",
              "      <td>1.740187</td>\n",
              "      <td>0.597334</td>\n",
              "      <td>-1.473731</td>\n",
              "      <td>3.202298</td>\n",
              "      <td>-0.203739</td>\n",
              "      <td>2</td>\n",
              "      <td>-1</td>\n",
              "    </tr>\n",
              "    <tr>\n",
              "      <th>6</th>\n",
              "      <td>-0.264423</td>\n",
              "      <td>1.740187</td>\n",
              "      <td>0.135694</td>\n",
              "      <td>-1.473731</td>\n",
              "      <td>2.861408</td>\n",
              "      <td>-0.553005</td>\n",
              "      <td>2</td>\n",
              "      <td>-1</td>\n",
              "    </tr>\n",
              "    <tr>\n",
              "      <th>7</th>\n",
              "      <td>-0.693736</td>\n",
              "      <td>-0.520633</td>\n",
              "      <td>-0.787585</td>\n",
              "      <td>-1.473731</td>\n",
              "      <td>-0.547490</td>\n",
              "      <td>-0.902271</td>\n",
              "      <td>1</td>\n",
              "      <td>-1</td>\n",
              "    </tr>\n",
              "    <tr>\n",
              "      <th>27</th>\n",
              "      <td>-1.573215</td>\n",
              "      <td>-0.680221</td>\n",
              "      <td>-1.249225</td>\n",
              "      <td>-0.247170</td>\n",
              "      <td>-0.206600</td>\n",
              "      <td>2.241125</td>\n",
              "      <td>1</td>\n",
              "      <td>-1</td>\n",
              "    </tr>\n",
              "    <tr>\n",
              "      <th>431</th>\n",
              "      <td>-1.043935</td>\n",
              "      <td>0.995446</td>\n",
              "      <td>0.597334</td>\n",
              "      <td>1.592670</td>\n",
              "      <td>-0.206600</td>\n",
              "      <td>-0.203739</td>\n",
              "      <td>0</td>\n",
              "      <td>-1</td>\n",
              "    </tr>\n",
              "    <tr>\n",
              "      <th>476</th>\n",
              "      <td>-1.666856</td>\n",
              "      <td>0.942250</td>\n",
              "      <td>0.597334</td>\n",
              "      <td>1.592670</td>\n",
              "      <td>-0.888380</td>\n",
              "      <td>0.145528</td>\n",
              "      <td>0</td>\n",
              "      <td>-1</td>\n",
              "    </tr>\n",
              "    <tr>\n",
              "      <th>612</th>\n",
              "      <td>1.532686</td>\n",
              "      <td>3.256266</td>\n",
              "      <td>1.982253</td>\n",
              "      <td>-0.860451</td>\n",
              "      <td>3.884078</td>\n",
              "      <td>-0.902271</td>\n",
              "      <td>2</td>\n",
              "      <td>-1</td>\n",
              "    </tr>\n",
              "    <tr>\n",
              "      <th>613</th>\n",
              "      <td>-0.177420</td>\n",
              "      <td>1.580600</td>\n",
              "      <td>1.982253</td>\n",
              "      <td>-0.860451</td>\n",
              "      <td>2.861408</td>\n",
              "      <td>-1.251537</td>\n",
              "      <td>2</td>\n",
              "      <td>-1</td>\n",
              "    </tr>\n",
              "    <tr>\n",
              "      <th>614</th>\n",
              "      <td>-0.590528</td>\n",
              "      <td>3.415854</td>\n",
              "      <td>1.520613</td>\n",
              "      <td>-0.860451</td>\n",
              "      <td>1.497849</td>\n",
              "      <td>-0.902271</td>\n",
              "      <td>2</td>\n",
              "      <td>-1</td>\n",
              "    </tr>\n",
              "    <tr>\n",
              "      <th>615</th>\n",
              "      <td>0.889107</td>\n",
              "      <td>2.564721</td>\n",
              "      <td>1.982253</td>\n",
              "      <td>-0.860451</td>\n",
              "      <td>2.520519</td>\n",
              "      <td>-0.902271</td>\n",
              "      <td>2</td>\n",
              "      <td>-1</td>\n",
              "    </tr>\n",
              "    <tr>\n",
              "      <th>616</th>\n",
              "      <td>1.354658</td>\n",
              "      <td>1.633795</td>\n",
              "      <td>2.443892</td>\n",
              "      <td>-0.860451</td>\n",
              "      <td>2.861408</td>\n",
              "      <td>-0.553005</td>\n",
              "      <td>2</td>\n",
              "      <td>-1</td>\n",
              "    </tr>\n",
              "    <tr>\n",
              "      <th>617</th>\n",
              "      <td>1.682051</td>\n",
              "      <td>2.697711</td>\n",
              "      <td>1.520613</td>\n",
              "      <td>-1.473731</td>\n",
              "      <td>3.543188</td>\n",
              "      <td>-1.251537</td>\n",
              "      <td>2</td>\n",
              "      <td>-1</td>\n",
              "    </tr>\n",
              "    <tr>\n",
              "      <th>618</th>\n",
              "      <td>-0.025243</td>\n",
              "      <td>2.298742</td>\n",
              "      <td>1.058973</td>\n",
              "      <td>-1.473731</td>\n",
              "      <td>3.543188</td>\n",
              "      <td>-0.553005</td>\n",
              "      <td>2</td>\n",
              "      <td>-1</td>\n",
              "    </tr>\n",
              "    <tr>\n",
              "      <th>619</th>\n",
              "      <td>-0.292539</td>\n",
              "      <td>3.282864</td>\n",
              "      <td>1.058973</td>\n",
              "      <td>-1.473731</td>\n",
              "      <td>3.543188</td>\n",
              "      <td>-1.251537</td>\n",
              "      <td>2</td>\n",
              "      <td>-1</td>\n",
              "    </tr>\n",
              "    <tr>\n",
              "      <th>620</th>\n",
              "      <td>-0.899490</td>\n",
              "      <td>1.952970</td>\n",
              "      <td>2.443892</td>\n",
              "      <td>-1.473731</td>\n",
              "      <td>4.224968</td>\n",
              "      <td>-0.902271</td>\n",
              "      <td>2</td>\n",
              "      <td>-1</td>\n",
              "    </tr>\n",
              "    <tr>\n",
              "      <th>621</th>\n",
              "      <td>1.134417</td>\n",
              "      <td>3.495647</td>\n",
              "      <td>1.982253</td>\n",
              "      <td>-0.860451</td>\n",
              "      <td>3.202298</td>\n",
              "      <td>-0.553005</td>\n",
              "      <td>2</td>\n",
              "      <td>-1</td>\n",
              "    </tr>\n",
              "    <tr>\n",
              "      <th>622</th>\n",
              "      <td>-0.047853</td>\n",
              "      <td>3.761626</td>\n",
              "      <td>2.443892</td>\n",
              "      <td>-0.860451</td>\n",
              "      <td>4.224968</td>\n",
              "      <td>-0.553005</td>\n",
              "      <td>2</td>\n",
              "      <td>-1</td>\n",
              "    </tr>\n",
              "    <tr>\n",
              "      <th>623</th>\n",
              "      <td>-0.880863</td>\n",
              "      <td>3.495647</td>\n",
              "      <td>2.443892</td>\n",
              "      <td>-1.473731</td>\n",
              "      <td>1.497849</td>\n",
              "      <td>-1.251537</td>\n",
              "      <td>2</td>\n",
              "      <td>-1</td>\n",
              "    </tr>\n",
              "    <tr>\n",
              "      <th>624</th>\n",
              "      <td>1.645696</td>\n",
              "      <td>3.814822</td>\n",
              "      <td>1.058973</td>\n",
              "      <td>-1.473731</td>\n",
              "      <td>2.861408</td>\n",
              "      <td>-1.251537</td>\n",
              "      <td>2</td>\n",
              "      <td>-1</td>\n",
              "    </tr>\n",
              "    <tr>\n",
              "      <th>625</th>\n",
              "      <td>-1.359105</td>\n",
              "      <td>1.500806</td>\n",
              "      <td>1.520613</td>\n",
              "      <td>-0.860451</td>\n",
              "      <td>1.156959</td>\n",
              "      <td>-0.902271</td>\n",
              "      <td>2</td>\n",
              "      <td>-1</td>\n",
              "    </tr>\n",
              "    <tr>\n",
              "      <th>626</th>\n",
              "      <td>-1.544670</td>\n",
              "      <td>3.229668</td>\n",
              "      <td>1.982253</td>\n",
              "      <td>-0.860451</td>\n",
              "      <td>2.520519</td>\n",
              "      <td>-0.553005</td>\n",
              "      <td>2</td>\n",
              "      <td>-1</td>\n",
              "    </tr>\n",
              "    <tr>\n",
              "      <th>627</th>\n",
              "      <td>-1.348054</td>\n",
              "      <td>2.963690</td>\n",
              "      <td>2.443892</td>\n",
              "      <td>-1.473731</td>\n",
              "      <td>3.202298</td>\n",
              "      <td>-0.902271</td>\n",
              "      <td>2</td>\n",
              "      <td>-1</td>\n",
              "    </tr>\n",
              "    <tr>\n",
              "      <th>628</th>\n",
              "      <td>0.775823</td>\n",
              "      <td>1.314621</td>\n",
              "      <td>1.982253</td>\n",
              "      <td>-0.860451</td>\n",
              "      <td>4.224968</td>\n",
              "      <td>-1.251537</td>\n",
              "      <td>2</td>\n",
              "      <td>-1</td>\n",
              "    </tr>\n",
              "    <tr>\n",
              "      <th>629</th>\n",
              "      <td>0.822449</td>\n",
              "      <td>3.203071</td>\n",
              "      <td>1.520613</td>\n",
              "      <td>-1.473731</td>\n",
              "      <td>1.497849</td>\n",
              "      <td>-0.553005</td>\n",
              "      <td>2</td>\n",
              "      <td>-1</td>\n",
              "    </tr>\n",
              "    <tr>\n",
              "      <th>630</th>\n",
              "      <td>-0.831933</td>\n",
              "      <td>4.399975</td>\n",
              "      <td>2.443892</td>\n",
              "      <td>-1.473731</td>\n",
              "      <td>3.543188</td>\n",
              "      <td>-1.251537</td>\n",
              "      <td>2</td>\n",
              "      <td>-1</td>\n",
              "    </tr>\n",
              "    <tr>\n",
              "      <th>631</th>\n",
              "      <td>-1.570794</td>\n",
              "      <td>4.266986</td>\n",
              "      <td>1.520613</td>\n",
              "      <td>-1.473731</td>\n",
              "      <td>4.224968</td>\n",
              "      <td>-1.251537</td>\n",
              "      <td>2</td>\n",
              "      <td>-1</td>\n",
              "    </tr>\n",
              "    <tr>\n",
              "      <th>632</th>\n",
              "      <td>1.671078</td>\n",
              "      <td>4.054203</td>\n",
              "      <td>1.058973</td>\n",
              "      <td>-0.860451</td>\n",
              "      <td>1.497849</td>\n",
              "      <td>-1.251537</td>\n",
              "      <td>2</td>\n",
              "      <td>-1</td>\n",
              "    </tr>\n",
              "    <tr>\n",
              "      <th>633</th>\n",
              "      <td>-1.521435</td>\n",
              "      <td>3.415854</td>\n",
              "      <td>1.058973</td>\n",
              "      <td>-0.860451</td>\n",
              "      <td>2.520519</td>\n",
              "      <td>-0.902271</td>\n",
              "      <td>2</td>\n",
              "      <td>-1</td>\n",
              "    </tr>\n",
              "    <tr>\n",
              "      <th>634</th>\n",
              "      <td>-0.220570</td>\n",
              "      <td>1.899774</td>\n",
              "      <td>1.520613</td>\n",
              "      <td>-1.473731</td>\n",
              "      <td>1.838739</td>\n",
              "      <td>-0.902271</td>\n",
              "      <td>2</td>\n",
              "      <td>-1</td>\n",
              "    </tr>\n",
              "    <tr>\n",
              "      <th>635</th>\n",
              "      <td>0.618258</td>\n",
              "      <td>2.112557</td>\n",
              "      <td>2.443892</td>\n",
              "      <td>-0.860451</td>\n",
              "      <td>1.497849</td>\n",
              "      <td>-0.553005</td>\n",
              "      <td>2</td>\n",
              "      <td>-1</td>\n",
              "    </tr>\n",
              "    <tr>\n",
              "      <th>636</th>\n",
              "      <td>-0.582796</td>\n",
              "      <td>2.431732</td>\n",
              "      <td>2.443892</td>\n",
              "      <td>-0.860451</td>\n",
              "      <td>1.838739</td>\n",
              "      <td>-1.251537</td>\n",
              "      <td>2</td>\n",
              "      <td>-1</td>\n",
              "    </tr>\n",
              "    <tr>\n",
              "      <th>637</th>\n",
              "      <td>1.300379</td>\n",
              "      <td>3.681833</td>\n",
              "      <td>1.982253</td>\n",
              "      <td>-0.860451</td>\n",
              "      <td>2.861408</td>\n",
              "      <td>-1.251537</td>\n",
              "      <td>2</td>\n",
              "      <td>-1</td>\n",
              "    </tr>\n",
              "    <tr>\n",
              "      <th>638</th>\n",
              "      <td>-1.468406</td>\n",
              "      <td>3.149875</td>\n",
              "      <td>1.520613</td>\n",
              "      <td>-0.860451</td>\n",
              "      <td>1.497849</td>\n",
              "      <td>-0.902271</td>\n",
              "      <td>2</td>\n",
              "      <td>-1</td>\n",
              "    </tr>\n",
              "    <tr>\n",
              "      <th>639</th>\n",
              "      <td>1.393981</td>\n",
              "      <td>3.974409</td>\n",
              "      <td>1.058973</td>\n",
              "      <td>-0.860451</td>\n",
              "      <td>4.224968</td>\n",
              "      <td>-0.553005</td>\n",
              "      <td>2</td>\n",
              "      <td>-1</td>\n",
              "    </tr>\n",
              "    <tr>\n",
              "      <th>640</th>\n",
              "      <td>1.745585</td>\n",
              "      <td>2.351938</td>\n",
              "      <td>1.520613</td>\n",
              "      <td>-0.860451</td>\n",
              "      <td>4.224968</td>\n",
              "      <td>-0.553005</td>\n",
              "      <td>2</td>\n",
              "      <td>-1</td>\n",
              "    </tr>\n",
              "    <tr>\n",
              "      <th>641</th>\n",
              "      <td>-1.090638</td>\n",
              "      <td>2.910494</td>\n",
              "      <td>2.443892</td>\n",
              "      <td>-1.473731</td>\n",
              "      <td>2.520519</td>\n",
              "      <td>-0.553005</td>\n",
              "      <td>2</td>\n",
              "      <td>-1</td>\n",
              "    </tr>\n",
              "    <tr>\n",
              "      <th>642</th>\n",
              "      <td>1.422722</td>\n",
              "      <td>1.660393</td>\n",
              "      <td>2.443892</td>\n",
              "      <td>-0.860451</td>\n",
              "      <td>2.179629</td>\n",
              "      <td>-0.553005</td>\n",
              "      <td>2</td>\n",
              "      <td>-1</td>\n",
              "    </tr>\n",
              "    <tr>\n",
              "      <th>643</th>\n",
              "      <td>0.197145</td>\n",
              "      <td>1.686991</td>\n",
              "      <td>1.982253</td>\n",
              "      <td>-1.473731</td>\n",
              "      <td>1.838739</td>\n",
              "      <td>-0.553005</td>\n",
              "      <td>2</td>\n",
              "      <td>-1</td>\n",
              "    </tr>\n",
              "    <tr>\n",
              "      <th>644</th>\n",
              "      <td>-1.430098</td>\n",
              "      <td>2.458330</td>\n",
              "      <td>2.443892</td>\n",
              "      <td>-0.860451</td>\n",
              "      <td>4.224968</td>\n",
              "      <td>-0.902271</td>\n",
              "      <td>2</td>\n",
              "      <td>-1</td>\n",
              "    </tr>\n",
              "    <tr>\n",
              "      <th>645</th>\n",
              "      <td>-0.249116</td>\n",
              "      <td>3.628637</td>\n",
              "      <td>2.443892</td>\n",
              "      <td>-1.473731</td>\n",
              "      <td>4.224968</td>\n",
              "      <td>-1.251537</td>\n",
              "      <td>2</td>\n",
              "      <td>-1</td>\n",
              "    </tr>\n",
              "    <tr>\n",
              "      <th>646</th>\n",
              "      <td>0.126933</td>\n",
              "      <td>4.027605</td>\n",
              "      <td>1.058973</td>\n",
              "      <td>-1.473731</td>\n",
              "      <td>1.838739</td>\n",
              "      <td>-0.902271</td>\n",
              "      <td>2</td>\n",
              "      <td>-1</td>\n",
              "    </tr>\n",
              "    <tr>\n",
              "      <th>647</th>\n",
              "      <td>0.968885</td>\n",
              "      <td>3.947811</td>\n",
              "      <td>1.982253</td>\n",
              "      <td>-1.473731</td>\n",
              "      <td>2.179629</td>\n",
              "      <td>-0.553005</td>\n",
              "      <td>2</td>\n",
              "      <td>-1</td>\n",
              "    </tr>\n",
              "    <tr>\n",
              "      <th>648</th>\n",
              "      <td>-1.633313</td>\n",
              "      <td>2.032764</td>\n",
              "      <td>1.520613</td>\n",
              "      <td>-0.860451</td>\n",
              "      <td>1.497849</td>\n",
              "      <td>-1.251537</td>\n",
              "      <td>2</td>\n",
              "      <td>-1</td>\n",
              "    </tr>\n",
              "    <tr>\n",
              "      <th>649</th>\n",
              "      <td>-0.959509</td>\n",
              "      <td>2.059361</td>\n",
              "      <td>2.443892</td>\n",
              "      <td>-0.860451</td>\n",
              "      <td>1.838739</td>\n",
              "      <td>-0.902271</td>\n",
              "      <td>2</td>\n",
              "      <td>-1</td>\n",
              "    </tr>\n",
              "    <tr>\n",
              "      <th>650</th>\n",
              "      <td>0.931515</td>\n",
              "      <td>4.266986</td>\n",
              "      <td>2.443892</td>\n",
              "      <td>-0.860451</td>\n",
              "      <td>3.202298</td>\n",
              "      <td>-0.553005</td>\n",
              "      <td>2</td>\n",
              "      <td>-1</td>\n",
              "    </tr>\n",
              "    <tr>\n",
              "      <th>651</th>\n",
              "      <td>0.908397</td>\n",
              "      <td>2.591319</td>\n",
              "      <td>1.982253</td>\n",
              "      <td>-0.860451</td>\n",
              "      <td>3.202298</td>\n",
              "      <td>-0.553005</td>\n",
              "      <td>2</td>\n",
              "      <td>-1</td>\n",
              "    </tr>\n",
              "    <tr>\n",
              "      <th>652</th>\n",
              "      <td>-1.039366</td>\n",
              "      <td>3.229668</td>\n",
              "      <td>1.520613</td>\n",
              "      <td>-0.860451</td>\n",
              "      <td>1.838739</td>\n",
              "      <td>-1.251537</td>\n",
              "      <td>2</td>\n",
              "      <td>-1</td>\n",
              "    </tr>\n",
              "    <tr>\n",
              "      <th>653</th>\n",
              "      <td>-0.129467</td>\n",
              "      <td>1.607197</td>\n",
              "      <td>2.443892</td>\n",
              "      <td>-1.473731</td>\n",
              "      <td>4.224968</td>\n",
              "      <td>-0.902271</td>\n",
              "      <td>2</td>\n",
              "      <td>-1</td>\n",
              "    </tr>\n",
              "    <tr>\n",
              "      <th>654</th>\n",
              "      <td>0.414262</td>\n",
              "      <td>3.655235</td>\n",
              "      <td>2.443892</td>\n",
              "      <td>-0.860451</td>\n",
              "      <td>2.179629</td>\n",
              "      <td>-0.902271</td>\n",
              "      <td>2</td>\n",
              "      <td>-1</td>\n",
              "    </tr>\n",
              "    <tr>\n",
              "      <th>655</th>\n",
              "      <td>-0.157505</td>\n",
              "      <td>1.713589</td>\n",
              "      <td>2.443892</td>\n",
              "      <td>-0.860451</td>\n",
              "      <td>2.520519</td>\n",
              "      <td>-1.251537</td>\n",
              "      <td>2</td>\n",
              "      <td>-1</td>\n",
              "    </tr>\n",
              "    <tr>\n",
              "      <th>656</th>\n",
              "      <td>0.218310</td>\n",
              "      <td>1.314621</td>\n",
              "      <td>2.443892</td>\n",
              "      <td>-0.860451</td>\n",
              "      <td>3.543188</td>\n",
              "      <td>-0.553005</td>\n",
              "      <td>2</td>\n",
              "      <td>-1</td>\n",
              "    </tr>\n",
              "    <tr>\n",
              "      <th>657</th>\n",
              "      <td>-0.051055</td>\n",
              "      <td>2.937092</td>\n",
              "      <td>1.520613</td>\n",
              "      <td>-0.860451</td>\n",
              "      <td>2.179629</td>\n",
              "      <td>-0.902271</td>\n",
              "      <td>2</td>\n",
              "      <td>-1</td>\n",
              "    </tr>\n",
              "    <tr>\n",
              "      <th>658</th>\n",
              "      <td>0.996298</td>\n",
              "      <td>3.655235</td>\n",
              "      <td>2.443892</td>\n",
              "      <td>-0.860451</td>\n",
              "      <td>4.224968</td>\n",
              "      <td>-1.251537</td>\n",
              "      <td>2</td>\n",
              "      <td>-1</td>\n",
              "    </tr>\n",
              "    <tr>\n",
              "      <th>659</th>\n",
              "      <td>0.976578</td>\n",
              "      <td>3.522245</td>\n",
              "      <td>1.982253</td>\n",
              "      <td>-1.473731</td>\n",
              "      <td>3.202298</td>\n",
              "      <td>-0.553005</td>\n",
              "      <td>2</td>\n",
              "      <td>-1</td>\n",
              "    </tr>\n",
              "  </tbody>\n",
              "</table>\n",
              "</div>\n",
              "      <button class=\"colab-df-convert\" onclick=\"convertToInteractive('df-ee5be130-12e5-4334-a7d1-8e37cf1e9621')\"\n",
              "              title=\"Convert this dataframe to an interactive table.\"\n",
              "              style=\"display:none;\">\n",
              "        \n",
              "  <svg xmlns=\"http://www.w3.org/2000/svg\" height=\"24px\"viewBox=\"0 0 24 24\"\n",
              "       width=\"24px\">\n",
              "    <path d=\"M0 0h24v24H0V0z\" fill=\"none\"/>\n",
              "    <path d=\"M18.56 5.44l.94 2.06.94-2.06 2.06-.94-2.06-.94-.94-2.06-.94 2.06-2.06.94zm-11 1L8.5 8.5l.94-2.06 2.06-.94-2.06-.94L8.5 2.5l-.94 2.06-2.06.94zm10 10l.94 2.06.94-2.06 2.06-.94-2.06-.94-.94-2.06-.94 2.06-2.06.94z\"/><path d=\"M17.41 7.96l-1.37-1.37c-.4-.4-.92-.59-1.43-.59-.52 0-1.04.2-1.43.59L10.3 9.45l-7.72 7.72c-.78.78-.78 2.05 0 2.83L4 21.41c.39.39.9.59 1.41.59.51 0 1.02-.2 1.41-.59l7.78-7.78 2.81-2.81c.8-.78.8-2.07 0-2.86zM5.41 20L4 18.59l7.72-7.72 1.47 1.35L5.41 20z\"/>\n",
              "  </svg>\n",
              "      </button>\n",
              "      \n",
              "  <style>\n",
              "    .colab-df-container {\n",
              "      display:flex;\n",
              "      flex-wrap:wrap;\n",
              "      gap: 12px;\n",
              "    }\n",
              "\n",
              "    .colab-df-convert {\n",
              "      background-color: #E8F0FE;\n",
              "      border: none;\n",
              "      border-radius: 50%;\n",
              "      cursor: pointer;\n",
              "      display: none;\n",
              "      fill: #1967D2;\n",
              "      height: 32px;\n",
              "      padding: 0 0 0 0;\n",
              "      width: 32px;\n",
              "    }\n",
              "\n",
              "    .colab-df-convert:hover {\n",
              "      background-color: #E2EBFA;\n",
              "      box-shadow: 0px 1px 2px rgba(60, 64, 67, 0.3), 0px 1px 3px 1px rgba(60, 64, 67, 0.15);\n",
              "      fill: #174EA6;\n",
              "    }\n",
              "\n",
              "    [theme=dark] .colab-df-convert {\n",
              "      background-color: #3B4455;\n",
              "      fill: #D2E3FC;\n",
              "    }\n",
              "\n",
              "    [theme=dark] .colab-df-convert:hover {\n",
              "      background-color: #434B5C;\n",
              "      box-shadow: 0px 1px 3px 1px rgba(0, 0, 0, 0.15);\n",
              "      filter: drop-shadow(0px 1px 2px rgba(0, 0, 0, 0.3));\n",
              "      fill: #FFFFFF;\n",
              "    }\n",
              "  </style>\n",
              "\n",
              "      <script>\n",
              "        const buttonEl =\n",
              "          document.querySelector('#df-ee5be130-12e5-4334-a7d1-8e37cf1e9621 button.colab-df-convert');\n",
              "        buttonEl.style.display =\n",
              "          google.colab.kernel.accessAllowed ? 'block' : 'none';\n",
              "\n",
              "        async function convertToInteractive(key) {\n",
              "          const element = document.querySelector('#df-ee5be130-12e5-4334-a7d1-8e37cf1e9621');\n",
              "          const dataTable =\n",
              "            await google.colab.kernel.invokeFunction('convertToInteractive',\n",
              "                                                     [key], {});\n",
              "          if (!dataTable) return;\n",
              "\n",
              "          const docLinkHtml = 'Like what you see? Visit the ' +\n",
              "            '<a target=\"_blank\" href=https://colab.research.google.com/notebooks/data_table.ipynb>data table notebook</a>'\n",
              "            + ' to learn more about interactive tables.';\n",
              "          element.innerHTML = '';\n",
              "          dataTable['output_type'] = 'display_data';\n",
              "          await google.colab.output.renderOutput(dataTable, element);\n",
              "          const docLink = document.createElement('div');\n",
              "          docLink.innerHTML = docLinkHtml;\n",
              "          element.appendChild(docLink);\n",
              "        }\n",
              "      </script>\n",
              "    </div>\n",
              "  </div>\n",
              "  "
            ]
          },
          "metadata": {},
          "execution_count": 133
        }
      ]
    },
    {
      "cell_type": "markdown",
      "source": [
        "#Recommendations"
      ],
      "metadata": {
        "id": "ZTKDbCll_so5"
      }
    },
    {
      "cell_type": "markdown",
      "source": [
        "Based on the clustering results, we have three identified clusters. Let's interpret each cluster in the context of the problem:\n",
        "\n",
        "Cluster -1:\n",
        "Customers in this cluster have high average credit limit, total credit cards, and total visits online. However, they have low total bank visits and total calls made. This cluster represents a group of customers who prefer online interactions and have higher credit limits and credit card usage. They may require personalized online campaigns and improved online support services to cater to their needs.\n",
        "\n",
        "Cluster 0:\n",
        "Customers in this cluster have low average credit limit, total bank visits, and total credit cards. They have moderate total visits online and high total calls made. This cluster represents customers who have lower credit limits and prefer contacting the bank through phone calls rather than visiting in person or using online channels. To target and serve these customers effectively, the bank may focus on improving call center services and providing personalized offers over the phone.\n",
        "\n",
        "Cluster 1:\n",
        "Customers in this cluster have high total credit cards and total bank visits. However, they have low average credit limit, total visits online, and total calls made. This cluster represents customers who frequently visit the bank and have multiple credit cards but have lower credit limits and prefer face-to-face interactions. The bank can focus on enhancing in-branch services and offering tailored products to meet the needs of these customers.\n",
        "\n",
        "Overall, these cluster insights can guide the bank's marketing and operations teams in developing targeted campaigns and service delivery models. The bank can utilize personalized online campaigns for customers in Cluster -1, improve call center services for customers in Cluster 0, and enhance in-branch services for customers in Cluster 1. By understanding the spending patterns and interaction preferences of each cluster, the bank can effectively market to and serve their customers, ultimately improving customer satisfaction and penetration in the market."
      ],
      "metadata": {
        "id": "ykhVYH1C_TTr"
      }
    }
  ]
}